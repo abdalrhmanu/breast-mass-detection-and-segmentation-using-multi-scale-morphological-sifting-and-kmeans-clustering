{
 "cells": [
  {
   "cell_type": "code",
   "execution_count": 3,
   "id": "f4a74cc0",
   "metadata": {},
   "outputs": [
    {
     "name": "stdout",
     "output_type": "stream",
     "text": [
      "The autoreload extension is already loaded. To reload it, use:\n",
      "  %reload_ext autoreload\n"
     ]
    }
   ],
   "source": [
    "import sys\n",
    "sys.path.append('..\\\\helpers')\n",
    "\n",
    "import numpy as np\n",
    "import skimage.segmentation as seg\n",
    "import skimage.color as color\n",
    "import skimage.io as io\n",
    "import cv2\n",
    "import os\n",
    "import math\n",
    "from morphological_sifter import MorphologicalSifter\n",
    "from display import plot_figures, read_img\n",
    "\n",
    "from skimage.segmentation import slic, felzenszwalb\n",
    "from skimage.segmentation import mark_boundaries\n",
    "from skimage.util import img_as_float\n",
    "from skimage import io\n",
    "import matplotlib.pyplot as plt\n",
    "\n",
    "\n",
    "mms = MorphologicalSifter()\n",
    "\n",
    "# To allow auto reload to this notebook after modifying any external file imported\n",
    "%load_ext autoreload\n",
    "%autoreload 2"
   ]
  },
  {
   "cell_type": "code",
   "execution_count": null,
   "id": "4df7fbcc",
   "metadata": {},
   "outputs": [],
   "source": [
    "# MMs\n",
    "# image_input_name = '20587612_f4b2d377f43ba0bd_MG_R_CC_ANON.tif'\n",
    "# image_input_name = '22670278_98429c0bdf78c0c7_MG_R_CC_ANON.tif'\n",
    "image_input_name = '22613822_45c7f44839fd9e68_MG_R_ML_ANON.tif'\n",
    "\n",
    "normalized_image, enhanced_images, LSE_magnitudes = mms.fit(\n",
    "    image_input_name, \n",
    "    plot=False,\n",
    ")\n",
    "\n",
    "\n",
    "# felzenszwalb segmentation\n",
    "image = normalized_image.copy()\n",
    "\n",
    "img_thresh = image.astype(float)\n",
    "img_thresh_old = img_thresh\n",
    "img_thresh = img_thresh/65535\n",
    "\n",
    "segments = felzenszwalb(img_thresh, scale=3689, min_size=15,sigma=3)\n",
    "\n",
    "numRegions = segments.max()\n",
    "print(\"numRegions\", numRegions)\n",
    "\n",
    "fig = plt.figure()\n",
    "ax = fig.add_subplot(1, 1, 1)\n",
    "ax.imshow(mark_boundaries(image, segments))\n",
    "ax.set_title(f\"Felzenszwalb segmentation {numRegions} region/s\")\n",
    "ax.set_axis_off()"
   ]
  }
 ],
 "metadata": {
  "kernelspec": {
   "display_name": "Python 3 (ipykernel)",
   "language": "python",
   "name": "python3"
  },
  "language_info": {
   "codemirror_mode": {
    "name": "ipython",
    "version": 3
   },
   "file_extension": ".py",
   "mimetype": "text/x-python",
   "name": "python",
   "nbconvert_exporter": "python",
   "pygments_lexer": "ipython3",
   "version": "3.10.4"
  }
 },
 "nbformat": 4,
 "nbformat_minor": 5
}
