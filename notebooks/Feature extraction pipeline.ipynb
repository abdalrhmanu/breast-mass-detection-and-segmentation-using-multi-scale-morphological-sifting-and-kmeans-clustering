{
 "cells": [
  {
   "cell_type": "code",
   "execution_count": 1,
   "id": "994fc396",
   "metadata": {},
   "outputs": [],
   "source": [
    "import sys\n",
    "sys.path.append('..\\\\helpers')\n",
    "\n",
    "import cv2\n",
    "import numpy as np\n",
    "from tqdm import tqdm\n",
    "import os\n",
    "import csv\n",
    "import uuid\n",
    "\n",
    "from preprocessing import Preprocessor\n",
    "from segmentation import Segmentation\n",
    "from feature_extractor import FeatureExtractor\n",
    "\n",
    "fe = FeatureExtractor()\n",
    "preprocessor = Preprocessor()\n",
    "seg = Segmentation()\n",
    "\n",
    "# To allow auto reload to this notebook after modifying any external file imported\n",
    "%load_ext autoreload\n",
    "%autoreload 2"
   ]
  },
  {
   "cell_type": "markdown",
   "id": "17e07608",
   "metadata": {},
   "source": [
    "The code below takes two input images, ground truth and segmentation scale result. It will show the iou per mass on top of the segmentation image and a bounding box.\n",
    "\n",
    "The task is to integrate this approach with feature extraction, so the segmentation result will segment the raw image, then the iou of that segmentation will be calculated as below. Then based on the iou, two csv files will be created (tp, fn), each of them contain the extracted features."
   ]
  },
  {
   "cell_type": "markdown",
   "id": "78da8a61",
   "metadata": {},
   "source": [
    "### 1. Separating Segmented Masses (IOU calculation)"
   ]
  },
  {
   "cell_type": "code",
   "execution_count": 2,
   "id": "1a19de28",
   "metadata": {},
   "outputs": [],
   "source": [
    "def upsample(image):\n",
    "    height, width = image.shape[:2]\n",
    "    new_height = int(height * 4)\n",
    "    new_width = int(width * 4)\n",
    "    \n",
    "    return cv2.resize(image.copy(), (new_width, new_height), interpolation=cv2.INTER_CUBIC)\n",
    "\n",
    "def binarize(image):\n",
    "    threshold = 128\n",
    "    _, binarized_image = cv2.threshold(image, threshold, 255, cv2.THRESH_BINARY)\n",
    "    return binarized_image\n",
    "\n",
    "def show_image(labe, image):    \n",
    "    cv2.imshow(labe, cv2.resize(image, (image.shape[1]//3, image.shape[0]//3)))\n",
    "    cv2.waitKey(0)\n",
    "    cv2.destroyAllWindows()\n",
    "    \n",
    "def convert_to_8bit(image_16bit):\n",
    "    if not isinstance(image_16bit, np.ndarray) or image_16bit.dtype != np.uint16:\n",
    "        raise ValueError(\"Input must be a 16-bit numpy array\")\n",
    "\n",
    "    # Scale the 16-bit image to the range of 0-255\n",
    "    image_8bit = (image_16bit / np.max(image_16bit) * 255).astype(np.uint8)\n",
    "\n",
    "    return image_8bit\n"
   ]
  },
  {
   "cell_type": "code",
   "execution_count": 3,
   "id": "b0bf355c",
   "metadata": {},
   "outputs": [
    {
     "name": "stdout",
     "output_type": "stream",
     "text": [
      "max_iou:  0.6004385448551919\n",
      "max_iou:  0.37717680368281753\n"
     ]
    }
   ],
   "source": [
    "# Load binary image\n",
    "image_gt = cv2.imread('../dataset/processed/groundtruth/22580341_5eae9beae14d26fd_MG_R_CC_ANON.tif', 0)  # Replace with your ground truth image file\n",
    "image_segmentation = cv2.imread('../dataset/output/segmentation/22580341_5eae9beae14d26fd_MG_R_CC_ANON_7.tif', 0)  # Replace with your segmentation image file\n",
    "\n",
    "# upsample gt\n",
    "image_gt = upsample(image_gt)\n",
    "\n",
    "# upsample seg\n",
    "image_segmentation = upsample(image_segmentation)\n",
    "\n",
    "\n",
    "\n",
    "# Threshold the image to convert it into binary format (if necessary)\n",
    "_, binary_image_gt = cv2.threshold(image_gt, 127, 255, cv2.THRESH_BINARY)\n",
    "_, binary_image_segmentation = cv2.threshold(image_segmentation, 127, 255, cv2.THRESH_BINARY)\n",
    "\n",
    "# Find contours of the masses\n",
    "contours_gt, _ = cv2.findContours(binary_image_gt, cv2.RETR_EXTERNAL, cv2.CHAIN_APPROX_SIMPLE)\n",
    "contours_segmentation, _ = cv2.findContours(binary_image_segmentation, cv2.RETR_EXTERNAL, cv2.CHAIN_APPROX_SIMPLE)\n",
    "\n",
    "output_image = image_segmentation\n",
    "\n",
    "# iterate over gt contours\n",
    "for i, contour_gt in enumerate(contours_gt):\n",
    "\n",
    "    gt_candidate = np.zeros_like(binary_image_gt)\n",
    "    cv2.drawContours(gt_candidate, [contour_gt], 0, (255, 255, 255), cv2.FILLED)\n",
    "\n",
    "    max_iou = 0\n",
    "    \n",
    "    # iterate over segmentation contours\n",
    "    for j, contour_segmentation in enumerate(contours_segmentation):\n",
    "        mask_candidate = np.zeros_like(binary_image_segmentation)\n",
    "        cv2.drawContours(mask_candidate, [contour_segmentation], 0, (255, 255, 255), cv2.FILLED)\n",
    "        \n",
    "        # Display the output image\n",
    "        # cv2.imshow(f'mask_candidate {i, j}', cv2.resize(mask_candidate, (800, 1000)))\n",
    "        # cv2.imshow(f'binary_image_gt {i, j}', cv2.resize(binary_image_gt, (800, 1000)))\n",
    "        # cv2.waitKey(0)\n",
    "        # cv2.destroyAllWindows()\n",
    "        \n",
    "        # Compute the intersection and union images\n",
    "        intersection = cv2.bitwise_and(mask_candidate, gt_candidate)\n",
    "        union = cv2.bitwise_or(mask_candidate, gt_candidate)\n",
    "\n",
    "        # Compute the number of white pixels in the intersection and union images\n",
    "        intersection_pixels = cv2.countNonZero(intersection)\n",
    "        union_pixels = cv2.countNonZero(union)\n",
    "\n",
    "        # Compute the IoU\n",
    "        iou = intersection_pixels / union_pixels\n",
    "        \n",
    "        if iou > max_iou:\n",
    "            max_iou = iou\n",
    "            print(\"max_iou: \", max_iou)\n",
    "            \n",
    "            # Get the bounding rectangle of the contour\n",
    "            # let the size be as the contours_segmentation not contours_gt so that the bb is surrounding the full seg mass\n",
    "            x, y, w, h = cv2.boundingRect(contour_segmentation) \n",
    "            \n",
    "            # Draw the bounding box with a random color\n",
    "            cv2.rectangle(output_image, (x, y), (x + w, y + h), (255, 255, 255), 3)\n",
    "    \n",
    "\n",
    "    \n",
    "    # Optionally, display the index of each bounding box\n",
    "    cv2.putText(output_image, \"IOU: \" + str(max_iou), (x, y - 5), cv2.FONT_HERSHEY_SIMPLEX, 1, (255, 255, 255), 4)\n",
    "cv2.putText(output_image, \"Number of masses: \" + str(len(contours_segmentation)), (50, output_image.shape[0] - 50), cv2.FONT_HERSHEY_SIMPLEX, 1, (255, 255, 255), 4)\n",
    "    \n",
    "# Display the output image\n",
    "cv2.imshow('IOU per mass on segmented scale.', cv2.resize(output_image, (output_image.shape[1]//3, output_image.shape[0]//3)))\n",
    "cv2.imshow('Ground Truth image', cv2.resize(image_gt, (image_gt.shape[1]//3, image_gt.shape[0]//3)))\n",
    "cv2.waitKey(0)\n",
    "cv2.destroyAllWindows()"
   ]
  },
  {
   "cell_type": "markdown",
   "id": "13f251a4",
   "metadata": {},
   "source": [
    "### 2. Preprocessing Raw Images (Cropping Only)"
   ]
  },
  {
   "cell_type": "markdown",
   "id": "45328b73",
   "metadata": {},
   "source": [
    "This step is to make sure that the raw positive image and the upscaled segmented scale are the same size"
   ]
  },
  {
   "cell_type": "code",
   "execution_count": 4,
   "id": "9602b2ba",
   "metadata": {},
   "outputs": [
    {
     "name": "stdout",
     "output_type": "stream",
     "text": [
      "(3456, 1952) uint16\n"
     ]
    }
   ],
   "source": [
    "raw = cv2.imread('../dataset/positive_images/20586908_6c613a14b80a8591_MG_R_CC_ANON.tif', cv2.IMREAD_UNCHANGED)\n",
    "\n",
    "cropped_raw = preprocessor.crop_raw(raw)\n",
    "upsampled_raw = upsample(cropped_raw)\n",
    "\n",
    "print(upsampled_raw.shape, upsampled_raw.dtype)\n",
    "\n",
    "cv2.imshow('cropped_raw', cv2.resize(upsampled_raw, (upsampled_raw.shape[1]//3, upsampled_raw.shape[0]//3)))\n",
    "cv2.waitKey(0)\n",
    "cv2.destroyAllWindows()"
   ]
  },
  {
   "cell_type": "markdown",
   "id": "b7c43ed8",
   "metadata": {},
   "source": [
    "The code below preprocess the raw images. Run it only once. "
   ]
  },
  {
   "cell_type": "code",
   "execution_count": 5,
   "id": "3d8f4de5",
   "metadata": {},
   "outputs": [],
   "source": [
    "# positive_images_dir = r\"../dataset/images/\" ## crop all not only positive images\n",
    "# cropped_raw_dir = r\"../dataset/processed/cropped_raw/\"\n",
    "\n",
    "\n",
    "# if not os.path.isdir(cropped_raw_dir):\n",
    "#     os.makedirs(cropped_raw_dir)\n",
    "#     print(f\"New directory created '{cropped_raw_dir}'\")\n",
    "    \n",
    "\n",
    "# for idx, file_name in tqdm(enumerate(os.listdir(positive_images_dir))):\n",
    "#     # read raw image \n",
    "#     input_image = cv2.imread(\n",
    "#         os.path.join(\n",
    "#             positive_images_dir, \n",
    "#             file_name\n",
    "#         ), cv2.IMREAD_UNCHANGED)\n",
    "    \n",
    "#     # create file dir path\n",
    "#     file_dir = os.path.join(cropped_raw_dir, file_name)\n",
    "    \n",
    "#     # crop raw image\n",
    "#     cropped_raw = preprocessor.crop_raw(input_image)\n",
    "    \n",
    "#     # upsample, they were downsampled in the cropping to handle +- dimension approximation\n",
    "#     upsampled_raw = upsample(cropped_raw)\n",
    "    \n",
    "#     # export\n",
    "#     cv2.imwrite(file_dir, upsampled_raw.astype(np.uint16))"
   ]
  },
  {
   "cell_type": "markdown",
   "id": "9d52fa9d",
   "metadata": {},
   "source": [
    "### 3. Exporting all segmentation scales, last updated "
   ]
  },
  {
   "cell_type": "markdown",
   "id": "476d1b72",
   "metadata": {},
   "source": [
    "The code below export all scales segmentations. Run it only once."
   ]
  },
  {
   "cell_type": "code",
   "execution_count": 6,
   "id": "f3b119e9",
   "metadata": {},
   "outputs": [],
   "source": [
    "# positive_images_dir = r\"..\\\\dataset\\\\positive_images\"\n",
    "# segmentation_output_dir = r\"..\\\\dataset\\\\output\\\\segmentation\"\n",
    "\n",
    "# for idx, file_name in tqdm(enumerate(os.listdir(positive_images_dir))):\n",
    "#     input_image = cv2.imread(\n",
    "#         os.path.join(\n",
    "#             os.path.dirname(\"../dataset/processed/positive_images/\"), \n",
    "#             file_name\n",
    "#         ), cv2.IMREAD_UNCHANGED)\n",
    "\n",
    "#     _, _, _, masses = seg.pipeline(input_image)\n",
    "    \n",
    "#     for index, img in enumerate(masses):\n",
    "#         file_dir = os.path.join(segmentation_output_dir, file_name.split('.tif')[0] + '_' + str(index) + '.tif')\n",
    "#         cv2.imwrite(file_dir, masses[index].astype(np.uint8))"
   ]
  },
  {
   "cell_type": "code",
   "execution_count": 7,
   "id": "1d5b1596",
   "metadata": {},
   "outputs": [],
   "source": [
    "# negative_images_dir = r\"..\\\\dataset\\\\negative_images\"\n",
    "# segmentation_output_dir = r\"..\\\\dataset\\\\output\\\\segmentation_negatives\"\n",
    "\n",
    "# if not os.path.isdir(segmentation_output_dir):\n",
    "#     os.makedirs(segmentation_output_dir)\n",
    "#     print(f\"New directory created '{segmentation_output_dir}'\")\n",
    "\n",
    "# for idx, file_name in tqdm(enumerate(os.listdir(negative_images_dir))):\n",
    "#     input_image = cv2.imread(\n",
    "#         os.path.join(\n",
    "#             os.path.dirname(\"../dataset/processed/negative_images/\"), \n",
    "#             file_name\n",
    "#         ), cv2.IMREAD_UNCHANGED)\n",
    "\n",
    "#     _, _, _, masses = seg.pipeline(input_image)\n",
    "    \n",
    "#     for index, img in enumerate(masses):\n",
    "#         file_dir = os.path.join(segmentation_output_dir, file_name.split('.tif')[0] + '_' + str(index) + '.tif')\n",
    "#         cv2.imwrite(file_dir, masses[index].astype(np.uint8))"
   ]
  },
  {
   "cell_type": "markdown",
   "id": "e1e35212",
   "metadata": {},
   "source": [
    "### 4. Exploring masking raw images with the segmented scale result"
   ]
  },
  {
   "cell_type": "code",
   "execution_count": 8,
   "id": "59e3d738",
   "metadata": {},
   "outputs": [
    {
     "name": "stdout",
     "output_type": "stream",
     "text": [
      "uint8\n",
      "uint8\n"
     ]
    }
   ],
   "source": [
    "raw_image = cv2.imread('../dataset/processed/cropped_raw/20586908_6c613a14b80a8591_MG_R_CC_ANON.tif', cv2.IMREAD_GRAYSCALE)\n",
    "binary_mask = cv2.imread('../dataset/output/segmentation/20586908_6c613a14b80a8591_MG_R_CC_ANON_7.tif', cv2.IMREAD_GRAYSCALE)\n",
    "\n",
    "binary_mask = upsample(binary_mask)\n",
    "\n",
    "print(raw_image.dtype)\n",
    "\n",
    "# Apply binary mask to the raw image\n",
    "segmented_image = cv2.bitwise_and(raw_image, binary_mask)\n",
    "\n",
    "print(segmented_image.dtype)\n",
    "\n",
    "# Display the final result\n",
    "cv2.imshow('Segmented Image', cv2.resize(segmented_image, (raw_image.shape[1]//3, raw_image.shape[0]//3)))\n",
    "cv2.imshow('binary_mask Image', cv2.resize(binary_mask, (binary_mask.shape[1]//3, binary_mask.shape[0]//3)))\n",
    "\n",
    "cv2.waitKey(0)\n",
    "cv2.destroyAllWindows()"
   ]
  },
  {
   "cell_type": "markdown",
   "id": "5bf164c6",
   "metadata": {},
   "source": [
    "The code below segment the raw images. Run it only once."
   ]
  },
  {
   "cell_type": "code",
   "execution_count": 9,
   "id": "5779d2ae",
   "metadata": {},
   "outputs": [],
   "source": [
    "# cropped_raw_dir = r\"../dataset/processed/cropped_raw/\"\n",
    "# segmentation_output_regions_dir = r\"..\\\\dataset\\\\output\\\\segmentation-regions\"\n",
    "# positive_images_dir = r\"../dataset/positive_images/\"\n",
    "\n",
    "# if not os.path.isdir(segmentation_output_regions_dir):\n",
    "#     os.makedirs(segmentation_output_regions_dir)\n",
    "#     print(f\"New directory created '{segmentation_output_regions_dir}'\")\n",
    "\n",
    "# for idx, file_name in tqdm(enumerate(os.listdir(positive_images_dir))):\n",
    "#     input_image = cv2.imread(\n",
    "#         os.path.join(\n",
    "#             os.path.dirname(\"../dataset/processed/positive_images/\"), \n",
    "#             file_name\n",
    "#         ), cv2.IMREAD_UNCHANGED)\n",
    "\n",
    "#     _, _, _, masses = seg.pipeline(input_image)\n",
    "    \n",
    "#     for index, img in enumerate(masses):\n",
    "#         file_dir = os.path.join(segmentation_output_regions_dir, file_name.split('.tif')[0] + '_' + str(index) + '.tif')\n",
    "          \n",
    "#         # upsample scale \n",
    "#         binary_mask = upsample(img)\n",
    "        \n",
    "#         # read the cropped raw image \n",
    "#         raw_image = cv2.imread(\n",
    "#             os.path.join(cropped_raw_dir, file_name),\n",
    "#             cv2.IMREAD_GRAYSCALE)\n",
    "        \n",
    "# #         Apply binary mask to the raw image\n",
    "#         segmented_image = cv2.bitwise_and(raw_image, binary_mask)\n",
    "#         cv2.imwrite(file_dir, segmented_image)\n"
   ]
  },
  {
   "cell_type": "markdown",
   "id": "507a3758",
   "metadata": {},
   "source": [
    "### 5. Now we need to integrate everything togather (mask and segmentation iteration, IOU calculation, feature extraction)"
   ]
  },
  {
   "cell_type": "markdown",
   "id": "f24cf0b2",
   "metadata": {},
   "source": [
    "We can try exporting two CSV files (positives and negatives). An IOU threshold to be set to determine which segmentation should be exported to either CSV files. "
   ]
  },
  {
   "cell_type": "code",
   "execution_count": 10,
   "id": "afe8dab2",
   "metadata": {},
   "outputs": [],
   "source": [
    "# # trying feature extraction on a single image\n",
    "# segmentation_image  = r\"../dataset/output/segmentation-regions/20586908_6c613a14b80a8591_MG_R_CC_ANON_2.tif\"\n",
    "\n",
    "# segmentation_image = cv2.imread(segmentation_image, cv2.IMREAD_UNCHANGED)\n",
    "\n",
    "# mask = np.zeros_like(segmentation_image, dtype=np.uint8)\n",
    "\n",
    "\n",
    "\n",
    "# contours_segmentation, _ = cv2.findContours(segmentation_image, cv2.RETR_EXTERNAL, cv2.CHAIN_APPROX_SIMPLE)\n",
    "\n",
    "\n",
    "# # Extract texture features for each region\n",
    "# texture_features = []\n",
    "\n",
    "\n",
    "# # for region_label in np.unique(segmentation_image):\n",
    "# #     region_mask = np.zeros_like(segmentation_image)\n",
    "# #     region_mask[segmentation_image == region_label] = 255\n",
    "    \n",
    "\n",
    "# cv2.imshow('Segmented Image', cv2.resize(mask, (mask.shape[1]//3, mask.shape[0]//3)))\n",
    "# cv2.waitKey(0)\n",
    "# cv2.destroyAllWindows()\n",
    "\n"
   ]
  },
  {
   "cell_type": "code",
   "execution_count": 16,
   "id": "2ed74c7c",
   "metadata": {},
   "outputs": [
    {
     "name": "stdout",
     "output_type": "stream",
     "text": [
      "New csv file created:  output-748343c6-bedf-41c0-9696-0ab3a3085ba3.csv\n"
     ]
    }
   ],
   "source": [
    "## Create a new CSV file\n",
    "\n",
    "file_id = str(uuid.uuid4()) \n",
    "csv_filename = 'output-'+file_id+'.csv'\n",
    "\n",
    "print(\"New csv file created: \", csv_filename)"
   ]
  },
  {
   "cell_type": "markdown",
   "id": "3ad71141",
   "metadata": {},
   "source": [
    "Extracting features from positive images"
   ]
  },
  {
   "cell_type": "code",
   "execution_count": 17,
   "id": "a46590c2",
   "metadata": {},
   "outputs": [
    {
     "name": "stderr",
     "output_type": "stream",
     "text": [
      "1it [00:34, 34.97s/it]"
     ]
    },
    {
     "name": "stdout",
     "output_type": "stream",
     "text": [
      "[]\n"
     ]
    },
    {
     "name": "stderr",
     "output_type": "stream",
     "text": [
      "\r",
      "2it [00:54, 25.60s/it]"
     ]
    },
    {
     "name": "stdout",
     "output_type": "stream",
     "text": [
      "[0, 0.6548204440470868]\n"
     ]
    },
    {
     "name": "stderr",
     "output_type": "stream",
     "text": [
      "\r",
      "3it [01:53, 41.18s/it]"
     ]
    },
    {
     "name": "stdout",
     "output_type": "stream",
     "text": [
      "[0, 0.6548204440470868, 0.36697748464862406]\n"
     ]
    },
    {
     "name": "stderr",
     "output_type": "stream",
     "text": [
      "\r",
      "4it [02:21, 36.07s/it]"
     ]
    },
    {
     "name": "stdout",
     "output_type": "stream",
     "text": [
      "[0, 0.6548204440470868, 0.36697748464862406, 0.6933685688330994, 0.7680387588298384]\n"
     ]
    },
    {
     "name": "stderr",
     "output_type": "stream",
     "text": [
      "\r",
      "5it [02:32, 26.95s/it]"
     ]
    },
    {
     "name": "stdout",
     "output_type": "stream",
     "text": [
      "[0, 0.6548204440470868, 0.36697748464862406, 0.6933685688330994, 0.7680387588298384, 0.6127588627588627]\n"
     ]
    },
    {
     "name": "stderr",
     "output_type": "stream",
     "text": [
      "\r",
      "6it [03:03, 28.17s/it]"
     ]
    },
    {
     "name": "stdout",
     "output_type": "stream",
     "text": [
      "[0, 0.6548204440470868, 0.36697748464862406, 0.6933685688330994, 0.7680387588298384, 0.6127588627588627, 0.7252385865359814]\n"
     ]
    },
    {
     "name": "stderr",
     "output_type": "stream",
     "text": [
      "\r",
      "7it [03:09, 20.96s/it]"
     ]
    },
    {
     "name": "stdout",
     "output_type": "stream",
     "text": [
      "[0, 0.6548204440470868, 0.36697748464862406, 0.6933685688330994, 0.7680387588298384, 0.6127588627588627, 0.7252385865359814, 0.0003047597938715576, 0.7408958901698495]\n"
     ]
    },
    {
     "name": "stderr",
     "output_type": "stream",
     "text": [
      "\r",
      "8it [03:16, 16.53s/it]"
     ]
    },
    {
     "name": "stdout",
     "output_type": "stream",
     "text": [
      "[0, 0.6548204440470868, 0.36697748464862406, 0.6933685688330994, 0.7680387588298384, 0.6127588627588627, 0.7252385865359814, 0.0003047597938715576, 0.7408958901698495, 0.6626438168798777]\n"
     ]
    },
    {
     "name": "stderr",
     "output_type": "stream",
     "text": [
      "\r",
      "9it [03:21, 12.85s/it]"
     ]
    },
    {
     "name": "stdout",
     "output_type": "stream",
     "text": [
      "[0, 0.6548204440470868, 0.36697748464862406, 0.6933685688330994, 0.7680387588298384, 0.6127588627588627, 0.7252385865359814, 0.0003047597938715576, 0.7408958901698495, 0.6626438168798777, 0.24205674283319775]\n"
     ]
    },
    {
     "name": "stderr",
     "output_type": "stream",
     "text": [
      "\r",
      "10it [03:28, 11.19s/it]"
     ]
    },
    {
     "name": "stdout",
     "output_type": "stream",
     "text": [
      "[0, 0.6548204440470868, 0.36697748464862406, 0.6933685688330994, 0.7680387588298384, 0.6127588627588627, 0.7252385865359814, 0.0003047597938715576, 0.7408958901698495, 0.6626438168798777, 0.24205674283319775, 0.6371020830735412]\n"
     ]
    },
    {
     "name": "stderr",
     "output_type": "stream",
     "text": [
      "\r",
      "11it [03:39, 11.06s/it]"
     ]
    },
    {
     "name": "stdout",
     "output_type": "stream",
     "text": [
      "[0, 0.6548204440470868, 0.36697748464862406, 0.6933685688330994, 0.7680387588298384, 0.6127588627588627, 0.7252385865359814, 0.0003047597938715576, 0.7408958901698495, 0.6626438168798777, 0.24205674283319775, 0.6371020830735412, 0.7369217717334406]\n"
     ]
    },
    {
     "name": "stderr",
     "output_type": "stream",
     "text": [
      "\r",
      "12it [03:48, 10.33s/it]"
     ]
    },
    {
     "name": "stdout",
     "output_type": "stream",
     "text": [
      "[0, 0.6548204440470868, 0.36697748464862406, 0.6933685688330994, 0.7680387588298384, 0.6127588627588627, 0.7252385865359814, 0.0003047597938715576, 0.7408958901698495, 0.6626438168798777, 0.24205674283319775, 0.6371020830735412, 0.7369217717334406, 6.248828344685372e-05, 0.2231300381178529]\n"
     ]
    },
    {
     "name": "stderr",
     "output_type": "stream",
     "text": [
      "\r",
      "13it [03:50,  8.06s/it]"
     ]
    },
    {
     "name": "stdout",
     "output_type": "stream",
     "text": [
      "[0, 0.6548204440470868, 0.36697748464862406, 0.6933685688330994, 0.7680387588298384, 0.6127588627588627, 0.7252385865359814, 0.0003047597938715576, 0.7408958901698495, 0.6626438168798777, 0.24205674283319775, 0.6371020830735412, 0.7369217717334406, 6.248828344685372e-05, 0.2231300381178529, 0.24178662442316964]\n"
     ]
    },
    {
     "name": "stderr",
     "output_type": "stream",
     "text": [
      "\r",
      "14it [04:00,  8.42s/it]"
     ]
    },
    {
     "name": "stdout",
     "output_type": "stream",
     "text": [
      "[0, 0.6548204440470868, 0.36697748464862406, 0.6933685688330994, 0.7680387588298384, 0.6127588627588627, 0.7252385865359814, 0.0003047597938715576, 0.7408958901698495, 0.6626438168798777, 0.24205674283319775, 0.6371020830735412, 0.7369217717334406, 6.248828344685372e-05, 0.2231300381178529, 0.24178662442316964, 0.6828319113905104]\n"
     ]
    },
    {
     "name": "stderr",
     "output_type": "stream",
     "text": [
      "\r",
      "15it [04:04,  7.30s/it]"
     ]
    },
    {
     "name": "stdout",
     "output_type": "stream",
     "text": [
      "[0, 0.6548204440470868, 0.36697748464862406, 0.6933685688330994, 0.7680387588298384, 0.6127588627588627, 0.7252385865359814, 0.0003047597938715576, 0.7408958901698495, 0.6626438168798777, 0.24205674283319775, 0.6371020830735412, 0.7369217717334406, 6.248828344685372e-05, 0.2231300381178529, 0.24178662442316964, 0.6828319113905104, 0.6439461333169729]\n"
     ]
    },
    {
     "name": "stderr",
     "output_type": "stream",
     "text": [
      "\r",
      "16it [04:07,  6.01s/it]"
     ]
    },
    {
     "name": "stdout",
     "output_type": "stream",
     "text": [
      "[0, 0.6548204440470868, 0.36697748464862406, 0.6933685688330994, 0.7680387588298384, 0.6127588627588627, 0.7252385865359814, 0.0003047597938715576, 0.7408958901698495, 0.6626438168798777, 0.24205674283319775, 0.6371020830735412, 0.7369217717334406, 6.248828344685372e-05, 0.2231300381178529, 0.24178662442316964, 0.6828319113905104, 0.6439461333169729, 0.04739088189906457]\n"
     ]
    },
    {
     "name": "stderr",
     "output_type": "stream",
     "text": [
      "\r",
      "17it [04:24,  9.25s/it]"
     ]
    },
    {
     "name": "stdout",
     "output_type": "stream",
     "text": [
      "[0, 0.6548204440470868, 0.36697748464862406, 0.6933685688330994, 0.7680387588298384, 0.6127588627588627, 0.7252385865359814, 0.0003047597938715576, 0.7408958901698495, 0.6626438168798777, 0.24205674283319775, 0.6371020830735412, 0.7369217717334406, 6.248828344685372e-05, 0.2231300381178529, 0.24178662442316964, 0.6828319113905104, 0.6439461333169729, 0.04739088189906457, 0.46654842485008624]\n"
     ]
    },
    {
     "name": "stderr",
     "output_type": "stream",
     "text": [
      "\r",
      "18it [04:39, 10.78s/it]"
     ]
    },
    {
     "name": "stdout",
     "output_type": "stream",
     "text": [
      "[0, 0.6548204440470868, 0.36697748464862406, 0.6933685688330994, 0.7680387588298384, 0.6127588627588627, 0.7252385865359814, 0.0003047597938715576, 0.7408958901698495, 0.6626438168798777, 0.24205674283319775, 0.6371020830735412, 0.7369217717334406, 6.248828344685372e-05, 0.2231300381178529, 0.24178662442316964, 0.6828319113905104, 0.6439461333169729, 0.04739088189906457, 0.46654842485008624, 0.7540482697738963]\n"
     ]
    },
    {
     "name": "stderr",
     "output_type": "stream",
     "text": [
      "\r",
      "19it [05:03, 14.95s/it]"
     ]
    },
    {
     "name": "stdout",
     "output_type": "stream",
     "text": [
      "[0, 0.6548204440470868, 0.36697748464862406, 0.6933685688330994, 0.7680387588298384, 0.6127588627588627, 0.7252385865359814, 0.0003047597938715576, 0.7408958901698495, 0.6626438168798777, 0.24205674283319775, 0.6371020830735412, 0.7369217717334406, 6.248828344685372e-05, 0.2231300381178529, 0.24178662442316964, 0.6828319113905104, 0.6439461333169729, 0.04739088189906457, 0.46654842485008624, 0.7540482697738963, 0.8339769493596491]\n"
     ]
    },
    {
     "name": "stderr",
     "output_type": "stream",
     "text": [
      "\r",
      "20it [05:09, 12.29s/it]"
     ]
    },
    {
     "name": "stdout",
     "output_type": "stream",
     "text": [
      "[0, 0.6548204440470868, 0.36697748464862406, 0.6933685688330994, 0.7680387588298384, 0.6127588627588627, 0.7252385865359814, 0.0003047597938715576, 0.7408958901698495, 0.6626438168798777, 0.24205674283319775, 0.6371020830735412, 0.7369217717334406, 6.248828344685372e-05, 0.2231300381178529, 0.24178662442316964, 0.6828319113905104, 0.6439461333169729, 0.04739088189906457, 0.46654842485008624, 0.7540482697738963, 0.8339769493596491, 0.1846355827792001]\n"
     ]
    },
    {
     "name": "stderr",
     "output_type": "stream",
     "text": [
      "\r",
      "21it [05:15, 10.36s/it]"
     ]
    },
    {
     "name": "stdout",
     "output_type": "stream",
     "text": [
      "[0, 0.6548204440470868, 0.36697748464862406, 0.6933685688330994, 0.7680387588298384, 0.6127588627588627, 0.7252385865359814, 0.0003047597938715576, 0.7408958901698495, 0.6626438168798777, 0.24205674283319775, 0.6371020830735412, 0.7369217717334406, 6.248828344685372e-05, 0.2231300381178529, 0.24178662442316964, 0.6828319113905104, 0.6439461333169729, 0.04739088189906457, 0.46654842485008624, 0.7540482697738963, 0.8339769493596491, 0.1846355827792001, 0.8203670534485892]\n"
     ]
    },
    {
     "name": "stderr",
     "output_type": "stream",
     "text": [
      "\r",
      "22it [05:21,  9.01s/it]"
     ]
    },
    {
     "name": "stdout",
     "output_type": "stream",
     "text": [
      "[0, 0.6548204440470868, 0.36697748464862406, 0.6933685688330994, 0.7680387588298384, 0.6127588627588627, 0.7252385865359814, 0.0003047597938715576, 0.7408958901698495, 0.6626438168798777, 0.24205674283319775, 0.6371020830735412, 0.7369217717334406, 6.248828344685372e-05, 0.2231300381178529, 0.24178662442316964, 0.6828319113905104, 0.6439461333169729, 0.04739088189906457, 0.46654842485008624, 0.7540482697738963, 0.8339769493596491, 0.1846355827792001, 0.8203670534485892, 0.7047907380932358]\n"
     ]
    },
    {
     "name": "stderr",
     "output_type": "stream",
     "text": [
      "\r",
      "23it [05:33,  9.85s/it]"
     ]
    },
    {
     "name": "stdout",
     "output_type": "stream",
     "text": [
      "[0, 0.6548204440470868, 0.36697748464862406, 0.6933685688330994, 0.7680387588298384, 0.6127588627588627, 0.7252385865359814, 0.0003047597938715576, 0.7408958901698495, 0.6626438168798777, 0.24205674283319775, 0.6371020830735412, 0.7369217717334406, 6.248828344685372e-05, 0.2231300381178529, 0.24178662442316964, 0.6828319113905104, 0.6439461333169729, 0.04739088189906457, 0.46654842485008624, 0.7540482697738963, 0.8339769493596491, 0.1846355827792001, 0.8203670534485892, 0.7047907380932358, 0.7972200349207436, 0.5005495713343592]\n"
     ]
    },
    {
     "name": "stderr",
     "output_type": "stream",
     "text": [
      "\r",
      "24it [05:40,  8.94s/it]"
     ]
    },
    {
     "name": "stdout",
     "output_type": "stream",
     "text": [
      "[0, 0.6548204440470868, 0.36697748464862406, 0.6933685688330994, 0.7680387588298384, 0.6127588627588627, 0.7252385865359814, 0.0003047597938715576, 0.7408958901698495, 0.6626438168798777, 0.24205674283319775, 0.6371020830735412, 0.7369217717334406, 6.248828344685372e-05, 0.2231300381178529, 0.24178662442316964, 0.6828319113905104, 0.6439461333169729, 0.04739088189906457, 0.46654842485008624, 0.7540482697738963, 0.8339769493596491, 0.1846355827792001, 0.8203670534485892, 0.7047907380932358, 0.7972200349207436, 0.5005495713343592, 0.8391121362349664, 0.7638112463005591]\n"
     ]
    },
    {
     "name": "stderr",
     "output_type": "stream",
     "text": [
      "\r",
      "25it [05:45,  7.75s/it]"
     ]
    },
    {
     "name": "stdout",
     "output_type": "stream",
     "text": [
      "[0, 0.6548204440470868, 0.36697748464862406, 0.6933685688330994, 0.7680387588298384, 0.6127588627588627, 0.7252385865359814, 0.0003047597938715576, 0.7408958901698495, 0.6626438168798777, 0.24205674283319775, 0.6371020830735412, 0.7369217717334406, 6.248828344685372e-05, 0.2231300381178529, 0.24178662442316964, 0.6828319113905104, 0.6439461333169729, 0.04739088189906457, 0.46654842485008624, 0.7540482697738963, 0.8339769493596491, 0.1846355827792001, 0.8203670534485892, 0.7047907380932358, 0.7972200349207436, 0.5005495713343592, 0.8391121362349664, 0.7638112463005591, 0.7436311655737531]\n"
     ]
    },
    {
     "name": "stderr",
     "output_type": "stream",
     "text": [
      "\r",
      "26it [05:47,  6.09s/it]"
     ]
    },
    {
     "name": "stdout",
     "output_type": "stream",
     "text": [
      "[0, 0.6548204440470868, 0.36697748464862406, 0.6933685688330994, 0.7680387588298384, 0.6127588627588627, 0.7252385865359814, 0.0003047597938715576, 0.7408958901698495, 0.6626438168798777, 0.24205674283319775, 0.6371020830735412, 0.7369217717334406, 6.248828344685372e-05, 0.2231300381178529, 0.24178662442316964, 0.6828319113905104, 0.6439461333169729, 0.04739088189906457, 0.46654842485008624, 0.7540482697738963, 0.8339769493596491, 0.1846355827792001, 0.8203670534485892, 0.7047907380932358, 0.7972200349207436, 0.5005495713343592, 0.8391121362349664, 0.7638112463005591, 0.7436311655737531, 0.7655913283337643]\n"
     ]
    },
    {
     "name": "stderr",
     "output_type": "stream",
     "text": [
      "\r",
      "27it [05:53,  6.10s/it]"
     ]
    },
    {
     "name": "stdout",
     "output_type": "stream",
     "text": [
      "[0, 0.6548204440470868, 0.36697748464862406, 0.6933685688330994, 0.7680387588298384, 0.6127588627588627, 0.7252385865359814, 0.0003047597938715576, 0.7408958901698495, 0.6626438168798777, 0.24205674283319775, 0.6371020830735412, 0.7369217717334406, 6.248828344685372e-05, 0.2231300381178529, 0.24178662442316964, 0.6828319113905104, 0.6439461333169729, 0.04739088189906457, 0.46654842485008624, 0.7540482697738963, 0.8339769493596491, 0.1846355827792001, 0.8203670534485892, 0.7047907380932358, 0.7972200349207436, 0.5005495713343592, 0.8391121362349664, 0.7638112463005591, 0.7436311655737531, 0.7655913283337643, 0.013401452618335018]\n"
     ]
    },
    {
     "name": "stderr",
     "output_type": "stream",
     "text": [
      "\r",
      "28it [05:57,  5.63s/it]"
     ]
    },
    {
     "name": "stdout",
     "output_type": "stream",
     "text": [
      "[0, 0.6548204440470868, 0.36697748464862406, 0.6933685688330994, 0.7680387588298384, 0.6127588627588627, 0.7252385865359814, 0.0003047597938715576, 0.7408958901698495, 0.6626438168798777, 0.24205674283319775, 0.6371020830735412, 0.7369217717334406, 6.248828344685372e-05, 0.2231300381178529, 0.24178662442316964, 0.6828319113905104, 0.6439461333169729, 0.04739088189906457, 0.46654842485008624, 0.7540482697738963, 0.8339769493596491, 0.1846355827792001, 0.8203670534485892, 0.7047907380932358, 0.7972200349207436, 0.5005495713343592, 0.8391121362349664, 0.7638112463005591, 0.7436311655737531, 0.7655913283337643, 0.013401452618335018, 0.7344119815310597]\n"
     ]
    },
    {
     "name": "stderr",
     "output_type": "stream",
     "text": [
      "\r",
      "29it [06:00,  4.72s/it]"
     ]
    },
    {
     "name": "stdout",
     "output_type": "stream",
     "text": [
      "[0, 0.6548204440470868, 0.36697748464862406, 0.6933685688330994, 0.7680387588298384, 0.6127588627588627, 0.7252385865359814, 0.0003047597938715576, 0.7408958901698495, 0.6626438168798777, 0.24205674283319775, 0.6371020830735412, 0.7369217717334406, 6.248828344685372e-05, 0.2231300381178529, 0.24178662442316964, 0.6828319113905104, 0.6439461333169729, 0.04739088189906457, 0.46654842485008624, 0.7540482697738963, 0.8339769493596491, 0.1846355827792001, 0.8203670534485892, 0.7047907380932358, 0.7972200349207436, 0.5005495713343592, 0.8391121362349664, 0.7638112463005591, 0.7436311655737531, 0.7655913283337643, 0.013401452618335018, 0.7344119815310597, 0.690811736406507, 0.4259724668214454]\n"
     ]
    },
    {
     "name": "stderr",
     "output_type": "stream",
     "text": [
      "\r",
      "30it [06:06,  5.20s/it]"
     ]
    },
    {
     "name": "stdout",
     "output_type": "stream",
     "text": [
      "[0, 0.6548204440470868, 0.36697748464862406, 0.6933685688330994, 0.7680387588298384, 0.6127588627588627, 0.7252385865359814, 0.0003047597938715576, 0.7408958901698495, 0.6626438168798777, 0.24205674283319775, 0.6371020830735412, 0.7369217717334406, 6.248828344685372e-05, 0.2231300381178529, 0.24178662442316964, 0.6828319113905104, 0.6439461333169729, 0.04739088189906457, 0.46654842485008624, 0.7540482697738963, 0.8339769493596491, 0.1846355827792001, 0.8203670534485892, 0.7047907380932358, 0.7972200349207436, 0.5005495713343592, 0.8391121362349664, 0.7638112463005591, 0.7436311655737531, 0.7655913283337643, 0.013401452618335018, 0.7344119815310597, 0.690811736406507, 0.4259724668214454, 0.001355197181189863, 0.7735618006442281]\n"
     ]
    },
    {
     "name": "stderr",
     "output_type": "stream",
     "text": [
      "\r",
      "31it [06:13,  5.64s/it]"
     ]
    },
    {
     "name": "stdout",
     "output_type": "stream",
     "text": [
      "[0, 0.6548204440470868, 0.36697748464862406, 0.6933685688330994, 0.7680387588298384, 0.6127588627588627, 0.7252385865359814, 0.0003047597938715576, 0.7408958901698495, 0.6626438168798777, 0.24205674283319775, 0.6371020830735412, 0.7369217717334406, 6.248828344685372e-05, 0.2231300381178529, 0.24178662442316964, 0.6828319113905104, 0.6439461333169729, 0.04739088189906457, 0.46654842485008624, 0.7540482697738963, 0.8339769493596491, 0.1846355827792001, 0.8203670534485892, 0.7047907380932358, 0.7972200349207436, 0.5005495713343592, 0.8391121362349664, 0.7638112463005591, 0.7436311655737531, 0.7655913283337643, 0.013401452618335018, 0.7344119815310597, 0.690811736406507, 0.4259724668214454, 0.001355197181189863, 0.7735618006442281, 0.7415006262097233]\n"
     ]
    },
    {
     "name": "stderr",
     "output_type": "stream",
     "text": [
      "\r",
      "32it [06:22,  6.65s/it]"
     ]
    },
    {
     "name": "stdout",
     "output_type": "stream",
     "text": [
      "[0, 0.6548204440470868, 0.36697748464862406, 0.6933685688330994, 0.7680387588298384, 0.6127588627588627, 0.7252385865359814, 0.0003047597938715576, 0.7408958901698495, 0.6626438168798777, 0.24205674283319775, 0.6371020830735412, 0.7369217717334406, 6.248828344685372e-05, 0.2231300381178529, 0.24178662442316964, 0.6828319113905104, 0.6439461333169729, 0.04739088189906457, 0.46654842485008624, 0.7540482697738963, 0.8339769493596491, 0.1846355827792001, 0.8203670534485892, 0.7047907380932358, 0.7972200349207436, 0.5005495713343592, 0.8391121362349664, 0.7638112463005591, 0.7436311655737531, 0.7655913283337643, 0.013401452618335018, 0.7344119815310597, 0.690811736406507, 0.4259724668214454, 0.001355197181189863, 0.7735618006442281, 0.7415006262097233, 0.823390533570024]\n"
     ]
    },
    {
     "name": "stderr",
     "output_type": "stream",
     "text": [
      "\r",
      "33it [06:25,  5.69s/it]"
     ]
    },
    {
     "name": "stdout",
     "output_type": "stream",
     "text": [
      "[0, 0.6548204440470868, 0.36697748464862406, 0.6933685688330994, 0.7680387588298384, 0.6127588627588627, 0.7252385865359814, 0.0003047597938715576, 0.7408958901698495, 0.6626438168798777, 0.24205674283319775, 0.6371020830735412, 0.7369217717334406, 6.248828344685372e-05, 0.2231300381178529, 0.24178662442316964, 0.6828319113905104, 0.6439461333169729, 0.04739088189906457, 0.46654842485008624, 0.7540482697738963, 0.8339769493596491, 0.1846355827792001, 0.8203670534485892, 0.7047907380932358, 0.7972200349207436, 0.5005495713343592, 0.8391121362349664, 0.7638112463005591, 0.7436311655737531, 0.7655913283337643, 0.013401452618335018, 0.7344119815310597, 0.690811736406507, 0.4259724668214454, 0.001355197181189863, 0.7735618006442281, 0.7415006262097233, 0.823390533570024, 0.9036922057310288]\n"
     ]
    },
    {
     "name": "stderr",
     "output_type": "stream",
     "text": [
      "\r",
      "34it [06:43,  9.10s/it]"
     ]
    },
    {
     "name": "stdout",
     "output_type": "stream",
     "text": [
      "[0, 0.6548204440470868, 0.36697748464862406, 0.6933685688330994, 0.7680387588298384, 0.6127588627588627, 0.7252385865359814, 0.0003047597938715576, 0.7408958901698495, 0.6626438168798777, 0.24205674283319775, 0.6371020830735412, 0.7369217717334406, 6.248828344685372e-05, 0.2231300381178529, 0.24178662442316964, 0.6828319113905104, 0.6439461333169729, 0.04739088189906457, 0.46654842485008624, 0.7540482697738963, 0.8339769493596491, 0.1846355827792001, 0.8203670534485892, 0.7047907380932358, 0.7972200349207436, 0.5005495713343592, 0.8391121362349664, 0.7638112463005591, 0.7436311655737531, 0.7655913283337643, 0.013401452618335018, 0.7344119815310597, 0.690811736406507, 0.4259724668214454, 0.001355197181189863, 0.7735618006442281, 0.7415006262097233, 0.823390533570024, 0.9036922057310288, 0]\n"
     ]
    },
    {
     "name": "stderr",
     "output_type": "stream",
     "text": [
      "\r",
      "35it [06:47,  7.78s/it]"
     ]
    },
    {
     "name": "stdout",
     "output_type": "stream",
     "text": [
      "[0, 0.6548204440470868, 0.36697748464862406, 0.6933685688330994, 0.7680387588298384, 0.6127588627588627, 0.7252385865359814, 0.0003047597938715576, 0.7408958901698495, 0.6626438168798777, 0.24205674283319775, 0.6371020830735412, 0.7369217717334406, 6.248828344685372e-05, 0.2231300381178529, 0.24178662442316964, 0.6828319113905104, 0.6439461333169729, 0.04739088189906457, 0.46654842485008624, 0.7540482697738963, 0.8339769493596491, 0.1846355827792001, 0.8203670534485892, 0.7047907380932358, 0.7972200349207436, 0.5005495713343592, 0.8391121362349664, 0.7638112463005591, 0.7436311655737531, 0.7655913283337643, 0.013401452618335018, 0.7344119815310597, 0.690811736406507, 0.4259724668214454, 0.001355197181189863, 0.7735618006442281, 0.7415006262097233, 0.823390533570024, 0.9036922057310288, 0, 0.8596660297111306]\n"
     ]
    },
    {
     "name": "stderr",
     "output_type": "stream",
     "text": [
      "\r",
      "36it [06:55,  7.78s/it]"
     ]
    },
    {
     "name": "stdout",
     "output_type": "stream",
     "text": [
      "[0, 0.6548204440470868, 0.36697748464862406, 0.6933685688330994, 0.7680387588298384, 0.6127588627588627, 0.7252385865359814, 0.0003047597938715576, 0.7408958901698495, 0.6626438168798777, 0.24205674283319775, 0.6371020830735412, 0.7369217717334406, 6.248828344685372e-05, 0.2231300381178529, 0.24178662442316964, 0.6828319113905104, 0.6439461333169729, 0.04739088189906457, 0.46654842485008624, 0.7540482697738963, 0.8339769493596491, 0.1846355827792001, 0.8203670534485892, 0.7047907380932358, 0.7972200349207436, 0.5005495713343592, 0.8391121362349664, 0.7638112463005591, 0.7436311655737531, 0.7655913283337643, 0.013401452618335018, 0.7344119815310597, 0.690811736406507, 0.4259724668214454, 0.001355197181189863, 0.7735618006442281, 0.7415006262097233, 0.823390533570024, 0.9036922057310288, 0, 0.8596660297111306, 0.6924840910393855]\n"
     ]
    },
    {
     "name": "stderr",
     "output_type": "stream",
     "text": [
      "\r",
      "37it [07:06,  8.63s/it]"
     ]
    },
    {
     "name": "stdout",
     "output_type": "stream",
     "text": [
      "[0, 0.6548204440470868, 0.36697748464862406, 0.6933685688330994, 0.7680387588298384, 0.6127588627588627, 0.7252385865359814, 0.0003047597938715576, 0.7408958901698495, 0.6626438168798777, 0.24205674283319775, 0.6371020830735412, 0.7369217717334406, 6.248828344685372e-05, 0.2231300381178529, 0.24178662442316964, 0.6828319113905104, 0.6439461333169729, 0.04739088189906457, 0.46654842485008624, 0.7540482697738963, 0.8339769493596491, 0.1846355827792001, 0.8203670534485892, 0.7047907380932358, 0.7972200349207436, 0.5005495713343592, 0.8391121362349664, 0.7638112463005591, 0.7436311655737531, 0.7655913283337643, 0.013401452618335018, 0.7344119815310597, 0.690811736406507, 0.4259724668214454, 0.001355197181189863, 0.7735618006442281, 0.7415006262097233, 0.823390533570024, 0.9036922057310288, 0, 0.8596660297111306, 0.6924840910393855, 0.43135153598189696]\n"
     ]
    },
    {
     "name": "stderr",
     "output_type": "stream",
     "text": [
      "\r",
      "38it [07:20, 10.31s/it]"
     ]
    },
    {
     "name": "stdout",
     "output_type": "stream",
     "text": [
      "[0, 0.6548204440470868, 0.36697748464862406, 0.6933685688330994, 0.7680387588298384, 0.6127588627588627, 0.7252385865359814, 0.0003047597938715576, 0.7408958901698495, 0.6626438168798777, 0.24205674283319775, 0.6371020830735412, 0.7369217717334406, 6.248828344685372e-05, 0.2231300381178529, 0.24178662442316964, 0.6828319113905104, 0.6439461333169729, 0.04739088189906457, 0.46654842485008624, 0.7540482697738963, 0.8339769493596491, 0.1846355827792001, 0.8203670534485892, 0.7047907380932358, 0.7972200349207436, 0.5005495713343592, 0.8391121362349664, 0.7638112463005591, 0.7436311655737531, 0.7655913283337643, 0.013401452618335018, 0.7344119815310597, 0.690811736406507, 0.4259724668214454, 0.001355197181189863, 0.7735618006442281, 0.7415006262097233, 0.823390533570024, 0.9036922057310288, 0, 0.8596660297111306, 0.6924840910393855, 0.43135153598189696, 0.7888557231478747]\n"
     ]
    },
    {
     "name": "stderr",
     "output_type": "stream",
     "text": [
      "\r",
      "39it [07:37, 12.38s/it]"
     ]
    },
    {
     "name": "stdout",
     "output_type": "stream",
     "text": [
      "[0, 0.6548204440470868, 0.36697748464862406, 0.6933685688330994, 0.7680387588298384, 0.6127588627588627, 0.7252385865359814, 0.0003047597938715576, 0.7408958901698495, 0.6626438168798777, 0.24205674283319775, 0.6371020830735412, 0.7369217717334406, 6.248828344685372e-05, 0.2231300381178529, 0.24178662442316964, 0.6828319113905104, 0.6439461333169729, 0.04739088189906457, 0.46654842485008624, 0.7540482697738963, 0.8339769493596491, 0.1846355827792001, 0.8203670534485892, 0.7047907380932358, 0.7972200349207436, 0.5005495713343592, 0.8391121362349664, 0.7638112463005591, 0.7436311655737531, 0.7655913283337643, 0.013401452618335018, 0.7344119815310597, 0.690811736406507, 0.4259724668214454, 0.001355197181189863, 0.7735618006442281, 0.7415006262097233, 0.823390533570024, 0.9036922057310288, 0, 0.8596660297111306, 0.6924840910393855, 0.43135153598189696, 0.7888557231478747, 0.4825931183667951, 0.6083284404498441]\n"
     ]
    },
    {
     "name": "stderr",
     "output_type": "stream",
     "text": [
      "\r",
      "40it [07:58, 14.94s/it]"
     ]
    },
    {
     "name": "stdout",
     "output_type": "stream",
     "text": [
      "[0, 0.6548204440470868, 0.36697748464862406, 0.6933685688330994, 0.7680387588298384, 0.6127588627588627, 0.7252385865359814, 0.0003047597938715576, 0.7408958901698495, 0.6626438168798777, 0.24205674283319775, 0.6371020830735412, 0.7369217717334406, 6.248828344685372e-05, 0.2231300381178529, 0.24178662442316964, 0.6828319113905104, 0.6439461333169729, 0.04739088189906457, 0.46654842485008624, 0.7540482697738963, 0.8339769493596491, 0.1846355827792001, 0.8203670534485892, 0.7047907380932358, 0.7972200349207436, 0.5005495713343592, 0.8391121362349664, 0.7638112463005591, 0.7436311655737531, 0.7655913283337643, 0.013401452618335018, 0.7344119815310597, 0.690811736406507, 0.4259724668214454, 0.001355197181189863, 0.7735618006442281, 0.7415006262097233, 0.823390533570024, 0.9036922057310288, 0, 0.8596660297111306, 0.6924840910393855, 0.43135153598189696, 0.7888557231478747, 0.4825931183667951, 0.6083284404498441, 0.8195015968554231]\n"
     ]
    },
    {
     "name": "stderr",
     "output_type": "stream",
     "text": [
      "\r",
      "41it [08:19, 16.67s/it]"
     ]
    },
    {
     "name": "stdout",
     "output_type": "stream",
     "text": [
      "[0, 0.6548204440470868, 0.36697748464862406, 0.6933685688330994, 0.7680387588298384, 0.6127588627588627, 0.7252385865359814, 0.0003047597938715576, 0.7408958901698495, 0.6626438168798777, 0.24205674283319775, 0.6371020830735412, 0.7369217717334406, 6.248828344685372e-05, 0.2231300381178529, 0.24178662442316964, 0.6828319113905104, 0.6439461333169729, 0.04739088189906457, 0.46654842485008624, 0.7540482697738963, 0.8339769493596491, 0.1846355827792001, 0.8203670534485892, 0.7047907380932358, 0.7972200349207436, 0.5005495713343592, 0.8391121362349664, 0.7638112463005591, 0.7436311655737531, 0.7655913283337643, 0.013401452618335018, 0.7344119815310597, 0.690811736406507, 0.4259724668214454, 0.001355197181189863, 0.7735618006442281, 0.7415006262097233, 0.823390533570024, 0.9036922057310288, 0, 0.8596660297111306, 0.6924840910393855, 0.43135153598189696, 0.7888557231478747, 0.4825931183667951, 0.6083284404498441, 0.8195015968554231, 0.8574138242490926]\n"
     ]
    },
    {
     "name": "stderr",
     "output_type": "stream",
     "text": [
      "\r",
      "42it [08:21, 12.37s/it]"
     ]
    },
    {
     "name": "stdout",
     "output_type": "stream",
     "text": [
      "[0, 0.6548204440470868, 0.36697748464862406, 0.6933685688330994, 0.7680387588298384, 0.6127588627588627, 0.7252385865359814, 0.0003047597938715576, 0.7408958901698495, 0.6626438168798777, 0.24205674283319775, 0.6371020830735412, 0.7369217717334406, 6.248828344685372e-05, 0.2231300381178529, 0.24178662442316964, 0.6828319113905104, 0.6439461333169729, 0.04739088189906457, 0.46654842485008624, 0.7540482697738963, 0.8339769493596491, 0.1846355827792001, 0.8203670534485892, 0.7047907380932358, 0.7972200349207436, 0.5005495713343592, 0.8391121362349664, 0.7638112463005591, 0.7436311655737531, 0.7655913283337643, 0.013401452618335018, 0.7344119815310597, 0.690811736406507, 0.4259724668214454, 0.001355197181189863, 0.7735618006442281, 0.7415006262097233, 0.823390533570024, 0.9036922057310288, 0, 0.8596660297111306, 0.6924840910393855, 0.43135153598189696, 0.7888557231478747, 0.4825931183667951, 0.6083284404498441, 0.8195015968554231, 0.8574138242490926, 0.809812633363538]\n"
     ]
    },
    {
     "name": "stderr",
     "output_type": "stream",
     "text": [
      "\r",
      "43it [08:27, 10.56s/it]"
     ]
    },
    {
     "name": "stdout",
     "output_type": "stream",
     "text": [
      "[0, 0.6548204440470868, 0.36697748464862406, 0.6933685688330994, 0.7680387588298384, 0.6127588627588627, 0.7252385865359814, 0.0003047597938715576, 0.7408958901698495, 0.6626438168798777, 0.24205674283319775, 0.6371020830735412, 0.7369217717334406, 6.248828344685372e-05, 0.2231300381178529, 0.24178662442316964, 0.6828319113905104, 0.6439461333169729, 0.04739088189906457, 0.46654842485008624, 0.7540482697738963, 0.8339769493596491, 0.1846355827792001, 0.8203670534485892, 0.7047907380932358, 0.7972200349207436, 0.5005495713343592, 0.8391121362349664, 0.7638112463005591, 0.7436311655737531, 0.7655913283337643, 0.013401452618335018, 0.7344119815310597, 0.690811736406507, 0.4259724668214454, 0.001355197181189863, 0.7735618006442281, 0.7415006262097233, 0.823390533570024, 0.9036922057310288, 0, 0.8596660297111306, 0.6924840910393855, 0.43135153598189696, 0.7888557231478747, 0.4825931183667951, 0.6083284404498441, 0.8195015968554231, 0.8574138242490926, 0.809812633363538, 0.7472780469087247]\n"
     ]
    },
    {
     "name": "stderr",
     "output_type": "stream",
     "text": [
      "\r",
      "44it [08:34,  9.40s/it]"
     ]
    },
    {
     "name": "stdout",
     "output_type": "stream",
     "text": [
      "[0, 0.6548204440470868, 0.36697748464862406, 0.6933685688330994, 0.7680387588298384, 0.6127588627588627, 0.7252385865359814, 0.0003047597938715576, 0.7408958901698495, 0.6626438168798777, 0.24205674283319775, 0.6371020830735412, 0.7369217717334406, 6.248828344685372e-05, 0.2231300381178529, 0.24178662442316964, 0.6828319113905104, 0.6439461333169729, 0.04739088189906457, 0.46654842485008624, 0.7540482697738963, 0.8339769493596491, 0.1846355827792001, 0.8203670534485892, 0.7047907380932358, 0.7972200349207436, 0.5005495713343592, 0.8391121362349664, 0.7638112463005591, 0.7436311655737531, 0.7655913283337643, 0.013401452618335018, 0.7344119815310597, 0.690811736406507, 0.4259724668214454, 0.001355197181189863, 0.7735618006442281, 0.7415006262097233, 0.823390533570024, 0.9036922057310288, 0, 0.8596660297111306, 0.6924840910393855, 0.43135153598189696, 0.7888557231478747, 0.4825931183667951, 0.6083284404498441, 0.8195015968554231, 0.8574138242490926, 0.809812633363538, 0.7472780469087247, 0.678177274935795]\n"
     ]
    },
    {
     "name": "stderr",
     "output_type": "stream",
     "text": [
      "\r",
      "45it [08:40,  8.36s/it]"
     ]
    },
    {
     "name": "stdout",
     "output_type": "stream",
     "text": [
      "[0, 0.6548204440470868, 0.36697748464862406, 0.6933685688330994, 0.7680387588298384, 0.6127588627588627, 0.7252385865359814, 0.0003047597938715576, 0.7408958901698495, 0.6626438168798777, 0.24205674283319775, 0.6371020830735412, 0.7369217717334406, 6.248828344685372e-05, 0.2231300381178529, 0.24178662442316964, 0.6828319113905104, 0.6439461333169729, 0.04739088189906457, 0.46654842485008624, 0.7540482697738963, 0.8339769493596491, 0.1846355827792001, 0.8203670534485892, 0.7047907380932358, 0.7972200349207436, 0.5005495713343592, 0.8391121362349664, 0.7638112463005591, 0.7436311655737531, 0.7655913283337643, 0.013401452618335018, 0.7344119815310597, 0.690811736406507, 0.4259724668214454, 0.001355197181189863, 0.7735618006442281, 0.7415006262097233, 0.823390533570024, 0.9036922057310288, 0, 0.8596660297111306, 0.6924840910393855, 0.43135153598189696, 0.7888557231478747, 0.4825931183667951, 0.6083284404498441, 0.8195015968554231, 0.8574138242490926, 0.809812633363538, 0.7472780469087247, 0.678177274935795, 0.8975682868253191]\n"
     ]
    },
    {
     "name": "stderr",
     "output_type": "stream",
     "text": [
      "\r",
      "46it [08:51,  9.15s/it]"
     ]
    },
    {
     "name": "stdout",
     "output_type": "stream",
     "text": [
      "[0, 0.6548204440470868, 0.36697748464862406, 0.6933685688330994, 0.7680387588298384, 0.6127588627588627, 0.7252385865359814, 0.0003047597938715576, 0.7408958901698495, 0.6626438168798777, 0.24205674283319775, 0.6371020830735412, 0.7369217717334406, 6.248828344685372e-05, 0.2231300381178529, 0.24178662442316964, 0.6828319113905104, 0.6439461333169729, 0.04739088189906457, 0.46654842485008624, 0.7540482697738963, 0.8339769493596491, 0.1846355827792001, 0.8203670534485892, 0.7047907380932358, 0.7972200349207436, 0.5005495713343592, 0.8391121362349664, 0.7638112463005591, 0.7436311655737531, 0.7655913283337643, 0.013401452618335018, 0.7344119815310597, 0.690811736406507, 0.4259724668214454, 0.001355197181189863, 0.7735618006442281, 0.7415006262097233, 0.823390533570024, 0.9036922057310288, 0, 0.8596660297111306, 0.6924840910393855, 0.43135153598189696, 0.7888557231478747, 0.4825931183667951, 0.6083284404498441, 0.8195015968554231, 0.8574138242490926, 0.809812633363538, 0.7472780469087247, 0.678177274935795, 0.8975682868253191, 0.7067268875654502]\n"
     ]
    },
    {
     "name": "stderr",
     "output_type": "stream",
     "text": [
      "\r",
      "47it [09:12, 12.72s/it]"
     ]
    },
    {
     "name": "stdout",
     "output_type": "stream",
     "text": [
      "[0, 0.6548204440470868, 0.36697748464862406, 0.6933685688330994, 0.7680387588298384, 0.6127588627588627, 0.7252385865359814, 0.0003047597938715576, 0.7408958901698495, 0.6626438168798777, 0.24205674283319775, 0.6371020830735412, 0.7369217717334406, 6.248828344685372e-05, 0.2231300381178529, 0.24178662442316964, 0.6828319113905104, 0.6439461333169729, 0.04739088189906457, 0.46654842485008624, 0.7540482697738963, 0.8339769493596491, 0.1846355827792001, 0.8203670534485892, 0.7047907380932358, 0.7972200349207436, 0.5005495713343592, 0.8391121362349664, 0.7638112463005591, 0.7436311655737531, 0.7655913283337643, 0.013401452618335018, 0.7344119815310597, 0.690811736406507, 0.4259724668214454, 0.001355197181189863, 0.7735618006442281, 0.7415006262097233, 0.823390533570024, 0.9036922057310288, 0, 0.8596660297111306, 0.6924840910393855, 0.43135153598189696, 0.7888557231478747, 0.4825931183667951, 0.6083284404498441, 0.8195015968554231, 0.8574138242490926, 0.809812633363538, 0.7472780469087247, 0.678177274935795, 0.8975682868253191, 0.7067268875654502, 0.6964956830878618]\n"
     ]
    },
    {
     "name": "stderr",
     "output_type": "stream",
     "text": [
      "\r",
      "48it [09:21, 11.66s/it]"
     ]
    },
    {
     "name": "stdout",
     "output_type": "stream",
     "text": [
      "[0, 0.6548204440470868, 0.36697748464862406, 0.6933685688330994, 0.7680387588298384, 0.6127588627588627, 0.7252385865359814, 0.0003047597938715576, 0.7408958901698495, 0.6626438168798777, 0.24205674283319775, 0.6371020830735412, 0.7369217717334406, 6.248828344685372e-05, 0.2231300381178529, 0.24178662442316964, 0.6828319113905104, 0.6439461333169729, 0.04739088189906457, 0.46654842485008624, 0.7540482697738963, 0.8339769493596491, 0.1846355827792001, 0.8203670534485892, 0.7047907380932358, 0.7972200349207436, 0.5005495713343592, 0.8391121362349664, 0.7638112463005591, 0.7436311655737531, 0.7655913283337643, 0.013401452618335018, 0.7344119815310597, 0.690811736406507, 0.4259724668214454, 0.001355197181189863, 0.7735618006442281, 0.7415006262097233, 0.823390533570024, 0.9036922057310288, 0, 0.8596660297111306, 0.6924840910393855, 0.43135153598189696, 0.7888557231478747, 0.4825931183667951, 0.6083284404498441, 0.8195015968554231, 0.8574138242490926, 0.809812633363538, 0.7472780469087247, 0.678177274935795, 0.8975682868253191, 0.7067268875654502, 0.6964956830878618, 0.6602183194682865]\n"
     ]
    },
    {
     "name": "stderr",
     "output_type": "stream",
     "text": [
      "\r",
      "49it [09:26,  9.52s/it]"
     ]
    },
    {
     "name": "stdout",
     "output_type": "stream",
     "text": [
      "[0, 0.6548204440470868, 0.36697748464862406, 0.6933685688330994, 0.7680387588298384, 0.6127588627588627, 0.7252385865359814, 0.0003047597938715576, 0.7408958901698495, 0.6626438168798777, 0.24205674283319775, 0.6371020830735412, 0.7369217717334406, 6.248828344685372e-05, 0.2231300381178529, 0.24178662442316964, 0.6828319113905104, 0.6439461333169729, 0.04739088189906457, 0.46654842485008624, 0.7540482697738963, 0.8339769493596491, 0.1846355827792001, 0.8203670534485892, 0.7047907380932358, 0.7972200349207436, 0.5005495713343592, 0.8391121362349664, 0.7638112463005591, 0.7436311655737531, 0.7655913283337643, 0.013401452618335018, 0.7344119815310597, 0.690811736406507, 0.4259724668214454, 0.001355197181189863, 0.7735618006442281, 0.7415006262097233, 0.823390533570024, 0.9036922057310288, 0, 0.8596660297111306, 0.6924840910393855, 0.43135153598189696, 0.7888557231478747, 0.4825931183667951, 0.6083284404498441, 0.8195015968554231, 0.8574138242490926, 0.809812633363538, 0.7472780469087247, 0.678177274935795, 0.8975682868253191, 0.7067268875654502, 0.6964956830878618, 0.6602183194682865, 0.7568272545817456]\n"
     ]
    },
    {
     "name": "stderr",
     "output_type": "stream",
     "text": [
      "\r",
      "50it [09:27,  6.90s/it]"
     ]
    },
    {
     "name": "stdout",
     "output_type": "stream",
     "text": [
      "[0, 0.6548204440470868, 0.36697748464862406, 0.6933685688330994, 0.7680387588298384, 0.6127588627588627, 0.7252385865359814, 0.0003047597938715576, 0.7408958901698495, 0.6626438168798777, 0.24205674283319775, 0.6371020830735412, 0.7369217717334406, 6.248828344685372e-05, 0.2231300381178529, 0.24178662442316964, 0.6828319113905104, 0.6439461333169729, 0.04739088189906457, 0.46654842485008624, 0.7540482697738963, 0.8339769493596491, 0.1846355827792001, 0.8203670534485892, 0.7047907380932358, 0.7972200349207436, 0.5005495713343592, 0.8391121362349664, 0.7638112463005591, 0.7436311655737531, 0.7655913283337643, 0.013401452618335018, 0.7344119815310597, 0.690811736406507, 0.4259724668214454, 0.001355197181189863, 0.7735618006442281, 0.7415006262097233, 0.823390533570024, 0.9036922057310288, 0, 0.8596660297111306, 0.6924840910393855, 0.43135153598189696, 0.7888557231478747, 0.4825931183667951, 0.6083284404498441, 0.8195015968554231, 0.8574138242490926, 0.809812633363538, 0.7472780469087247, 0.678177274935795, 0.8975682868253191, 0.7067268875654502, 0.6964956830878618, 0.6602183194682865, 0.7568272545817456, 0.7672264770866962]\n"
     ]
    },
    {
     "name": "stderr",
     "output_type": "stream",
     "text": [
      "\r",
      "51it [09:32,  6.42s/it]"
     ]
    },
    {
     "name": "stdout",
     "output_type": "stream",
     "text": [
      "[0, 0.6548204440470868, 0.36697748464862406, 0.6933685688330994, 0.7680387588298384, 0.6127588627588627, 0.7252385865359814, 0.0003047597938715576, 0.7408958901698495, 0.6626438168798777, 0.24205674283319775, 0.6371020830735412, 0.7369217717334406, 6.248828344685372e-05, 0.2231300381178529, 0.24178662442316964, 0.6828319113905104, 0.6439461333169729, 0.04739088189906457, 0.46654842485008624, 0.7540482697738963, 0.8339769493596491, 0.1846355827792001, 0.8203670534485892, 0.7047907380932358, 0.7972200349207436, 0.5005495713343592, 0.8391121362349664, 0.7638112463005591, 0.7436311655737531, 0.7655913283337643, 0.013401452618335018, 0.7344119815310597, 0.690811736406507, 0.4259724668214454, 0.001355197181189863, 0.7735618006442281, 0.7415006262097233, 0.823390533570024, 0.9036922057310288, 0, 0.8596660297111306, 0.6924840910393855, 0.43135153598189696, 0.7888557231478747, 0.4825931183667951, 0.6083284404498441, 0.8195015968554231, 0.8574138242490926, 0.809812633363538, 0.7472780469087247, 0.678177274935795, 0.8975682868253191, 0.7067268875654502, 0.6964956830878618, 0.6602183194682865, 0.7568272545817456, 0.7672264770866962, 0.8558214246150437]\n"
     ]
    },
    {
     "name": "stderr",
     "output_type": "stream",
     "text": [
      "\r",
      "52it [09:36,  5.80s/it]"
     ]
    },
    {
     "name": "stdout",
     "output_type": "stream",
     "text": [
      "[0, 0.6548204440470868, 0.36697748464862406, 0.6933685688330994, 0.7680387588298384, 0.6127588627588627, 0.7252385865359814, 0.0003047597938715576, 0.7408958901698495, 0.6626438168798777, 0.24205674283319775, 0.6371020830735412, 0.7369217717334406, 6.248828344685372e-05, 0.2231300381178529, 0.24178662442316964, 0.6828319113905104, 0.6439461333169729, 0.04739088189906457, 0.46654842485008624, 0.7540482697738963, 0.8339769493596491, 0.1846355827792001, 0.8203670534485892, 0.7047907380932358, 0.7972200349207436, 0.5005495713343592, 0.8391121362349664, 0.7638112463005591, 0.7436311655737531, 0.7655913283337643, 0.013401452618335018, 0.7344119815310597, 0.690811736406507, 0.4259724668214454, 0.001355197181189863, 0.7735618006442281, 0.7415006262097233, 0.823390533570024, 0.9036922057310288, 0, 0.8596660297111306, 0.6924840910393855, 0.43135153598189696, 0.7888557231478747, 0.4825931183667951, 0.6083284404498441, 0.8195015968554231, 0.8574138242490926, 0.809812633363538, 0.7472780469087247, 0.678177274935795, 0.8975682868253191, 0.7067268875654502, 0.6964956830878618, 0.6602183194682865, 0.7568272545817456, 0.7672264770866962, 0.8558214246150437, 0.7741527241527242]\n"
     ]
    },
    {
     "name": "stderr",
     "output_type": "stream",
     "text": [
      "\r",
      "53it [09:47,  7.28s/it]"
     ]
    },
    {
     "name": "stdout",
     "output_type": "stream",
     "text": [
      "[0, 0.6548204440470868, 0.36697748464862406, 0.6933685688330994, 0.7680387588298384, 0.6127588627588627, 0.7252385865359814, 0.0003047597938715576, 0.7408958901698495, 0.6626438168798777, 0.24205674283319775, 0.6371020830735412, 0.7369217717334406, 6.248828344685372e-05, 0.2231300381178529, 0.24178662442316964, 0.6828319113905104, 0.6439461333169729, 0.04739088189906457, 0.46654842485008624, 0.7540482697738963, 0.8339769493596491, 0.1846355827792001, 0.8203670534485892, 0.7047907380932358, 0.7972200349207436, 0.5005495713343592, 0.8391121362349664, 0.7638112463005591, 0.7436311655737531, 0.7655913283337643, 0.013401452618335018, 0.7344119815310597, 0.690811736406507, 0.4259724668214454, 0.001355197181189863, 0.7735618006442281, 0.7415006262097233, 0.823390533570024, 0.9036922057310288, 0, 0.8596660297111306, 0.6924840910393855, 0.43135153598189696, 0.7888557231478747, 0.4825931183667951, 0.6083284404498441, 0.8195015968554231, 0.8574138242490926, 0.809812633363538, 0.7472780469087247, 0.678177274935795, 0.8975682868253191, 0.7067268875654502, 0.6964956830878618, 0.6602183194682865, 0.7568272545817456, 0.7672264770866962, 0.8558214246150437, 0.7741527241527242, 0.7665639867575804]\n"
     ]
    },
    {
     "name": "stderr",
     "output_type": "stream",
     "text": [
      "\r",
      "54it [09:54,  7.22s/it]"
     ]
    },
    {
     "name": "stdout",
     "output_type": "stream",
     "text": [
      "[0, 0.6548204440470868, 0.36697748464862406, 0.6933685688330994, 0.7680387588298384, 0.6127588627588627, 0.7252385865359814, 0.0003047597938715576, 0.7408958901698495, 0.6626438168798777, 0.24205674283319775, 0.6371020830735412, 0.7369217717334406, 6.248828344685372e-05, 0.2231300381178529, 0.24178662442316964, 0.6828319113905104, 0.6439461333169729, 0.04739088189906457, 0.46654842485008624, 0.7540482697738963, 0.8339769493596491, 0.1846355827792001, 0.8203670534485892, 0.7047907380932358, 0.7972200349207436, 0.5005495713343592, 0.8391121362349664, 0.7638112463005591, 0.7436311655737531, 0.7655913283337643, 0.013401452618335018, 0.7344119815310597, 0.690811736406507, 0.4259724668214454, 0.001355197181189863, 0.7735618006442281, 0.7415006262097233, 0.823390533570024, 0.9036922057310288, 0, 0.8596660297111306, 0.6924840910393855, 0.43135153598189696, 0.7888557231478747, 0.4825931183667951, 0.6083284404498441, 0.8195015968554231, 0.8574138242490926, 0.809812633363538, 0.7472780469087247, 0.678177274935795, 0.8975682868253191, 0.7067268875654502, 0.6964956830878618, 0.6602183194682865, 0.7568272545817456, 0.7672264770866962, 0.8558214246150437, 0.7741527241527242, 0.7665639867575804, 0.690652114967462]\n"
     ]
    },
    {
     "name": "stderr",
     "output_type": "stream",
     "text": [
      "\r",
      "55it [10:04,  8.02s/it]"
     ]
    },
    {
     "name": "stdout",
     "output_type": "stream",
     "text": [
      "[0, 0.6548204440470868, 0.36697748464862406, 0.6933685688330994, 0.7680387588298384, 0.6127588627588627, 0.7252385865359814, 0.0003047597938715576, 0.7408958901698495, 0.6626438168798777, 0.24205674283319775, 0.6371020830735412, 0.7369217717334406, 6.248828344685372e-05, 0.2231300381178529, 0.24178662442316964, 0.6828319113905104, 0.6439461333169729, 0.04739088189906457, 0.46654842485008624, 0.7540482697738963, 0.8339769493596491, 0.1846355827792001, 0.8203670534485892, 0.7047907380932358, 0.7972200349207436, 0.5005495713343592, 0.8391121362349664, 0.7638112463005591, 0.7436311655737531, 0.7655913283337643, 0.013401452618335018, 0.7344119815310597, 0.690811736406507, 0.4259724668214454, 0.001355197181189863, 0.7735618006442281, 0.7415006262097233, 0.823390533570024, 0.9036922057310288, 0, 0.8596660297111306, 0.6924840910393855, 0.43135153598189696, 0.7888557231478747, 0.4825931183667951, 0.6083284404498441, 0.8195015968554231, 0.8574138242490926, 0.809812633363538, 0.7472780469087247, 0.678177274935795, 0.8975682868253191, 0.7067268875654502, 0.6964956830878618, 0.6602183194682865, 0.7568272545817456, 0.7672264770866962, 0.8558214246150437, 0.7741527241527242, 0.7665639867575804, 0.690652114967462, 0.8130305913348946]\n"
     ]
    },
    {
     "name": "stderr",
     "output_type": "stream",
     "text": [
      "\r",
      "56it [10:08,  6.89s/it]"
     ]
    },
    {
     "name": "stdout",
     "output_type": "stream",
     "text": [
      "[0, 0.6548204440470868, 0.36697748464862406, 0.6933685688330994, 0.7680387588298384, 0.6127588627588627, 0.7252385865359814, 0.0003047597938715576, 0.7408958901698495, 0.6626438168798777, 0.24205674283319775, 0.6371020830735412, 0.7369217717334406, 6.248828344685372e-05, 0.2231300381178529, 0.24178662442316964, 0.6828319113905104, 0.6439461333169729, 0.04739088189906457, 0.46654842485008624, 0.7540482697738963, 0.8339769493596491, 0.1846355827792001, 0.8203670534485892, 0.7047907380932358, 0.7972200349207436, 0.5005495713343592, 0.8391121362349664, 0.7638112463005591, 0.7436311655737531, 0.7655913283337643, 0.013401452618335018, 0.7344119815310597, 0.690811736406507, 0.4259724668214454, 0.001355197181189863, 0.7735618006442281, 0.7415006262097233, 0.823390533570024, 0.9036922057310288, 0, 0.8596660297111306, 0.6924840910393855, 0.43135153598189696, 0.7888557231478747, 0.4825931183667951, 0.6083284404498441, 0.8195015968554231, 0.8574138242490926, 0.809812633363538, 0.7472780469087247, 0.678177274935795, 0.8975682868253191, 0.7067268875654502, 0.6964956830878618, 0.6602183194682865, 0.7568272545817456, 0.7672264770866962, 0.8558214246150437, 0.7741527241527242, 0.7665639867575804, 0.690652114967462, 0.8130305913348946, 0.7776855635001703]\n"
     ]
    },
    {
     "name": "stderr",
     "output_type": "stream",
     "text": [
      "\r",
      "57it [10:15,  6.81s/it]"
     ]
    },
    {
     "name": "stdout",
     "output_type": "stream",
     "text": [
      "[0, 0.6548204440470868, 0.36697748464862406, 0.6933685688330994, 0.7680387588298384, 0.6127588627588627, 0.7252385865359814, 0.0003047597938715576, 0.7408958901698495, 0.6626438168798777, 0.24205674283319775, 0.6371020830735412, 0.7369217717334406, 6.248828344685372e-05, 0.2231300381178529, 0.24178662442316964, 0.6828319113905104, 0.6439461333169729, 0.04739088189906457, 0.46654842485008624, 0.7540482697738963, 0.8339769493596491, 0.1846355827792001, 0.8203670534485892, 0.7047907380932358, 0.7972200349207436, 0.5005495713343592, 0.8391121362349664, 0.7638112463005591, 0.7436311655737531, 0.7655913283337643, 0.013401452618335018, 0.7344119815310597, 0.690811736406507, 0.4259724668214454, 0.001355197181189863, 0.7735618006442281, 0.7415006262097233, 0.823390533570024, 0.9036922057310288, 0, 0.8596660297111306, 0.6924840910393855, 0.43135153598189696, 0.7888557231478747, 0.4825931183667951, 0.6083284404498441, 0.8195015968554231, 0.8574138242490926, 0.809812633363538, 0.7472780469087247, 0.678177274935795, 0.8975682868253191, 0.7067268875654502, 0.6964956830878618, 0.6602183194682865, 0.7568272545817456, 0.7672264770866962, 0.8558214246150437, 0.7741527241527242, 0.7665639867575804, 0.690652114967462, 0.8130305913348946, 0.7776855635001703, 0.8412445914991092]\n"
     ]
    },
    {
     "name": "stderr",
     "output_type": "stream",
     "text": [
      "\r",
      "58it [10:15,  4.88s/it]"
     ]
    },
    {
     "name": "stdout",
     "output_type": "stream",
     "text": [
      "[0, 0.6548204440470868, 0.36697748464862406, 0.6933685688330994, 0.7680387588298384, 0.6127588627588627, 0.7252385865359814, 0.0003047597938715576, 0.7408958901698495, 0.6626438168798777, 0.24205674283319775, 0.6371020830735412, 0.7369217717334406, 6.248828344685372e-05, 0.2231300381178529, 0.24178662442316964, 0.6828319113905104, 0.6439461333169729, 0.04739088189906457, 0.46654842485008624, 0.7540482697738963, 0.8339769493596491, 0.1846355827792001, 0.8203670534485892, 0.7047907380932358, 0.7972200349207436, 0.5005495713343592, 0.8391121362349664, 0.7638112463005591, 0.7436311655737531, 0.7655913283337643, 0.013401452618335018, 0.7344119815310597, 0.690811736406507, 0.4259724668214454, 0.001355197181189863, 0.7735618006442281, 0.7415006262097233, 0.823390533570024, 0.9036922057310288, 0, 0.8596660297111306, 0.6924840910393855, 0.43135153598189696, 0.7888557231478747, 0.4825931183667951, 0.6083284404498441, 0.8195015968554231, 0.8574138242490926, 0.809812633363538, 0.7472780469087247, 0.678177274935795, 0.8975682868253191, 0.7067268875654502, 0.6964956830878618, 0.6602183194682865, 0.7568272545817456, 0.7672264770866962, 0.8558214246150437, 0.7741527241527242, 0.7665639867575804, 0.690652114967462, 0.8130305913348946, 0.7776855635001703, 0.8412445914991092, 0.8104241281809613]\n"
     ]
    },
    {
     "name": "stderr",
     "output_type": "stream",
     "text": [
      "\r",
      "59it [10:16,  3.55s/it]"
     ]
    },
    {
     "name": "stdout",
     "output_type": "stream",
     "text": [
      "[0, 0.6548204440470868, 0.36697748464862406, 0.6933685688330994, 0.7680387588298384, 0.6127588627588627, 0.7252385865359814, 0.0003047597938715576, 0.7408958901698495, 0.6626438168798777, 0.24205674283319775, 0.6371020830735412, 0.7369217717334406, 6.248828344685372e-05, 0.2231300381178529, 0.24178662442316964, 0.6828319113905104, 0.6439461333169729, 0.04739088189906457, 0.46654842485008624, 0.7540482697738963, 0.8339769493596491, 0.1846355827792001, 0.8203670534485892, 0.7047907380932358, 0.7972200349207436, 0.5005495713343592, 0.8391121362349664, 0.7638112463005591, 0.7436311655737531, 0.7655913283337643, 0.013401452618335018, 0.7344119815310597, 0.690811736406507, 0.4259724668214454, 0.001355197181189863, 0.7735618006442281, 0.7415006262097233, 0.823390533570024, 0.9036922057310288, 0, 0.8596660297111306, 0.6924840910393855, 0.43135153598189696, 0.7888557231478747, 0.4825931183667951, 0.6083284404498441, 0.8195015968554231, 0.8574138242490926, 0.809812633363538, 0.7472780469087247, 0.678177274935795, 0.8975682868253191, 0.7067268875654502, 0.6964956830878618, 0.6602183194682865, 0.7568272545817456, 0.7672264770866962, 0.8558214246150437, 0.7741527241527242, 0.7665639867575804, 0.690652114967462, 0.8130305913348946, 0.7776855635001703, 0.8412445914991092, 0.8104241281809613, 0]\n"
     ]
    },
    {
     "name": "stderr",
     "output_type": "stream",
     "text": [
      "\r",
      "60it [10:25,  5.32s/it]"
     ]
    },
    {
     "name": "stdout",
     "output_type": "stream",
     "text": [
      "[0, 0.6548204440470868, 0.36697748464862406, 0.6933685688330994, 0.7680387588298384, 0.6127588627588627, 0.7252385865359814, 0.0003047597938715576, 0.7408958901698495, 0.6626438168798777, 0.24205674283319775, 0.6371020830735412, 0.7369217717334406, 6.248828344685372e-05, 0.2231300381178529, 0.24178662442316964, 0.6828319113905104, 0.6439461333169729, 0.04739088189906457, 0.46654842485008624, 0.7540482697738963, 0.8339769493596491, 0.1846355827792001, 0.8203670534485892, 0.7047907380932358, 0.7972200349207436, 0.5005495713343592, 0.8391121362349664, 0.7638112463005591, 0.7436311655737531, 0.7655913283337643, 0.013401452618335018, 0.7344119815310597, 0.690811736406507, 0.4259724668214454, 0.001355197181189863, 0.7735618006442281, 0.7415006262097233, 0.823390533570024, 0.9036922057310288, 0, 0.8596660297111306, 0.6924840910393855, 0.43135153598189696, 0.7888557231478747, 0.4825931183667951, 0.6083284404498441, 0.8195015968554231, 0.8574138242490926, 0.809812633363538, 0.7472780469087247, 0.678177274935795, 0.8975682868253191, 0.7067268875654502, 0.6964956830878618, 0.6602183194682865, 0.7568272545817456, 0.7672264770866962, 0.8558214246150437, 0.7741527241527242, 0.7665639867575804, 0.690652114967462, 0.8130305913348946, 0.7776855635001703, 0.8412445914991092, 0.8104241281809613, 0, 0.44630179424293276]\n"
     ]
    },
    {
     "name": "stderr",
     "output_type": "stream",
     "text": [
      "\r",
      "61it [10:36,  6.93s/it]"
     ]
    },
    {
     "name": "stdout",
     "output_type": "stream",
     "text": [
      "[0, 0.6548204440470868, 0.36697748464862406, 0.6933685688330994, 0.7680387588298384, 0.6127588627588627, 0.7252385865359814, 0.0003047597938715576, 0.7408958901698495, 0.6626438168798777, 0.24205674283319775, 0.6371020830735412, 0.7369217717334406, 6.248828344685372e-05, 0.2231300381178529, 0.24178662442316964, 0.6828319113905104, 0.6439461333169729, 0.04739088189906457, 0.46654842485008624, 0.7540482697738963, 0.8339769493596491, 0.1846355827792001, 0.8203670534485892, 0.7047907380932358, 0.7972200349207436, 0.5005495713343592, 0.8391121362349664, 0.7638112463005591, 0.7436311655737531, 0.7655913283337643, 0.013401452618335018, 0.7344119815310597, 0.690811736406507, 0.4259724668214454, 0.001355197181189863, 0.7735618006442281, 0.7415006262097233, 0.823390533570024, 0.9036922057310288, 0, 0.8596660297111306, 0.6924840910393855, 0.43135153598189696, 0.7888557231478747, 0.4825931183667951, 0.6083284404498441, 0.8195015968554231, 0.8574138242490926, 0.809812633363538, 0.7472780469087247, 0.678177274935795, 0.8975682868253191, 0.7067268875654502, 0.6964956830878618, 0.6602183194682865, 0.7568272545817456, 0.7672264770866962, 0.8558214246150437, 0.7741527241527242, 0.7665639867575804, 0.690652114967462, 0.8130305913348946, 0.7776855635001703, 0.8412445914991092, 0.8104241281809613, 0, 0.44630179424293276, 0.8917618364166278]\n"
     ]
    },
    {
     "name": "stderr",
     "output_type": "stream",
     "text": [
      "\r",
      "62it [10:40,  6.05s/it]"
     ]
    },
    {
     "name": "stdout",
     "output_type": "stream",
     "text": [
      "[0, 0.6548204440470868, 0.36697748464862406, 0.6933685688330994, 0.7680387588298384, 0.6127588627588627, 0.7252385865359814, 0.0003047597938715576, 0.7408958901698495, 0.6626438168798777, 0.24205674283319775, 0.6371020830735412, 0.7369217717334406, 6.248828344685372e-05, 0.2231300381178529, 0.24178662442316964, 0.6828319113905104, 0.6439461333169729, 0.04739088189906457, 0.46654842485008624, 0.7540482697738963, 0.8339769493596491, 0.1846355827792001, 0.8203670534485892, 0.7047907380932358, 0.7972200349207436, 0.5005495713343592, 0.8391121362349664, 0.7638112463005591, 0.7436311655737531, 0.7655913283337643, 0.013401452618335018, 0.7344119815310597, 0.690811736406507, 0.4259724668214454, 0.001355197181189863, 0.7735618006442281, 0.7415006262097233, 0.823390533570024, 0.9036922057310288, 0, 0.8596660297111306, 0.6924840910393855, 0.43135153598189696, 0.7888557231478747, 0.4825931183667951, 0.6083284404498441, 0.8195015968554231, 0.8574138242490926, 0.809812633363538, 0.7472780469087247, 0.678177274935795, 0.8975682868253191, 0.7067268875654502, 0.6964956830878618, 0.6602183194682865, 0.7568272545817456, 0.7672264770866962, 0.8558214246150437, 0.7741527241527242, 0.7665639867575804, 0.690652114967462, 0.8130305913348946, 0.7776855635001703, 0.8412445914991092, 0.8104241281809613, 0, 0.44630179424293276, 0.8917618364166278, 0.48821918533119896]\n"
     ]
    },
    {
     "name": "stderr",
     "output_type": "stream",
     "text": [
      "\r",
      "63it [10:47,  6.31s/it]"
     ]
    },
    {
     "name": "stdout",
     "output_type": "stream",
     "text": [
      "[0, 0.6548204440470868, 0.36697748464862406, 0.6933685688330994, 0.7680387588298384, 0.6127588627588627, 0.7252385865359814, 0.0003047597938715576, 0.7408958901698495, 0.6626438168798777, 0.24205674283319775, 0.6371020830735412, 0.7369217717334406, 6.248828344685372e-05, 0.2231300381178529, 0.24178662442316964, 0.6828319113905104, 0.6439461333169729, 0.04739088189906457, 0.46654842485008624, 0.7540482697738963, 0.8339769493596491, 0.1846355827792001, 0.8203670534485892, 0.7047907380932358, 0.7972200349207436, 0.5005495713343592, 0.8391121362349664, 0.7638112463005591, 0.7436311655737531, 0.7655913283337643, 0.013401452618335018, 0.7344119815310597, 0.690811736406507, 0.4259724668214454, 0.001355197181189863, 0.7735618006442281, 0.7415006262097233, 0.823390533570024, 0.9036922057310288, 0, 0.8596660297111306, 0.6924840910393855, 0.43135153598189696, 0.7888557231478747, 0.4825931183667951, 0.6083284404498441, 0.8195015968554231, 0.8574138242490926, 0.809812633363538, 0.7472780469087247, 0.678177274935795, 0.8975682868253191, 0.7067268875654502, 0.6964956830878618, 0.6602183194682865, 0.7568272545817456, 0.7672264770866962, 0.8558214246150437, 0.7741527241527242, 0.7665639867575804, 0.690652114967462, 0.8130305913348946, 0.7776855635001703, 0.8412445914991092, 0.8104241281809613, 0, 0.44630179424293276, 0.8917618364166278, 0.48821918533119896, 0.7428073979172826]\n"
     ]
    },
    {
     "name": "stderr",
     "output_type": "stream",
     "text": [
      "\r",
      "64it [10:51,  5.84s/it]"
     ]
    },
    {
     "name": "stdout",
     "output_type": "stream",
     "text": [
      "[0, 0.6548204440470868, 0.36697748464862406, 0.6933685688330994, 0.7680387588298384, 0.6127588627588627, 0.7252385865359814, 0.0003047597938715576, 0.7408958901698495, 0.6626438168798777, 0.24205674283319775, 0.6371020830735412, 0.7369217717334406, 6.248828344685372e-05, 0.2231300381178529, 0.24178662442316964, 0.6828319113905104, 0.6439461333169729, 0.04739088189906457, 0.46654842485008624, 0.7540482697738963, 0.8339769493596491, 0.1846355827792001, 0.8203670534485892, 0.7047907380932358, 0.7972200349207436, 0.5005495713343592, 0.8391121362349664, 0.7638112463005591, 0.7436311655737531, 0.7655913283337643, 0.013401452618335018, 0.7344119815310597, 0.690811736406507, 0.4259724668214454, 0.001355197181189863, 0.7735618006442281, 0.7415006262097233, 0.823390533570024, 0.9036922057310288, 0, 0.8596660297111306, 0.6924840910393855, 0.43135153598189696, 0.7888557231478747, 0.4825931183667951, 0.6083284404498441, 0.8195015968554231, 0.8574138242490926, 0.809812633363538, 0.7472780469087247, 0.678177274935795, 0.8975682868253191, 0.7067268875654502, 0.6964956830878618, 0.6602183194682865, 0.7568272545817456, 0.7672264770866962, 0.8558214246150437, 0.7741527241527242, 0.7665639867575804, 0.690652114967462, 0.8130305913348946, 0.7776855635001703, 0.8412445914991092, 0.8104241281809613, 0, 0.44630179424293276, 0.8917618364166278, 0.48821918533119896, 0.7428073979172826, 0.7980395412222084]\n"
     ]
    },
    {
     "name": "stderr",
     "output_type": "stream",
     "text": [
      "\r",
      "65it [10:54,  4.96s/it]"
     ]
    },
    {
     "name": "stdout",
     "output_type": "stream",
     "text": [
      "[0, 0.6548204440470868, 0.36697748464862406, 0.6933685688330994, 0.7680387588298384, 0.6127588627588627, 0.7252385865359814, 0.0003047597938715576, 0.7408958901698495, 0.6626438168798777, 0.24205674283319775, 0.6371020830735412, 0.7369217717334406, 6.248828344685372e-05, 0.2231300381178529, 0.24178662442316964, 0.6828319113905104, 0.6439461333169729, 0.04739088189906457, 0.46654842485008624, 0.7540482697738963, 0.8339769493596491, 0.1846355827792001, 0.8203670534485892, 0.7047907380932358, 0.7972200349207436, 0.5005495713343592, 0.8391121362349664, 0.7638112463005591, 0.7436311655737531, 0.7655913283337643, 0.013401452618335018, 0.7344119815310597, 0.690811736406507, 0.4259724668214454, 0.001355197181189863, 0.7735618006442281, 0.7415006262097233, 0.823390533570024, 0.9036922057310288, 0, 0.8596660297111306, 0.6924840910393855, 0.43135153598189696, 0.7888557231478747, 0.4825931183667951, 0.6083284404498441, 0.8195015968554231, 0.8574138242490926, 0.809812633363538, 0.7472780469087247, 0.678177274935795, 0.8975682868253191, 0.7067268875654502, 0.6964956830878618, 0.6602183194682865, 0.7568272545817456, 0.7672264770866962, 0.8558214246150437, 0.7741527241527242, 0.7665639867575804, 0.690652114967462, 0.8130305913348946, 0.7776855635001703, 0.8412445914991092, 0.8104241281809613, 0, 0.44630179424293276, 0.8917618364166278, 0.48821918533119896, 0.7428073979172826, 0.7980395412222084, 0.6095419096926404]\n"
     ]
    },
    {
     "name": "stderr",
     "output_type": "stream",
     "text": [
      "\r",
      "66it [10:55,  3.78s/it]"
     ]
    },
    {
     "name": "stdout",
     "output_type": "stream",
     "text": [
      "[0, 0.6548204440470868, 0.36697748464862406, 0.6933685688330994, 0.7680387588298384, 0.6127588627588627, 0.7252385865359814, 0.0003047597938715576, 0.7408958901698495, 0.6626438168798777, 0.24205674283319775, 0.6371020830735412, 0.7369217717334406, 6.248828344685372e-05, 0.2231300381178529, 0.24178662442316964, 0.6828319113905104, 0.6439461333169729, 0.04739088189906457, 0.46654842485008624, 0.7540482697738963, 0.8339769493596491, 0.1846355827792001, 0.8203670534485892, 0.7047907380932358, 0.7972200349207436, 0.5005495713343592, 0.8391121362349664, 0.7638112463005591, 0.7436311655737531, 0.7655913283337643, 0.013401452618335018, 0.7344119815310597, 0.690811736406507, 0.4259724668214454, 0.001355197181189863, 0.7735618006442281, 0.7415006262097233, 0.823390533570024, 0.9036922057310288, 0, 0.8596660297111306, 0.6924840910393855, 0.43135153598189696, 0.7888557231478747, 0.4825931183667951, 0.6083284404498441, 0.8195015968554231, 0.8574138242490926, 0.809812633363538, 0.7472780469087247, 0.678177274935795, 0.8975682868253191, 0.7067268875654502, 0.6964956830878618, 0.6602183194682865, 0.7568272545817456, 0.7672264770866962, 0.8558214246150437, 0.7741527241527242, 0.7665639867575804, 0.690652114967462, 0.8130305913348946, 0.7776855635001703, 0.8412445914991092, 0.8104241281809613, 0, 0.44630179424293276, 0.8917618364166278, 0.48821918533119896, 0.7428073979172826, 0.7980395412222084, 0.6095419096926404, 0]\n"
     ]
    },
    {
     "name": "stderr",
     "output_type": "stream",
     "text": [
      "\r",
      "67it [10:57,  3.26s/it]"
     ]
    },
    {
     "name": "stdout",
     "output_type": "stream",
     "text": [
      "[0, 0.6548204440470868, 0.36697748464862406, 0.6933685688330994, 0.7680387588298384, 0.6127588627588627, 0.7252385865359814, 0.0003047597938715576, 0.7408958901698495, 0.6626438168798777, 0.24205674283319775, 0.6371020830735412, 0.7369217717334406, 6.248828344685372e-05, 0.2231300381178529, 0.24178662442316964, 0.6828319113905104, 0.6439461333169729, 0.04739088189906457, 0.46654842485008624, 0.7540482697738963, 0.8339769493596491, 0.1846355827792001, 0.8203670534485892, 0.7047907380932358, 0.7972200349207436, 0.5005495713343592, 0.8391121362349664, 0.7638112463005591, 0.7436311655737531, 0.7655913283337643, 0.013401452618335018, 0.7344119815310597, 0.690811736406507, 0.4259724668214454, 0.001355197181189863, 0.7735618006442281, 0.7415006262097233, 0.823390533570024, 0.9036922057310288, 0, 0.8596660297111306, 0.6924840910393855, 0.43135153598189696, 0.7888557231478747, 0.4825931183667951, 0.6083284404498441, 0.8195015968554231, 0.8574138242490926, 0.809812633363538, 0.7472780469087247, 0.678177274935795, 0.8975682868253191, 0.7067268875654502, 0.6964956830878618, 0.6602183194682865, 0.7568272545817456, 0.7672264770866962, 0.8558214246150437, 0.7741527241527242, 0.7665639867575804, 0.690652114967462, 0.8130305913348946, 0.7776855635001703, 0.8412445914991092, 0.8104241281809613, 0, 0.44630179424293276, 0.8917618364166278, 0.48821918533119896, 0.7428073979172826, 0.7980395412222084, 0.6095419096926404, 0, 0]\n"
     ]
    },
    {
     "name": "stderr",
     "output_type": "stream",
     "text": [
      "\r",
      "68it [11:00,  3.09s/it]"
     ]
    },
    {
     "name": "stdout",
     "output_type": "stream",
     "text": [
      "[0, 0.6548204440470868, 0.36697748464862406, 0.6933685688330994, 0.7680387588298384, 0.6127588627588627, 0.7252385865359814, 0.0003047597938715576, 0.7408958901698495, 0.6626438168798777, 0.24205674283319775, 0.6371020830735412, 0.7369217717334406, 6.248828344685372e-05, 0.2231300381178529, 0.24178662442316964, 0.6828319113905104, 0.6439461333169729, 0.04739088189906457, 0.46654842485008624, 0.7540482697738963, 0.8339769493596491, 0.1846355827792001, 0.8203670534485892, 0.7047907380932358, 0.7972200349207436, 0.5005495713343592, 0.8391121362349664, 0.7638112463005591, 0.7436311655737531, 0.7655913283337643, 0.013401452618335018, 0.7344119815310597, 0.690811736406507, 0.4259724668214454, 0.001355197181189863, 0.7735618006442281, 0.7415006262097233, 0.823390533570024, 0.9036922057310288, 0, 0.8596660297111306, 0.6924840910393855, 0.43135153598189696, 0.7888557231478747, 0.4825931183667951, 0.6083284404498441, 0.8195015968554231, 0.8574138242490926, 0.809812633363538, 0.7472780469087247, 0.678177274935795, 0.8975682868253191, 0.7067268875654502, 0.6964956830878618, 0.6602183194682865, 0.7568272545817456, 0.7672264770866962, 0.8558214246150437, 0.7741527241527242, 0.7665639867575804, 0.690652114967462, 0.8130305913348946, 0.7776855635001703, 0.8412445914991092, 0.8104241281809613, 0, 0.44630179424293276, 0.8917618364166278, 0.48821918533119896, 0.7428073979172826, 0.7980395412222084, 0.6095419096926404, 0, 0, 0]\n"
     ]
    },
    {
     "name": "stderr",
     "output_type": "stream",
     "text": [
      "\r",
      "69it [11:04,  3.48s/it]"
     ]
    },
    {
     "name": "stdout",
     "output_type": "stream",
     "text": [
      "[0, 0.6548204440470868, 0.36697748464862406, 0.6933685688330994, 0.7680387588298384, 0.6127588627588627, 0.7252385865359814, 0.0003047597938715576, 0.7408958901698495, 0.6626438168798777, 0.24205674283319775, 0.6371020830735412, 0.7369217717334406, 6.248828344685372e-05, 0.2231300381178529, 0.24178662442316964, 0.6828319113905104, 0.6439461333169729, 0.04739088189906457, 0.46654842485008624, 0.7540482697738963, 0.8339769493596491, 0.1846355827792001, 0.8203670534485892, 0.7047907380932358, 0.7972200349207436, 0.5005495713343592, 0.8391121362349664, 0.7638112463005591, 0.7436311655737531, 0.7655913283337643, 0.013401452618335018, 0.7344119815310597, 0.690811736406507, 0.4259724668214454, 0.001355197181189863, 0.7735618006442281, 0.7415006262097233, 0.823390533570024, 0.9036922057310288, 0, 0.8596660297111306, 0.6924840910393855, 0.43135153598189696, 0.7888557231478747, 0.4825931183667951, 0.6083284404498441, 0.8195015968554231, 0.8574138242490926, 0.809812633363538, 0.7472780469087247, 0.678177274935795, 0.8975682868253191, 0.7067268875654502, 0.6964956830878618, 0.6602183194682865, 0.7568272545817456, 0.7672264770866962, 0.8558214246150437, 0.7741527241527242, 0.7665639867575804, 0.690652114967462, 0.8130305913348946, 0.7776855635001703, 0.8412445914991092, 0.8104241281809613, 0, 0.44630179424293276, 0.8917618364166278, 0.48821918533119896, 0.7428073979172826, 0.7980395412222084, 0.6095419096926404, 0, 0, 0, 0.7513156247144545]\n"
     ]
    },
    {
     "name": "stderr",
     "output_type": "stream",
     "text": [
      "\r",
      "70it [11:25,  8.62s/it]"
     ]
    },
    {
     "name": "stdout",
     "output_type": "stream",
     "text": [
      "[0, 0.6548204440470868, 0.36697748464862406, 0.6933685688330994, 0.7680387588298384, 0.6127588627588627, 0.7252385865359814, 0.0003047597938715576, 0.7408958901698495, 0.6626438168798777, 0.24205674283319775, 0.6371020830735412, 0.7369217717334406, 6.248828344685372e-05, 0.2231300381178529, 0.24178662442316964, 0.6828319113905104, 0.6439461333169729, 0.04739088189906457, 0.46654842485008624, 0.7540482697738963, 0.8339769493596491, 0.1846355827792001, 0.8203670534485892, 0.7047907380932358, 0.7972200349207436, 0.5005495713343592, 0.8391121362349664, 0.7638112463005591, 0.7436311655737531, 0.7655913283337643, 0.013401452618335018, 0.7344119815310597, 0.690811736406507, 0.4259724668214454, 0.001355197181189863, 0.7735618006442281, 0.7415006262097233, 0.823390533570024, 0.9036922057310288, 0, 0.8596660297111306, 0.6924840910393855, 0.43135153598189696, 0.7888557231478747, 0.4825931183667951, 0.6083284404498441, 0.8195015968554231, 0.8574138242490926, 0.809812633363538, 0.7472780469087247, 0.678177274935795, 0.8975682868253191, 0.7067268875654502, 0.6964956830878618, 0.6602183194682865, 0.7568272545817456, 0.7672264770866962, 0.8558214246150437, 0.7741527241527242, 0.7665639867575804, 0.690652114967462, 0.8130305913348946, 0.7776855635001703, 0.8412445914991092, 0.8104241281809613, 0, 0.44630179424293276, 0.8917618364166278, 0.48821918533119896, 0.7428073979172826, 0.7980395412222084, 0.6095419096926404, 0, 0, 0, 0.7513156247144545, 0.7386588770090308]\n"
     ]
    },
    {
     "name": "stderr",
     "output_type": "stream",
     "text": [
      "\r",
      "71it [11:30,  7.55s/it]"
     ]
    },
    {
     "name": "stdout",
     "output_type": "stream",
     "text": [
      "[0, 0.6548204440470868, 0.36697748464862406, 0.6933685688330994, 0.7680387588298384, 0.6127588627588627, 0.7252385865359814, 0.0003047597938715576, 0.7408958901698495, 0.6626438168798777, 0.24205674283319775, 0.6371020830735412, 0.7369217717334406, 6.248828344685372e-05, 0.2231300381178529, 0.24178662442316964, 0.6828319113905104, 0.6439461333169729, 0.04739088189906457, 0.46654842485008624, 0.7540482697738963, 0.8339769493596491, 0.1846355827792001, 0.8203670534485892, 0.7047907380932358, 0.7972200349207436, 0.5005495713343592, 0.8391121362349664, 0.7638112463005591, 0.7436311655737531, 0.7655913283337643, 0.013401452618335018, 0.7344119815310597, 0.690811736406507, 0.4259724668214454, 0.001355197181189863, 0.7735618006442281, 0.7415006262097233, 0.823390533570024, 0.9036922057310288, 0, 0.8596660297111306, 0.6924840910393855, 0.43135153598189696, 0.7888557231478747, 0.4825931183667951, 0.6083284404498441, 0.8195015968554231, 0.8574138242490926, 0.809812633363538, 0.7472780469087247, 0.678177274935795, 0.8975682868253191, 0.7067268875654502, 0.6964956830878618, 0.6602183194682865, 0.7568272545817456, 0.7672264770866962, 0.8558214246150437, 0.7741527241527242, 0.7665639867575804, 0.690652114967462, 0.8130305913348946, 0.7776855635001703, 0.8412445914991092, 0.8104241281809613, 0, 0.44630179424293276, 0.8917618364166278, 0.48821918533119896, 0.7428073979172826, 0.7980395412222084, 0.6095419096926404, 0, 0, 0, 0.7513156247144545, 0.7386588770090308, 0.812949360405339]\n"
     ]
    },
    {
     "name": "stderr",
     "output_type": "stream",
     "text": [
      "\r",
      "72it [11:32,  5.74s/it]"
     ]
    },
    {
     "name": "stdout",
     "output_type": "stream",
     "text": [
      "[0, 0.6548204440470868, 0.36697748464862406, 0.6933685688330994, 0.7680387588298384, 0.6127588627588627, 0.7252385865359814, 0.0003047597938715576, 0.7408958901698495, 0.6626438168798777, 0.24205674283319775, 0.6371020830735412, 0.7369217717334406, 6.248828344685372e-05, 0.2231300381178529, 0.24178662442316964, 0.6828319113905104, 0.6439461333169729, 0.04739088189906457, 0.46654842485008624, 0.7540482697738963, 0.8339769493596491, 0.1846355827792001, 0.8203670534485892, 0.7047907380932358, 0.7972200349207436, 0.5005495713343592, 0.8391121362349664, 0.7638112463005591, 0.7436311655737531, 0.7655913283337643, 0.013401452618335018, 0.7344119815310597, 0.690811736406507, 0.4259724668214454, 0.001355197181189863, 0.7735618006442281, 0.7415006262097233, 0.823390533570024, 0.9036922057310288, 0, 0.8596660297111306, 0.6924840910393855, 0.43135153598189696, 0.7888557231478747, 0.4825931183667951, 0.6083284404498441, 0.8195015968554231, 0.8574138242490926, 0.809812633363538, 0.7472780469087247, 0.678177274935795, 0.8975682868253191, 0.7067268875654502, 0.6964956830878618, 0.6602183194682865, 0.7568272545817456, 0.7672264770866962, 0.8558214246150437, 0.7741527241527242, 0.7665639867575804, 0.690652114967462, 0.8130305913348946, 0.7776855635001703, 0.8412445914991092, 0.8104241281809613, 0, 0.44630179424293276, 0.8917618364166278, 0.48821918533119896, 0.7428073979172826, 0.7980395412222084, 0.6095419096926404, 0, 0, 0, 0.7513156247144545, 0.7386588770090308, 0.812949360405339, 0.05832297820700079]\n"
     ]
    },
    {
     "name": "stderr",
     "output_type": "stream",
     "text": [
      "\r",
      "73it [11:34,  4.61s/it]"
     ]
    },
    {
     "name": "stdout",
     "output_type": "stream",
     "text": [
      "[0, 0.6548204440470868, 0.36697748464862406, 0.6933685688330994, 0.7680387588298384, 0.6127588627588627, 0.7252385865359814, 0.0003047597938715576, 0.7408958901698495, 0.6626438168798777, 0.24205674283319775, 0.6371020830735412, 0.7369217717334406, 6.248828344685372e-05, 0.2231300381178529, 0.24178662442316964, 0.6828319113905104, 0.6439461333169729, 0.04739088189906457, 0.46654842485008624, 0.7540482697738963, 0.8339769493596491, 0.1846355827792001, 0.8203670534485892, 0.7047907380932358, 0.7972200349207436, 0.5005495713343592, 0.8391121362349664, 0.7638112463005591, 0.7436311655737531, 0.7655913283337643, 0.013401452618335018, 0.7344119815310597, 0.690811736406507, 0.4259724668214454, 0.001355197181189863, 0.7735618006442281, 0.7415006262097233, 0.823390533570024, 0.9036922057310288, 0, 0.8596660297111306, 0.6924840910393855, 0.43135153598189696, 0.7888557231478747, 0.4825931183667951, 0.6083284404498441, 0.8195015968554231, 0.8574138242490926, 0.809812633363538, 0.7472780469087247, 0.678177274935795, 0.8975682868253191, 0.7067268875654502, 0.6964956830878618, 0.6602183194682865, 0.7568272545817456, 0.7672264770866962, 0.8558214246150437, 0.7741527241527242, 0.7665639867575804, 0.690652114967462, 0.8130305913348946, 0.7776855635001703, 0.8412445914991092, 0.8104241281809613, 0, 0.44630179424293276, 0.8917618364166278, 0.48821918533119896, 0.7428073979172826, 0.7980395412222084, 0.6095419096926404, 0, 0, 0, 0.7513156247144545, 0.7386588770090308, 0.812949360405339, 0.05832297820700079, 0.6477563891991328]\n"
     ]
    },
    {
     "name": "stderr",
     "output_type": "stream",
     "text": [
      "\r",
      "74it [11:41,  5.31s/it]"
     ]
    },
    {
     "name": "stdout",
     "output_type": "stream",
     "text": [
      "[0, 0.6548204440470868, 0.36697748464862406, 0.6933685688330994, 0.7680387588298384, 0.6127588627588627, 0.7252385865359814, 0.0003047597938715576, 0.7408958901698495, 0.6626438168798777, 0.24205674283319775, 0.6371020830735412, 0.7369217717334406, 6.248828344685372e-05, 0.2231300381178529, 0.24178662442316964, 0.6828319113905104, 0.6439461333169729, 0.04739088189906457, 0.46654842485008624, 0.7540482697738963, 0.8339769493596491, 0.1846355827792001, 0.8203670534485892, 0.7047907380932358, 0.7972200349207436, 0.5005495713343592, 0.8391121362349664, 0.7638112463005591, 0.7436311655737531, 0.7655913283337643, 0.013401452618335018, 0.7344119815310597, 0.690811736406507, 0.4259724668214454, 0.001355197181189863, 0.7735618006442281, 0.7415006262097233, 0.823390533570024, 0.9036922057310288, 0, 0.8596660297111306, 0.6924840910393855, 0.43135153598189696, 0.7888557231478747, 0.4825931183667951, 0.6083284404498441, 0.8195015968554231, 0.8574138242490926, 0.809812633363538, 0.7472780469087247, 0.678177274935795, 0.8975682868253191, 0.7067268875654502, 0.6964956830878618, 0.6602183194682865, 0.7568272545817456, 0.7672264770866962, 0.8558214246150437, 0.7741527241527242, 0.7665639867575804, 0.690652114967462, 0.8130305913348946, 0.7776855635001703, 0.8412445914991092, 0.8104241281809613, 0, 0.44630179424293276, 0.8917618364166278, 0.48821918533119896, 0.7428073979172826, 0.7980395412222084, 0.6095419096926404, 0, 0, 0, 0.7513156247144545, 0.7386588770090308, 0.812949360405339, 0.05832297820700079, 0.6477563891991328, 0.7370564516129032]\n"
     ]
    },
    {
     "name": "stderr",
     "output_type": "stream",
     "text": [
      "\r",
      "75it [11:50,  6.64s/it]"
     ]
    },
    {
     "name": "stdout",
     "output_type": "stream",
     "text": [
      "[0, 0.6548204440470868, 0.36697748464862406, 0.6933685688330994, 0.7680387588298384, 0.6127588627588627, 0.7252385865359814, 0.0003047597938715576, 0.7408958901698495, 0.6626438168798777, 0.24205674283319775, 0.6371020830735412, 0.7369217717334406, 6.248828344685372e-05, 0.2231300381178529, 0.24178662442316964, 0.6828319113905104, 0.6439461333169729, 0.04739088189906457, 0.46654842485008624, 0.7540482697738963, 0.8339769493596491, 0.1846355827792001, 0.8203670534485892, 0.7047907380932358, 0.7972200349207436, 0.5005495713343592, 0.8391121362349664, 0.7638112463005591, 0.7436311655737531, 0.7655913283337643, 0.013401452618335018, 0.7344119815310597, 0.690811736406507, 0.4259724668214454, 0.001355197181189863, 0.7735618006442281, 0.7415006262097233, 0.823390533570024, 0.9036922057310288, 0, 0.8596660297111306, 0.6924840910393855, 0.43135153598189696, 0.7888557231478747, 0.4825931183667951, 0.6083284404498441, 0.8195015968554231, 0.8574138242490926, 0.809812633363538, 0.7472780469087247, 0.678177274935795, 0.8975682868253191, 0.7067268875654502, 0.6964956830878618, 0.6602183194682865, 0.7568272545817456, 0.7672264770866962, 0.8558214246150437, 0.7741527241527242, 0.7665639867575804, 0.690652114967462, 0.8130305913348946, 0.7776855635001703, 0.8412445914991092, 0.8104241281809613, 0, 0.44630179424293276, 0.8917618364166278, 0.48821918533119896, 0.7428073979172826, 0.7980395412222084, 0.6095419096926404, 0, 0, 0, 0.7513156247144545, 0.7386588770090308, 0.812949360405339, 0.05832297820700079, 0.6477563891991328, 0.7370564516129032, 0.8667888624721628]\n"
     ]
    },
    {
     "name": "stderr",
     "output_type": "stream",
     "text": [
      "\r",
      "76it [11:50,  4.71s/it]"
     ]
    },
    {
     "name": "stdout",
     "output_type": "stream",
     "text": [
      "[0, 0.6548204440470868, 0.36697748464862406, 0.6933685688330994, 0.7680387588298384, 0.6127588627588627, 0.7252385865359814, 0.0003047597938715576, 0.7408958901698495, 0.6626438168798777, 0.24205674283319775, 0.6371020830735412, 0.7369217717334406, 6.248828344685372e-05, 0.2231300381178529, 0.24178662442316964, 0.6828319113905104, 0.6439461333169729, 0.04739088189906457, 0.46654842485008624, 0.7540482697738963, 0.8339769493596491, 0.1846355827792001, 0.8203670534485892, 0.7047907380932358, 0.7972200349207436, 0.5005495713343592, 0.8391121362349664, 0.7638112463005591, 0.7436311655737531, 0.7655913283337643, 0.013401452618335018, 0.7344119815310597, 0.690811736406507, 0.4259724668214454, 0.001355197181189863, 0.7735618006442281, 0.7415006262097233, 0.823390533570024, 0.9036922057310288, 0, 0.8596660297111306, 0.6924840910393855, 0.43135153598189696, 0.7888557231478747, 0.4825931183667951, 0.6083284404498441, 0.8195015968554231, 0.8574138242490926, 0.809812633363538, 0.7472780469087247, 0.678177274935795, 0.8975682868253191, 0.7067268875654502, 0.6964956830878618, 0.6602183194682865, 0.7568272545817456, 0.7672264770866962, 0.8558214246150437, 0.7741527241527242, 0.7665639867575804, 0.690652114967462, 0.8130305913348946, 0.7776855635001703, 0.8412445914991092, 0.8104241281809613, 0, 0.44630179424293276, 0.8917618364166278, 0.48821918533119896, 0.7428073979172826, 0.7980395412222084, 0.6095419096926404, 0, 0, 0, 0.7513156247144545, 0.7386588770090308, 0.812949360405339, 0.05832297820700079, 0.6477563891991328, 0.7370564516129032, 0.8667888624721628, 0.8293078393166706]\n"
     ]
    },
    {
     "name": "stderr",
     "output_type": "stream",
     "text": [
      "\r",
      "77it [11:54,  4.33s/it]"
     ]
    },
    {
     "name": "stdout",
     "output_type": "stream",
     "text": [
      "[0, 0.6548204440470868, 0.36697748464862406, 0.6933685688330994, 0.7680387588298384, 0.6127588627588627, 0.7252385865359814, 0.0003047597938715576, 0.7408958901698495, 0.6626438168798777, 0.24205674283319775, 0.6371020830735412, 0.7369217717334406, 6.248828344685372e-05, 0.2231300381178529, 0.24178662442316964, 0.6828319113905104, 0.6439461333169729, 0.04739088189906457, 0.46654842485008624, 0.7540482697738963, 0.8339769493596491, 0.1846355827792001, 0.8203670534485892, 0.7047907380932358, 0.7972200349207436, 0.5005495713343592, 0.8391121362349664, 0.7638112463005591, 0.7436311655737531, 0.7655913283337643, 0.013401452618335018, 0.7344119815310597, 0.690811736406507, 0.4259724668214454, 0.001355197181189863, 0.7735618006442281, 0.7415006262097233, 0.823390533570024, 0.9036922057310288, 0, 0.8596660297111306, 0.6924840910393855, 0.43135153598189696, 0.7888557231478747, 0.4825931183667951, 0.6083284404498441, 0.8195015968554231, 0.8574138242490926, 0.809812633363538, 0.7472780469087247, 0.678177274935795, 0.8975682868253191, 0.7067268875654502, 0.6964956830878618, 0.6602183194682865, 0.7568272545817456, 0.7672264770866962, 0.8558214246150437, 0.7741527241527242, 0.7665639867575804, 0.690652114967462, 0.8130305913348946, 0.7776855635001703, 0.8412445914991092, 0.8104241281809613, 0, 0.44630179424293276, 0.8917618364166278, 0.48821918533119896, 0.7428073979172826, 0.7980395412222084, 0.6095419096926404, 0, 0, 0, 0.7513156247144545, 0.7386588770090308, 0.812949360405339, 0.05832297820700079, 0.6477563891991328, 0.7370564516129032, 0.8667888624721628, 0.8293078393166706, 0]\n"
     ]
    },
    {
     "name": "stderr",
     "output_type": "stream",
     "text": [
      "\r",
      "78it [11:58,  4.15s/it]"
     ]
    },
    {
     "name": "stdout",
     "output_type": "stream",
     "text": [
      "[0, 0.6548204440470868, 0.36697748464862406, 0.6933685688330994, 0.7680387588298384, 0.6127588627588627, 0.7252385865359814, 0.0003047597938715576, 0.7408958901698495, 0.6626438168798777, 0.24205674283319775, 0.6371020830735412, 0.7369217717334406, 6.248828344685372e-05, 0.2231300381178529, 0.24178662442316964, 0.6828319113905104, 0.6439461333169729, 0.04739088189906457, 0.46654842485008624, 0.7540482697738963, 0.8339769493596491, 0.1846355827792001, 0.8203670534485892, 0.7047907380932358, 0.7972200349207436, 0.5005495713343592, 0.8391121362349664, 0.7638112463005591, 0.7436311655737531, 0.7655913283337643, 0.013401452618335018, 0.7344119815310597, 0.690811736406507, 0.4259724668214454, 0.001355197181189863, 0.7735618006442281, 0.7415006262097233, 0.823390533570024, 0.9036922057310288, 0, 0.8596660297111306, 0.6924840910393855, 0.43135153598189696, 0.7888557231478747, 0.4825931183667951, 0.6083284404498441, 0.8195015968554231, 0.8574138242490926, 0.809812633363538, 0.7472780469087247, 0.678177274935795, 0.8975682868253191, 0.7067268875654502, 0.6964956830878618, 0.6602183194682865, 0.7568272545817456, 0.7672264770866962, 0.8558214246150437, 0.7741527241527242, 0.7665639867575804, 0.690652114967462, 0.8130305913348946, 0.7776855635001703, 0.8412445914991092, 0.8104241281809613, 0, 0.44630179424293276, 0.8917618364166278, 0.48821918533119896, 0.7428073979172826, 0.7980395412222084, 0.6095419096926404, 0, 0, 0, 0.7513156247144545, 0.7386588770090308, 0.812949360405339, 0.05832297820700079, 0.6477563891991328, 0.7370564516129032, 0.8667888624721628, 0.8293078393166706, 0, 0.7336764617870609]\n"
     ]
    },
    {
     "name": "stderr",
     "output_type": "stream",
     "text": [
      "\r",
      "79it [12:04,  4.86s/it]"
     ]
    },
    {
     "name": "stdout",
     "output_type": "stream",
     "text": [
      "[0, 0.6548204440470868, 0.36697748464862406, 0.6933685688330994, 0.7680387588298384, 0.6127588627588627, 0.7252385865359814, 0.0003047597938715576, 0.7408958901698495, 0.6626438168798777, 0.24205674283319775, 0.6371020830735412, 0.7369217717334406, 6.248828344685372e-05, 0.2231300381178529, 0.24178662442316964, 0.6828319113905104, 0.6439461333169729, 0.04739088189906457, 0.46654842485008624, 0.7540482697738963, 0.8339769493596491, 0.1846355827792001, 0.8203670534485892, 0.7047907380932358, 0.7972200349207436, 0.5005495713343592, 0.8391121362349664, 0.7638112463005591, 0.7436311655737531, 0.7655913283337643, 0.013401452618335018, 0.7344119815310597, 0.690811736406507, 0.4259724668214454, 0.001355197181189863, 0.7735618006442281, 0.7415006262097233, 0.823390533570024, 0.9036922057310288, 0, 0.8596660297111306, 0.6924840910393855, 0.43135153598189696, 0.7888557231478747, 0.4825931183667951, 0.6083284404498441, 0.8195015968554231, 0.8574138242490926, 0.809812633363538, 0.7472780469087247, 0.678177274935795, 0.8975682868253191, 0.7067268875654502, 0.6964956830878618, 0.6602183194682865, 0.7568272545817456, 0.7672264770866962, 0.8558214246150437, 0.7741527241527242, 0.7665639867575804, 0.690652114967462, 0.8130305913348946, 0.7776855635001703, 0.8412445914991092, 0.8104241281809613, 0, 0.44630179424293276, 0.8917618364166278, 0.48821918533119896, 0.7428073979172826, 0.7980395412222084, 0.6095419096926404, 0, 0, 0, 0.7513156247144545, 0.7386588770090308, 0.812949360405339, 0.05832297820700079, 0.6477563891991328, 0.7370564516129032, 0.8667888624721628, 0.8293078393166706, 0, 0.7336764617870609, 0.777878451843237]\n"
     ]
    },
    {
     "name": "stderr",
     "output_type": "stream",
     "text": [
      "\r",
      "80it [12:06,  4.05s/it]"
     ]
    },
    {
     "name": "stdout",
     "output_type": "stream",
     "text": [
      "[0, 0.6548204440470868, 0.36697748464862406, 0.6933685688330994, 0.7680387588298384, 0.6127588627588627, 0.7252385865359814, 0.0003047597938715576, 0.7408958901698495, 0.6626438168798777, 0.24205674283319775, 0.6371020830735412, 0.7369217717334406, 6.248828344685372e-05, 0.2231300381178529, 0.24178662442316964, 0.6828319113905104, 0.6439461333169729, 0.04739088189906457, 0.46654842485008624, 0.7540482697738963, 0.8339769493596491, 0.1846355827792001, 0.8203670534485892, 0.7047907380932358, 0.7972200349207436, 0.5005495713343592, 0.8391121362349664, 0.7638112463005591, 0.7436311655737531, 0.7655913283337643, 0.013401452618335018, 0.7344119815310597, 0.690811736406507, 0.4259724668214454, 0.001355197181189863, 0.7735618006442281, 0.7415006262097233, 0.823390533570024, 0.9036922057310288, 0, 0.8596660297111306, 0.6924840910393855, 0.43135153598189696, 0.7888557231478747, 0.4825931183667951, 0.6083284404498441, 0.8195015968554231, 0.8574138242490926, 0.809812633363538, 0.7472780469087247, 0.678177274935795, 0.8975682868253191, 0.7067268875654502, 0.6964956830878618, 0.6602183194682865, 0.7568272545817456, 0.7672264770866962, 0.8558214246150437, 0.7741527241527242, 0.7665639867575804, 0.690652114967462, 0.8130305913348946, 0.7776855635001703, 0.8412445914991092, 0.8104241281809613, 0, 0.44630179424293276, 0.8917618364166278, 0.48821918533119896, 0.7428073979172826, 0.7980395412222084, 0.6095419096926404, 0, 0, 0, 0.7513156247144545, 0.7386588770090308, 0.812949360405339, 0.05832297820700079, 0.6477563891991328, 0.7370564516129032, 0.8667888624721628, 0.8293078393166706, 0, 0.7336764617870609, 0.777878451843237, 0.5894467287023011]\n"
     ]
    },
    {
     "name": "stderr",
     "output_type": "stream",
     "text": [
      "\r",
      "81it [12:08,  3.46s/it]"
     ]
    },
    {
     "name": "stdout",
     "output_type": "stream",
     "text": [
      "[0, 0.6548204440470868, 0.36697748464862406, 0.6933685688330994, 0.7680387588298384, 0.6127588627588627, 0.7252385865359814, 0.0003047597938715576, 0.7408958901698495, 0.6626438168798777, 0.24205674283319775, 0.6371020830735412, 0.7369217717334406, 6.248828344685372e-05, 0.2231300381178529, 0.24178662442316964, 0.6828319113905104, 0.6439461333169729, 0.04739088189906457, 0.46654842485008624, 0.7540482697738963, 0.8339769493596491, 0.1846355827792001, 0.8203670534485892, 0.7047907380932358, 0.7972200349207436, 0.5005495713343592, 0.8391121362349664, 0.7638112463005591, 0.7436311655737531, 0.7655913283337643, 0.013401452618335018, 0.7344119815310597, 0.690811736406507, 0.4259724668214454, 0.001355197181189863, 0.7735618006442281, 0.7415006262097233, 0.823390533570024, 0.9036922057310288, 0, 0.8596660297111306, 0.6924840910393855, 0.43135153598189696, 0.7888557231478747, 0.4825931183667951, 0.6083284404498441, 0.8195015968554231, 0.8574138242490926, 0.809812633363538, 0.7472780469087247, 0.678177274935795, 0.8975682868253191, 0.7067268875654502, 0.6964956830878618, 0.6602183194682865, 0.7568272545817456, 0.7672264770866962, 0.8558214246150437, 0.7741527241527242, 0.7665639867575804, 0.690652114967462, 0.8130305913348946, 0.7776855635001703, 0.8412445914991092, 0.8104241281809613, 0, 0.44630179424293276, 0.8917618364166278, 0.48821918533119896, 0.7428073979172826, 0.7980395412222084, 0.6095419096926404, 0, 0, 0, 0.7513156247144545, 0.7386588770090308, 0.812949360405339, 0.05832297820700079, 0.6477563891991328, 0.7370564516129032, 0.8667888624721628, 0.8293078393166706, 0, 0.7336764617870609, 0.777878451843237, 0.5894467287023011, 0.16694698777449568]\n"
     ]
    },
    {
     "name": "stderr",
     "output_type": "stream",
     "text": [
      "\r",
      "82it [12:09,  2.74s/it]"
     ]
    },
    {
     "name": "stdout",
     "output_type": "stream",
     "text": [
      "[0, 0.6548204440470868, 0.36697748464862406, 0.6933685688330994, 0.7680387588298384, 0.6127588627588627, 0.7252385865359814, 0.0003047597938715576, 0.7408958901698495, 0.6626438168798777, 0.24205674283319775, 0.6371020830735412, 0.7369217717334406, 6.248828344685372e-05, 0.2231300381178529, 0.24178662442316964, 0.6828319113905104, 0.6439461333169729, 0.04739088189906457, 0.46654842485008624, 0.7540482697738963, 0.8339769493596491, 0.1846355827792001, 0.8203670534485892, 0.7047907380932358, 0.7972200349207436, 0.5005495713343592, 0.8391121362349664, 0.7638112463005591, 0.7436311655737531, 0.7655913283337643, 0.013401452618335018, 0.7344119815310597, 0.690811736406507, 0.4259724668214454, 0.001355197181189863, 0.7735618006442281, 0.7415006262097233, 0.823390533570024, 0.9036922057310288, 0, 0.8596660297111306, 0.6924840910393855, 0.43135153598189696, 0.7888557231478747, 0.4825931183667951, 0.6083284404498441, 0.8195015968554231, 0.8574138242490926, 0.809812633363538, 0.7472780469087247, 0.678177274935795, 0.8975682868253191, 0.7067268875654502, 0.6964956830878618, 0.6602183194682865, 0.7568272545817456, 0.7672264770866962, 0.8558214246150437, 0.7741527241527242, 0.7665639867575804, 0.690652114967462, 0.8130305913348946, 0.7776855635001703, 0.8412445914991092, 0.8104241281809613, 0, 0.44630179424293276, 0.8917618364166278, 0.48821918533119896, 0.7428073979172826, 0.7980395412222084, 0.6095419096926404, 0, 0, 0, 0.7513156247144545, 0.7386588770090308, 0.812949360405339, 0.05832297820700079, 0.6477563891991328, 0.7370564516129032, 0.8667888624721628, 0.8293078393166706, 0, 0.7336764617870609, 0.777878451843237, 0.5894467287023011, 0.16694698777449568, 0.7887184654426034]\n"
     ]
    },
    {
     "name": "stderr",
     "output_type": "stream",
     "text": [
      "\r",
      "83it [12:12,  2.76s/it]"
     ]
    },
    {
     "name": "stdout",
     "output_type": "stream",
     "text": [
      "[0, 0.6548204440470868, 0.36697748464862406, 0.6933685688330994, 0.7680387588298384, 0.6127588627588627, 0.7252385865359814, 0.0003047597938715576, 0.7408958901698495, 0.6626438168798777, 0.24205674283319775, 0.6371020830735412, 0.7369217717334406, 6.248828344685372e-05, 0.2231300381178529, 0.24178662442316964, 0.6828319113905104, 0.6439461333169729, 0.04739088189906457, 0.46654842485008624, 0.7540482697738963, 0.8339769493596491, 0.1846355827792001, 0.8203670534485892, 0.7047907380932358, 0.7972200349207436, 0.5005495713343592, 0.8391121362349664, 0.7638112463005591, 0.7436311655737531, 0.7655913283337643, 0.013401452618335018, 0.7344119815310597, 0.690811736406507, 0.4259724668214454, 0.001355197181189863, 0.7735618006442281, 0.7415006262097233, 0.823390533570024, 0.9036922057310288, 0, 0.8596660297111306, 0.6924840910393855, 0.43135153598189696, 0.7888557231478747, 0.4825931183667951, 0.6083284404498441, 0.8195015968554231, 0.8574138242490926, 0.809812633363538, 0.7472780469087247, 0.678177274935795, 0.8975682868253191, 0.7067268875654502, 0.6964956830878618, 0.6602183194682865, 0.7568272545817456, 0.7672264770866962, 0.8558214246150437, 0.7741527241527242, 0.7665639867575804, 0.690652114967462, 0.8130305913348946, 0.7776855635001703, 0.8412445914991092, 0.8104241281809613, 0, 0.44630179424293276, 0.8917618364166278, 0.48821918533119896, 0.7428073979172826, 0.7980395412222084, 0.6095419096926404, 0, 0, 0, 0.7513156247144545, 0.7386588770090308, 0.812949360405339, 0.05832297820700079, 0.6477563891991328, 0.7370564516129032, 0.8667888624721628, 0.8293078393166706, 0, 0.7336764617870609, 0.777878451843237, 0.5894467287023011, 0.16694698777449568, 0.7887184654426034, 0]\n"
     ]
    },
    {
     "name": "stderr",
     "output_type": "stream",
     "text": [
      "\r",
      "84it [12:13,  2.13s/it]"
     ]
    },
    {
     "name": "stdout",
     "output_type": "stream",
     "text": [
      "[0, 0.6548204440470868, 0.36697748464862406, 0.6933685688330994, 0.7680387588298384, 0.6127588627588627, 0.7252385865359814, 0.0003047597938715576, 0.7408958901698495, 0.6626438168798777, 0.24205674283319775, 0.6371020830735412, 0.7369217717334406, 6.248828344685372e-05, 0.2231300381178529, 0.24178662442316964, 0.6828319113905104, 0.6439461333169729, 0.04739088189906457, 0.46654842485008624, 0.7540482697738963, 0.8339769493596491, 0.1846355827792001, 0.8203670534485892, 0.7047907380932358, 0.7972200349207436, 0.5005495713343592, 0.8391121362349664, 0.7638112463005591, 0.7436311655737531, 0.7655913283337643, 0.013401452618335018, 0.7344119815310597, 0.690811736406507, 0.4259724668214454, 0.001355197181189863, 0.7735618006442281, 0.7415006262097233, 0.823390533570024, 0.9036922057310288, 0, 0.8596660297111306, 0.6924840910393855, 0.43135153598189696, 0.7888557231478747, 0.4825931183667951, 0.6083284404498441, 0.8195015968554231, 0.8574138242490926, 0.809812633363538, 0.7472780469087247, 0.678177274935795, 0.8975682868253191, 0.7067268875654502, 0.6964956830878618, 0.6602183194682865, 0.7568272545817456, 0.7672264770866962, 0.8558214246150437, 0.7741527241527242, 0.7665639867575804, 0.690652114967462, 0.8130305913348946, 0.7776855635001703, 0.8412445914991092, 0.8104241281809613, 0, 0.44630179424293276, 0.8917618364166278, 0.48821918533119896, 0.7428073979172826, 0.7980395412222084, 0.6095419096926404, 0, 0, 0, 0.7513156247144545, 0.7386588770090308, 0.812949360405339, 0.05832297820700079, 0.6477563891991328, 0.7370564516129032, 0.8667888624721628, 0.8293078393166706, 0, 0.7336764617870609, 0.777878451843237, 0.5894467287023011, 0.16694698777449568, 0.7887184654426034, 0, 0.0020099811229909743]\n"
     ]
    },
    {
     "name": "stderr",
     "output_type": "stream",
     "text": [
      "\r",
      "85it [12:15,  2.25s/it]"
     ]
    },
    {
     "name": "stdout",
     "output_type": "stream",
     "text": [
      "[0, 0.6548204440470868, 0.36697748464862406, 0.6933685688330994, 0.7680387588298384, 0.6127588627588627, 0.7252385865359814, 0.0003047597938715576, 0.7408958901698495, 0.6626438168798777, 0.24205674283319775, 0.6371020830735412, 0.7369217717334406, 6.248828344685372e-05, 0.2231300381178529, 0.24178662442316964, 0.6828319113905104, 0.6439461333169729, 0.04739088189906457, 0.46654842485008624, 0.7540482697738963, 0.8339769493596491, 0.1846355827792001, 0.8203670534485892, 0.7047907380932358, 0.7972200349207436, 0.5005495713343592, 0.8391121362349664, 0.7638112463005591, 0.7436311655737531, 0.7655913283337643, 0.013401452618335018, 0.7344119815310597, 0.690811736406507, 0.4259724668214454, 0.001355197181189863, 0.7735618006442281, 0.7415006262097233, 0.823390533570024, 0.9036922057310288, 0, 0.8596660297111306, 0.6924840910393855, 0.43135153598189696, 0.7888557231478747, 0.4825931183667951, 0.6083284404498441, 0.8195015968554231, 0.8574138242490926, 0.809812633363538, 0.7472780469087247, 0.678177274935795, 0.8975682868253191, 0.7067268875654502, 0.6964956830878618, 0.6602183194682865, 0.7568272545817456, 0.7672264770866962, 0.8558214246150437, 0.7741527241527242, 0.7665639867575804, 0.690652114967462, 0.8130305913348946, 0.7776855635001703, 0.8412445914991092, 0.8104241281809613, 0, 0.44630179424293276, 0.8917618364166278, 0.48821918533119896, 0.7428073979172826, 0.7980395412222084, 0.6095419096926404, 0, 0, 0, 0.7513156247144545, 0.7386588770090308, 0.812949360405339, 0.05832297820700079, 0.6477563891991328, 0.7370564516129032, 0.8667888624721628, 0.8293078393166706, 0, 0.7336764617870609, 0.777878451843237, 0.5894467287023011, 0.16694698777449568, 0.7887184654426034, 0, 0.0020099811229909743, 0.6435864709636248]\n"
     ]
    },
    {
     "name": "stderr",
     "output_type": "stream",
     "text": [
      "\r",
      "86it [12:17,  2.16s/it]"
     ]
    },
    {
     "name": "stdout",
     "output_type": "stream",
     "text": [
      "[0, 0.6548204440470868, 0.36697748464862406, 0.6933685688330994, 0.7680387588298384, 0.6127588627588627, 0.7252385865359814, 0.0003047597938715576, 0.7408958901698495, 0.6626438168798777, 0.24205674283319775, 0.6371020830735412, 0.7369217717334406, 6.248828344685372e-05, 0.2231300381178529, 0.24178662442316964, 0.6828319113905104, 0.6439461333169729, 0.04739088189906457, 0.46654842485008624, 0.7540482697738963, 0.8339769493596491, 0.1846355827792001, 0.8203670534485892, 0.7047907380932358, 0.7972200349207436, 0.5005495713343592, 0.8391121362349664, 0.7638112463005591, 0.7436311655737531, 0.7655913283337643, 0.013401452618335018, 0.7344119815310597, 0.690811736406507, 0.4259724668214454, 0.001355197181189863, 0.7735618006442281, 0.7415006262097233, 0.823390533570024, 0.9036922057310288, 0, 0.8596660297111306, 0.6924840910393855, 0.43135153598189696, 0.7888557231478747, 0.4825931183667951, 0.6083284404498441, 0.8195015968554231, 0.8574138242490926, 0.809812633363538, 0.7472780469087247, 0.678177274935795, 0.8975682868253191, 0.7067268875654502, 0.6964956830878618, 0.6602183194682865, 0.7568272545817456, 0.7672264770866962, 0.8558214246150437, 0.7741527241527242, 0.7665639867575804, 0.690652114967462, 0.8130305913348946, 0.7776855635001703, 0.8412445914991092, 0.8104241281809613, 0, 0.44630179424293276, 0.8917618364166278, 0.48821918533119896, 0.7428073979172826, 0.7980395412222084, 0.6095419096926404, 0, 0, 0, 0.7513156247144545, 0.7386588770090308, 0.812949360405339, 0.05832297820700079, 0.6477563891991328, 0.7370564516129032, 0.8667888624721628, 0.8293078393166706, 0, 0.7336764617870609, 0.777878451843237, 0.5894467287023011, 0.16694698777449568, 0.7887184654426034, 0, 0.0020099811229909743, 0.6435864709636248, 0.854059051963262]\n"
     ]
    },
    {
     "name": "stderr",
     "output_type": "stream",
     "text": [
      "\r",
      "87it [14:05, 33.88s/it]"
     ]
    },
    {
     "name": "stdout",
     "output_type": "stream",
     "text": [
      "[0, 0.6548204440470868, 0.36697748464862406, 0.6933685688330994, 0.7680387588298384, 0.6127588627588627, 0.7252385865359814, 0.0003047597938715576, 0.7408958901698495, 0.6626438168798777, 0.24205674283319775, 0.6371020830735412, 0.7369217717334406, 6.248828344685372e-05, 0.2231300381178529, 0.24178662442316964, 0.6828319113905104, 0.6439461333169729, 0.04739088189906457, 0.46654842485008624, 0.7540482697738963, 0.8339769493596491, 0.1846355827792001, 0.8203670534485892, 0.7047907380932358, 0.7972200349207436, 0.5005495713343592, 0.8391121362349664, 0.7638112463005591, 0.7436311655737531, 0.7655913283337643, 0.013401452618335018, 0.7344119815310597, 0.690811736406507, 0.4259724668214454, 0.001355197181189863, 0.7735618006442281, 0.7415006262097233, 0.823390533570024, 0.9036922057310288, 0, 0.8596660297111306, 0.6924840910393855, 0.43135153598189696, 0.7888557231478747, 0.4825931183667951, 0.6083284404498441, 0.8195015968554231, 0.8574138242490926, 0.809812633363538, 0.7472780469087247, 0.678177274935795, 0.8975682868253191, 0.7067268875654502, 0.6964956830878618, 0.6602183194682865, 0.7568272545817456, 0.7672264770866962, 0.8558214246150437, 0.7741527241527242, 0.7665639867575804, 0.690652114967462, 0.8130305913348946, 0.7776855635001703, 0.8412445914991092, 0.8104241281809613, 0, 0.44630179424293276, 0.8917618364166278, 0.48821918533119896, 0.7428073979172826, 0.7980395412222084, 0.6095419096926404, 0, 0, 0, 0.7513156247144545, 0.7386588770090308, 0.812949360405339, 0.05832297820700079, 0.6477563891991328, 0.7370564516129032, 0.8667888624721628, 0.8293078393166706, 0, 0.7336764617870609, 0.777878451843237, 0.5894467287023011, 0.16694698777449568, 0.7887184654426034, 0, 0.0020099811229909743, 0.6435864709636248, 0.854059051963262, 0.8340886056779394]\n"
     ]
    },
    {
     "name": "stderr",
     "output_type": "stream",
     "text": [
      "\r",
      "88it [14:45, 35.75s/it]"
     ]
    },
    {
     "name": "stdout",
     "output_type": "stream",
     "text": [
      "[0, 0.6548204440470868, 0.36697748464862406, 0.6933685688330994, 0.7680387588298384, 0.6127588627588627, 0.7252385865359814, 0.0003047597938715576, 0.7408958901698495, 0.6626438168798777, 0.24205674283319775, 0.6371020830735412, 0.7369217717334406, 6.248828344685372e-05, 0.2231300381178529, 0.24178662442316964, 0.6828319113905104, 0.6439461333169729, 0.04739088189906457, 0.46654842485008624, 0.7540482697738963, 0.8339769493596491, 0.1846355827792001, 0.8203670534485892, 0.7047907380932358, 0.7972200349207436, 0.5005495713343592, 0.8391121362349664, 0.7638112463005591, 0.7436311655737531, 0.7655913283337643, 0.013401452618335018, 0.7344119815310597, 0.690811736406507, 0.4259724668214454, 0.001355197181189863, 0.7735618006442281, 0.7415006262097233, 0.823390533570024, 0.9036922057310288, 0, 0.8596660297111306, 0.6924840910393855, 0.43135153598189696, 0.7888557231478747, 0.4825931183667951, 0.6083284404498441, 0.8195015968554231, 0.8574138242490926, 0.809812633363538, 0.7472780469087247, 0.678177274935795, 0.8975682868253191, 0.7067268875654502, 0.6964956830878618, 0.6602183194682865, 0.7568272545817456, 0.7672264770866962, 0.8558214246150437, 0.7741527241527242, 0.7665639867575804, 0.690652114967462, 0.8130305913348946, 0.7776855635001703, 0.8412445914991092, 0.8104241281809613, 0, 0.44630179424293276, 0.8917618364166278, 0.48821918533119896, 0.7428073979172826, 0.7980395412222084, 0.6095419096926404, 0, 0, 0, 0.7513156247144545, 0.7386588770090308, 0.812949360405339, 0.05832297820700079, 0.6477563891991328, 0.7370564516129032, 0.8667888624721628, 0.8293078393166706, 0, 0.7336764617870609, 0.777878451843237, 0.5894467287023011, 0.16694698777449568, 0.7887184654426034, 0, 0.0020099811229909743, 0.6435864709636248, 0.854059051963262, 0.8340886056779394, 0.4987240180486722]\n"
     ]
    },
    {
     "name": "stderr",
     "output_type": "stream",
     "text": [
      "\r",
      "89it [14:53, 27.37s/it]"
     ]
    },
    {
     "name": "stdout",
     "output_type": "stream",
     "text": [
      "[0, 0.6548204440470868, 0.36697748464862406, 0.6933685688330994, 0.7680387588298384, 0.6127588627588627, 0.7252385865359814, 0.0003047597938715576, 0.7408958901698495, 0.6626438168798777, 0.24205674283319775, 0.6371020830735412, 0.7369217717334406, 6.248828344685372e-05, 0.2231300381178529, 0.24178662442316964, 0.6828319113905104, 0.6439461333169729, 0.04739088189906457, 0.46654842485008624, 0.7540482697738963, 0.8339769493596491, 0.1846355827792001, 0.8203670534485892, 0.7047907380932358, 0.7972200349207436, 0.5005495713343592, 0.8391121362349664, 0.7638112463005591, 0.7436311655737531, 0.7655913283337643, 0.013401452618335018, 0.7344119815310597, 0.690811736406507, 0.4259724668214454, 0.001355197181189863, 0.7735618006442281, 0.7415006262097233, 0.823390533570024, 0.9036922057310288, 0, 0.8596660297111306, 0.6924840910393855, 0.43135153598189696, 0.7888557231478747, 0.4825931183667951, 0.6083284404498441, 0.8195015968554231, 0.8574138242490926, 0.809812633363538, 0.7472780469087247, 0.678177274935795, 0.8975682868253191, 0.7067268875654502, 0.6964956830878618, 0.6602183194682865, 0.7568272545817456, 0.7672264770866962, 0.8558214246150437, 0.7741527241527242, 0.7665639867575804, 0.690652114967462, 0.8130305913348946, 0.7776855635001703, 0.8412445914991092, 0.8104241281809613, 0, 0.44630179424293276, 0.8917618364166278, 0.48821918533119896, 0.7428073979172826, 0.7980395412222084, 0.6095419096926404, 0, 0, 0, 0.7513156247144545, 0.7386588770090308, 0.812949360405339, 0.05832297820700079, 0.6477563891991328, 0.7370564516129032, 0.8667888624721628, 0.8293078393166706, 0, 0.7336764617870609, 0.777878451843237, 0.5894467287023011, 0.16694698777449568, 0.7887184654426034, 0, 0.0020099811229909743, 0.6435864709636248, 0.854059051963262, 0.8340886056779394, 0.4987240180486722, 0.6972859140984741]\n"
     ]
    },
    {
     "name": "stderr",
     "output_type": "stream",
     "text": [
      "\r",
      "90it [14:59, 20.84s/it]"
     ]
    },
    {
     "name": "stdout",
     "output_type": "stream",
     "text": [
      "[0, 0.6548204440470868, 0.36697748464862406, 0.6933685688330994, 0.7680387588298384, 0.6127588627588627, 0.7252385865359814, 0.0003047597938715576, 0.7408958901698495, 0.6626438168798777, 0.24205674283319775, 0.6371020830735412, 0.7369217717334406, 6.248828344685372e-05, 0.2231300381178529, 0.24178662442316964, 0.6828319113905104, 0.6439461333169729, 0.04739088189906457, 0.46654842485008624, 0.7540482697738963, 0.8339769493596491, 0.1846355827792001, 0.8203670534485892, 0.7047907380932358, 0.7972200349207436, 0.5005495713343592, 0.8391121362349664, 0.7638112463005591, 0.7436311655737531, 0.7655913283337643, 0.013401452618335018, 0.7344119815310597, 0.690811736406507, 0.4259724668214454, 0.001355197181189863, 0.7735618006442281, 0.7415006262097233, 0.823390533570024, 0.9036922057310288, 0, 0.8596660297111306, 0.6924840910393855, 0.43135153598189696, 0.7888557231478747, 0.4825931183667951, 0.6083284404498441, 0.8195015968554231, 0.8574138242490926, 0.809812633363538, 0.7472780469087247, 0.678177274935795, 0.8975682868253191, 0.7067268875654502, 0.6964956830878618, 0.6602183194682865, 0.7568272545817456, 0.7672264770866962, 0.8558214246150437, 0.7741527241527242, 0.7665639867575804, 0.690652114967462, 0.8130305913348946, 0.7776855635001703, 0.8412445914991092, 0.8104241281809613, 0, 0.44630179424293276, 0.8917618364166278, 0.48821918533119896, 0.7428073979172826, 0.7980395412222084, 0.6095419096926404, 0, 0, 0, 0.7513156247144545, 0.7386588770090308, 0.812949360405339, 0.05832297820700079, 0.6477563891991328, 0.7370564516129032, 0.8667888624721628, 0.8293078393166706, 0, 0.7336764617870609, 0.777878451843237, 0.5894467287023011, 0.16694698777449568, 0.7887184654426034, 0, 0.0020099811229909743, 0.6435864709636248, 0.854059051963262, 0.8340886056779394, 0.4987240180486722, 0.6972859140984741, 0.7247714359876561]\n"
     ]
    },
    {
     "name": "stderr",
     "output_type": "stream",
     "text": [
      "\r",
      "91it [15:12, 18.58s/it]"
     ]
    },
    {
     "name": "stdout",
     "output_type": "stream",
     "text": [
      "[0, 0.6548204440470868, 0.36697748464862406, 0.6933685688330994, 0.7680387588298384, 0.6127588627588627, 0.7252385865359814, 0.0003047597938715576, 0.7408958901698495, 0.6626438168798777, 0.24205674283319775, 0.6371020830735412, 0.7369217717334406, 6.248828344685372e-05, 0.2231300381178529, 0.24178662442316964, 0.6828319113905104, 0.6439461333169729, 0.04739088189906457, 0.46654842485008624, 0.7540482697738963, 0.8339769493596491, 0.1846355827792001, 0.8203670534485892, 0.7047907380932358, 0.7972200349207436, 0.5005495713343592, 0.8391121362349664, 0.7638112463005591, 0.7436311655737531, 0.7655913283337643, 0.013401452618335018, 0.7344119815310597, 0.690811736406507, 0.4259724668214454, 0.001355197181189863, 0.7735618006442281, 0.7415006262097233, 0.823390533570024, 0.9036922057310288, 0, 0.8596660297111306, 0.6924840910393855, 0.43135153598189696, 0.7888557231478747, 0.4825931183667951, 0.6083284404498441, 0.8195015968554231, 0.8574138242490926, 0.809812633363538, 0.7472780469087247, 0.678177274935795, 0.8975682868253191, 0.7067268875654502, 0.6964956830878618, 0.6602183194682865, 0.7568272545817456, 0.7672264770866962, 0.8558214246150437, 0.7741527241527242, 0.7665639867575804, 0.690652114967462, 0.8130305913348946, 0.7776855635001703, 0.8412445914991092, 0.8104241281809613, 0, 0.44630179424293276, 0.8917618364166278, 0.48821918533119896, 0.7428073979172826, 0.7980395412222084, 0.6095419096926404, 0, 0, 0, 0.7513156247144545, 0.7386588770090308, 0.812949360405339, 0.05832297820700079, 0.6477563891991328, 0.7370564516129032, 0.8667888624721628, 0.8293078393166706, 0, 0.7336764617870609, 0.777878451843237, 0.5894467287023011, 0.16694698777449568, 0.7887184654426034, 0, 0.0020099811229909743, 0.6435864709636248, 0.854059051963262, 0.8340886056779394, 0.4987240180486722, 0.6972859140984741, 0.7247714359876561, 0.7239895662462689]\n"
     ]
    },
    {
     "name": "stderr",
     "output_type": "stream",
     "text": [
      "\r",
      "92it [16:15, 31.77s/it]"
     ]
    },
    {
     "name": "stdout",
     "output_type": "stream",
     "text": [
      "[0, 0.6548204440470868, 0.36697748464862406, 0.6933685688330994, 0.7680387588298384, 0.6127588627588627, 0.7252385865359814, 0.0003047597938715576, 0.7408958901698495, 0.6626438168798777, 0.24205674283319775, 0.6371020830735412, 0.7369217717334406, 6.248828344685372e-05, 0.2231300381178529, 0.24178662442316964, 0.6828319113905104, 0.6439461333169729, 0.04739088189906457, 0.46654842485008624, 0.7540482697738963, 0.8339769493596491, 0.1846355827792001, 0.8203670534485892, 0.7047907380932358, 0.7972200349207436, 0.5005495713343592, 0.8391121362349664, 0.7638112463005591, 0.7436311655737531, 0.7655913283337643, 0.013401452618335018, 0.7344119815310597, 0.690811736406507, 0.4259724668214454, 0.001355197181189863, 0.7735618006442281, 0.7415006262097233, 0.823390533570024, 0.9036922057310288, 0, 0.8596660297111306, 0.6924840910393855, 0.43135153598189696, 0.7888557231478747, 0.4825931183667951, 0.6083284404498441, 0.8195015968554231, 0.8574138242490926, 0.809812633363538, 0.7472780469087247, 0.678177274935795, 0.8975682868253191, 0.7067268875654502, 0.6964956830878618, 0.6602183194682865, 0.7568272545817456, 0.7672264770866962, 0.8558214246150437, 0.7741527241527242, 0.7665639867575804, 0.690652114967462, 0.8130305913348946, 0.7776855635001703, 0.8412445914991092, 0.8104241281809613, 0, 0.44630179424293276, 0.8917618364166278, 0.48821918533119896, 0.7428073979172826, 0.7980395412222084, 0.6095419096926404, 0, 0, 0, 0.7513156247144545, 0.7386588770090308, 0.812949360405339, 0.05832297820700079, 0.6477563891991328, 0.7370564516129032, 0.8667888624721628, 0.8293078393166706, 0, 0.7336764617870609, 0.777878451843237, 0.5894467287023011, 0.16694698777449568, 0.7887184654426034, 0, 0.0020099811229909743, 0.6435864709636248, 0.854059051963262, 0.8340886056779394, 0.4987240180486722, 0.6972859140984741, 0.7247714359876561, 0.7239895662462689, 0.8703667841512065]\n"
     ]
    },
    {
     "name": "stderr",
     "output_type": "stream",
     "text": [
      "\r",
      "93it [16:27, 25.90s/it]"
     ]
    },
    {
     "name": "stdout",
     "output_type": "stream",
     "text": [
      "[0, 0.6548204440470868, 0.36697748464862406, 0.6933685688330994, 0.7680387588298384, 0.6127588627588627, 0.7252385865359814, 0.0003047597938715576, 0.7408958901698495, 0.6626438168798777, 0.24205674283319775, 0.6371020830735412, 0.7369217717334406, 6.248828344685372e-05, 0.2231300381178529, 0.24178662442316964, 0.6828319113905104, 0.6439461333169729, 0.04739088189906457, 0.46654842485008624, 0.7540482697738963, 0.8339769493596491, 0.1846355827792001, 0.8203670534485892, 0.7047907380932358, 0.7972200349207436, 0.5005495713343592, 0.8391121362349664, 0.7638112463005591, 0.7436311655737531, 0.7655913283337643, 0.013401452618335018, 0.7344119815310597, 0.690811736406507, 0.4259724668214454, 0.001355197181189863, 0.7735618006442281, 0.7415006262097233, 0.823390533570024, 0.9036922057310288, 0, 0.8596660297111306, 0.6924840910393855, 0.43135153598189696, 0.7888557231478747, 0.4825931183667951, 0.6083284404498441, 0.8195015968554231, 0.8574138242490926, 0.809812633363538, 0.7472780469087247, 0.678177274935795, 0.8975682868253191, 0.7067268875654502, 0.6964956830878618, 0.6602183194682865, 0.7568272545817456, 0.7672264770866962, 0.8558214246150437, 0.7741527241527242, 0.7665639867575804, 0.690652114967462, 0.8130305913348946, 0.7776855635001703, 0.8412445914991092, 0.8104241281809613, 0, 0.44630179424293276, 0.8917618364166278, 0.48821918533119896, 0.7428073979172826, 0.7980395412222084, 0.6095419096926404, 0, 0, 0, 0.7513156247144545, 0.7386588770090308, 0.812949360405339, 0.05832297820700079, 0.6477563891991328, 0.7370564516129032, 0.8667888624721628, 0.8293078393166706, 0, 0.7336764617870609, 0.777878451843237, 0.5894467287023011, 0.16694698777449568, 0.7887184654426034, 0, 0.0020099811229909743, 0.6435864709636248, 0.854059051963262, 0.8340886056779394, 0.4987240180486722, 0.6972859140984741, 0.7247714359876561, 0.7239895662462689, 0.8703667841512065, 0.827850325579418]\n"
     ]
    },
    {
     "name": "stderr",
     "output_type": "stream",
     "text": [
      "\r",
      "94it [16:35, 20.62s/it]"
     ]
    },
    {
     "name": "stdout",
     "output_type": "stream",
     "text": [
      "[0, 0.6548204440470868, 0.36697748464862406, 0.6933685688330994, 0.7680387588298384, 0.6127588627588627, 0.7252385865359814, 0.0003047597938715576, 0.7408958901698495, 0.6626438168798777, 0.24205674283319775, 0.6371020830735412, 0.7369217717334406, 6.248828344685372e-05, 0.2231300381178529, 0.24178662442316964, 0.6828319113905104, 0.6439461333169729, 0.04739088189906457, 0.46654842485008624, 0.7540482697738963, 0.8339769493596491, 0.1846355827792001, 0.8203670534485892, 0.7047907380932358, 0.7972200349207436, 0.5005495713343592, 0.8391121362349664, 0.7638112463005591, 0.7436311655737531, 0.7655913283337643, 0.013401452618335018, 0.7344119815310597, 0.690811736406507, 0.4259724668214454, 0.001355197181189863, 0.7735618006442281, 0.7415006262097233, 0.823390533570024, 0.9036922057310288, 0, 0.8596660297111306, 0.6924840910393855, 0.43135153598189696, 0.7888557231478747, 0.4825931183667951, 0.6083284404498441, 0.8195015968554231, 0.8574138242490926, 0.809812633363538, 0.7472780469087247, 0.678177274935795, 0.8975682868253191, 0.7067268875654502, 0.6964956830878618, 0.6602183194682865, 0.7568272545817456, 0.7672264770866962, 0.8558214246150437, 0.7741527241527242, 0.7665639867575804, 0.690652114967462, 0.8130305913348946, 0.7776855635001703, 0.8412445914991092, 0.8104241281809613, 0, 0.44630179424293276, 0.8917618364166278, 0.48821918533119896, 0.7428073979172826, 0.7980395412222084, 0.6095419096926404, 0, 0, 0, 0.7513156247144545, 0.7386588770090308, 0.812949360405339, 0.05832297820700079, 0.6477563891991328, 0.7370564516129032, 0.8667888624721628, 0.8293078393166706, 0, 0.7336764617870609, 0.777878451843237, 0.5894467287023011, 0.16694698777449568, 0.7887184654426034, 0, 0.0020099811229909743, 0.6435864709636248, 0.854059051963262, 0.8340886056779394, 0.4987240180486722, 0.6972859140984741, 0.7247714359876561, 0.7239895662462689, 0.8703667841512065, 0.827850325579418, 0.2042517091671241]\n"
     ]
    },
    {
     "name": "stderr",
     "output_type": "stream",
     "text": [
      "\r",
      "95it [16:52, 19.60s/it]"
     ]
    },
    {
     "name": "stdout",
     "output_type": "stream",
     "text": [
      "[0, 0.6548204440470868, 0.36697748464862406, 0.6933685688330994, 0.7680387588298384, 0.6127588627588627, 0.7252385865359814, 0.0003047597938715576, 0.7408958901698495, 0.6626438168798777, 0.24205674283319775, 0.6371020830735412, 0.7369217717334406, 6.248828344685372e-05, 0.2231300381178529, 0.24178662442316964, 0.6828319113905104, 0.6439461333169729, 0.04739088189906457, 0.46654842485008624, 0.7540482697738963, 0.8339769493596491, 0.1846355827792001, 0.8203670534485892, 0.7047907380932358, 0.7972200349207436, 0.5005495713343592, 0.8391121362349664, 0.7638112463005591, 0.7436311655737531, 0.7655913283337643, 0.013401452618335018, 0.7344119815310597, 0.690811736406507, 0.4259724668214454, 0.001355197181189863, 0.7735618006442281, 0.7415006262097233, 0.823390533570024, 0.9036922057310288, 0, 0.8596660297111306, 0.6924840910393855, 0.43135153598189696, 0.7888557231478747, 0.4825931183667951, 0.6083284404498441, 0.8195015968554231, 0.8574138242490926, 0.809812633363538, 0.7472780469087247, 0.678177274935795, 0.8975682868253191, 0.7067268875654502, 0.6964956830878618, 0.6602183194682865, 0.7568272545817456, 0.7672264770866962, 0.8558214246150437, 0.7741527241527242, 0.7665639867575804, 0.690652114967462, 0.8130305913348946, 0.7776855635001703, 0.8412445914991092, 0.8104241281809613, 0, 0.44630179424293276, 0.8917618364166278, 0.48821918533119896, 0.7428073979172826, 0.7980395412222084, 0.6095419096926404, 0, 0, 0, 0.7513156247144545, 0.7386588770090308, 0.812949360405339, 0.05832297820700079, 0.6477563891991328, 0.7370564516129032, 0.8667888624721628, 0.8293078393166706, 0, 0.7336764617870609, 0.777878451843237, 0.5894467287023011, 0.16694698777449568, 0.7887184654426034, 0, 0.0020099811229909743, 0.6435864709636248, 0.854059051963262, 0.8340886056779394, 0.4987240180486722, 0.6972859140984741, 0.7247714359876561, 0.7239895662462689, 0.8703667841512065, 0.827850325579418, 0.2042517091671241, 0.5455470737913486]\n"
     ]
    },
    {
     "name": "stderr",
     "output_type": "stream",
     "text": [
      "\r",
      "96it [17:10, 18.93s/it]"
     ]
    },
    {
     "name": "stdout",
     "output_type": "stream",
     "text": [
      "[0, 0.6548204440470868, 0.36697748464862406, 0.6933685688330994, 0.7680387588298384, 0.6127588627588627, 0.7252385865359814, 0.0003047597938715576, 0.7408958901698495, 0.6626438168798777, 0.24205674283319775, 0.6371020830735412, 0.7369217717334406, 6.248828344685372e-05, 0.2231300381178529, 0.24178662442316964, 0.6828319113905104, 0.6439461333169729, 0.04739088189906457, 0.46654842485008624, 0.7540482697738963, 0.8339769493596491, 0.1846355827792001, 0.8203670534485892, 0.7047907380932358, 0.7972200349207436, 0.5005495713343592, 0.8391121362349664, 0.7638112463005591, 0.7436311655737531, 0.7655913283337643, 0.013401452618335018, 0.7344119815310597, 0.690811736406507, 0.4259724668214454, 0.001355197181189863, 0.7735618006442281, 0.7415006262097233, 0.823390533570024, 0.9036922057310288, 0, 0.8596660297111306, 0.6924840910393855, 0.43135153598189696, 0.7888557231478747, 0.4825931183667951, 0.6083284404498441, 0.8195015968554231, 0.8574138242490926, 0.809812633363538, 0.7472780469087247, 0.678177274935795, 0.8975682868253191, 0.7067268875654502, 0.6964956830878618, 0.6602183194682865, 0.7568272545817456, 0.7672264770866962, 0.8558214246150437, 0.7741527241527242, 0.7665639867575804, 0.690652114967462, 0.8130305913348946, 0.7776855635001703, 0.8412445914991092, 0.8104241281809613, 0, 0.44630179424293276, 0.8917618364166278, 0.48821918533119896, 0.7428073979172826, 0.7980395412222084, 0.6095419096926404, 0, 0, 0, 0.7513156247144545, 0.7386588770090308, 0.812949360405339, 0.05832297820700079, 0.6477563891991328, 0.7370564516129032, 0.8667888624721628, 0.8293078393166706, 0, 0.7336764617870609, 0.777878451843237, 0.5894467287023011, 0.16694698777449568, 0.7887184654426034, 0, 0.0020099811229909743, 0.6435864709636248, 0.854059051963262, 0.8340886056779394, 0.4987240180486722, 0.6972859140984741, 0.7247714359876561, 0.7239895662462689, 0.8703667841512065, 0.827850325579418, 0.2042517091671241, 0.5455470737913486, 0.7937845667632342]\n"
     ]
    },
    {
     "name": "stderr",
     "output_type": "stream",
     "text": [
      "\r",
      "97it [17:11, 13.76s/it]"
     ]
    },
    {
     "name": "stdout",
     "output_type": "stream",
     "text": [
      "[0, 0.6548204440470868, 0.36697748464862406, 0.6933685688330994, 0.7680387588298384, 0.6127588627588627, 0.7252385865359814, 0.0003047597938715576, 0.7408958901698495, 0.6626438168798777, 0.24205674283319775, 0.6371020830735412, 0.7369217717334406, 6.248828344685372e-05, 0.2231300381178529, 0.24178662442316964, 0.6828319113905104, 0.6439461333169729, 0.04739088189906457, 0.46654842485008624, 0.7540482697738963, 0.8339769493596491, 0.1846355827792001, 0.8203670534485892, 0.7047907380932358, 0.7972200349207436, 0.5005495713343592, 0.8391121362349664, 0.7638112463005591, 0.7436311655737531, 0.7655913283337643, 0.013401452618335018, 0.7344119815310597, 0.690811736406507, 0.4259724668214454, 0.001355197181189863, 0.7735618006442281, 0.7415006262097233, 0.823390533570024, 0.9036922057310288, 0, 0.8596660297111306, 0.6924840910393855, 0.43135153598189696, 0.7888557231478747, 0.4825931183667951, 0.6083284404498441, 0.8195015968554231, 0.8574138242490926, 0.809812633363538, 0.7472780469087247, 0.678177274935795, 0.8975682868253191, 0.7067268875654502, 0.6964956830878618, 0.6602183194682865, 0.7568272545817456, 0.7672264770866962, 0.8558214246150437, 0.7741527241527242, 0.7665639867575804, 0.690652114967462, 0.8130305913348946, 0.7776855635001703, 0.8412445914991092, 0.8104241281809613, 0, 0.44630179424293276, 0.8917618364166278, 0.48821918533119896, 0.7428073979172826, 0.7980395412222084, 0.6095419096926404, 0, 0, 0, 0.7513156247144545, 0.7386588770090308, 0.812949360405339, 0.05832297820700079, 0.6477563891991328, 0.7370564516129032, 0.8667888624721628, 0.8293078393166706, 0, 0.7336764617870609, 0.777878451843237, 0.5894467287023011, 0.16694698777449568, 0.7887184654426034, 0, 0.0020099811229909743, 0.6435864709636248, 0.854059051963262, 0.8340886056779394, 0.4987240180486722, 0.6972859140984741, 0.7247714359876561, 0.7239895662462689, 0.8703667841512065, 0.827850325579418, 0.2042517091671241, 0.5455470737913486, 0.7937845667632342, 0.2315769852118802, 0.029577083852170817]\n"
     ]
    },
    {
     "name": "stderr",
     "output_type": "stream",
     "text": [
      "\r",
      "98it [17:20, 12.30s/it]"
     ]
    },
    {
     "name": "stdout",
     "output_type": "stream",
     "text": [
      "[0, 0.6548204440470868, 0.36697748464862406, 0.6933685688330994, 0.7680387588298384, 0.6127588627588627, 0.7252385865359814, 0.0003047597938715576, 0.7408958901698495, 0.6626438168798777, 0.24205674283319775, 0.6371020830735412, 0.7369217717334406, 6.248828344685372e-05, 0.2231300381178529, 0.24178662442316964, 0.6828319113905104, 0.6439461333169729, 0.04739088189906457, 0.46654842485008624, 0.7540482697738963, 0.8339769493596491, 0.1846355827792001, 0.8203670534485892, 0.7047907380932358, 0.7972200349207436, 0.5005495713343592, 0.8391121362349664, 0.7638112463005591, 0.7436311655737531, 0.7655913283337643, 0.013401452618335018, 0.7344119815310597, 0.690811736406507, 0.4259724668214454, 0.001355197181189863, 0.7735618006442281, 0.7415006262097233, 0.823390533570024, 0.9036922057310288, 0, 0.8596660297111306, 0.6924840910393855, 0.43135153598189696, 0.7888557231478747, 0.4825931183667951, 0.6083284404498441, 0.8195015968554231, 0.8574138242490926, 0.809812633363538, 0.7472780469087247, 0.678177274935795, 0.8975682868253191, 0.7067268875654502, 0.6964956830878618, 0.6602183194682865, 0.7568272545817456, 0.7672264770866962, 0.8558214246150437, 0.7741527241527242, 0.7665639867575804, 0.690652114967462, 0.8130305913348946, 0.7776855635001703, 0.8412445914991092, 0.8104241281809613, 0, 0.44630179424293276, 0.8917618364166278, 0.48821918533119896, 0.7428073979172826, 0.7980395412222084, 0.6095419096926404, 0, 0, 0, 0.7513156247144545, 0.7386588770090308, 0.812949360405339, 0.05832297820700079, 0.6477563891991328, 0.7370564516129032, 0.8667888624721628, 0.8293078393166706, 0, 0.7336764617870609, 0.777878451843237, 0.5894467287023011, 0.16694698777449568, 0.7887184654426034, 0, 0.0020099811229909743, 0.6435864709636248, 0.854059051963262, 0.8340886056779394, 0.4987240180486722, 0.6972859140984741, 0.7247714359876561, 0.7239895662462689, 0.8703667841512065, 0.827850325579418, 0.2042517091671241, 0.5455470737913486, 0.7937845667632342, 0.2315769852118802, 0.029577083852170817, 0.7463197601315408]\n"
     ]
    },
    {
     "name": "stderr",
     "output_type": "stream",
     "text": [
      "\r",
      "99it [17:27, 10.69s/it]"
     ]
    },
    {
     "name": "stdout",
     "output_type": "stream",
     "text": [
      "[0, 0.6548204440470868, 0.36697748464862406, 0.6933685688330994, 0.7680387588298384, 0.6127588627588627, 0.7252385865359814, 0.0003047597938715576, 0.7408958901698495, 0.6626438168798777, 0.24205674283319775, 0.6371020830735412, 0.7369217717334406, 6.248828344685372e-05, 0.2231300381178529, 0.24178662442316964, 0.6828319113905104, 0.6439461333169729, 0.04739088189906457, 0.46654842485008624, 0.7540482697738963, 0.8339769493596491, 0.1846355827792001, 0.8203670534485892, 0.7047907380932358, 0.7972200349207436, 0.5005495713343592, 0.8391121362349664, 0.7638112463005591, 0.7436311655737531, 0.7655913283337643, 0.013401452618335018, 0.7344119815310597, 0.690811736406507, 0.4259724668214454, 0.001355197181189863, 0.7735618006442281, 0.7415006262097233, 0.823390533570024, 0.9036922057310288, 0, 0.8596660297111306, 0.6924840910393855, 0.43135153598189696, 0.7888557231478747, 0.4825931183667951, 0.6083284404498441, 0.8195015968554231, 0.8574138242490926, 0.809812633363538, 0.7472780469087247, 0.678177274935795, 0.8975682868253191, 0.7067268875654502, 0.6964956830878618, 0.6602183194682865, 0.7568272545817456, 0.7672264770866962, 0.8558214246150437, 0.7741527241527242, 0.7665639867575804, 0.690652114967462, 0.8130305913348946, 0.7776855635001703, 0.8412445914991092, 0.8104241281809613, 0, 0.44630179424293276, 0.8917618364166278, 0.48821918533119896, 0.7428073979172826, 0.7980395412222084, 0.6095419096926404, 0, 0, 0, 0.7513156247144545, 0.7386588770090308, 0.812949360405339, 0.05832297820700079, 0.6477563891991328, 0.7370564516129032, 0.8667888624721628, 0.8293078393166706, 0, 0.7336764617870609, 0.777878451843237, 0.5894467287023011, 0.16694698777449568, 0.7887184654426034, 0, 0.0020099811229909743, 0.6435864709636248, 0.854059051963262, 0.8340886056779394, 0.4987240180486722, 0.6972859140984741, 0.7247714359876561, 0.7239895662462689, 0.8703667841512065, 0.827850325579418, 0.2042517091671241, 0.5455470737913486, 0.7937845667632342, 0.2315769852118802, 0.029577083852170817, 0.7463197601315408, 0.7750104435257343]\n"
     ]
    },
    {
     "name": "stderr",
     "output_type": "stream",
     "text": [
      "\r",
      "100it [17:29,  8.10s/it]"
     ]
    },
    {
     "name": "stdout",
     "output_type": "stream",
     "text": [
      "[0, 0.6548204440470868, 0.36697748464862406, 0.6933685688330994, 0.7680387588298384, 0.6127588627588627, 0.7252385865359814, 0.0003047597938715576, 0.7408958901698495, 0.6626438168798777, 0.24205674283319775, 0.6371020830735412, 0.7369217717334406, 6.248828344685372e-05, 0.2231300381178529, 0.24178662442316964, 0.6828319113905104, 0.6439461333169729, 0.04739088189906457, 0.46654842485008624, 0.7540482697738963, 0.8339769493596491, 0.1846355827792001, 0.8203670534485892, 0.7047907380932358, 0.7972200349207436, 0.5005495713343592, 0.8391121362349664, 0.7638112463005591, 0.7436311655737531, 0.7655913283337643, 0.013401452618335018, 0.7344119815310597, 0.690811736406507, 0.4259724668214454, 0.001355197181189863, 0.7735618006442281, 0.7415006262097233, 0.823390533570024, 0.9036922057310288, 0, 0.8596660297111306, 0.6924840910393855, 0.43135153598189696, 0.7888557231478747, 0.4825931183667951, 0.6083284404498441, 0.8195015968554231, 0.8574138242490926, 0.809812633363538, 0.7472780469087247, 0.678177274935795, 0.8975682868253191, 0.7067268875654502, 0.6964956830878618, 0.6602183194682865, 0.7568272545817456, 0.7672264770866962, 0.8558214246150437, 0.7741527241527242, 0.7665639867575804, 0.690652114967462, 0.8130305913348946, 0.7776855635001703, 0.8412445914991092, 0.8104241281809613, 0, 0.44630179424293276, 0.8917618364166278, 0.48821918533119896, 0.7428073979172826, 0.7980395412222084, 0.6095419096926404, 0, 0, 0, 0.7513156247144545, 0.7386588770090308, 0.812949360405339, 0.05832297820700079, 0.6477563891991328, 0.7370564516129032, 0.8667888624721628, 0.8293078393166706, 0, 0.7336764617870609, 0.777878451843237, 0.5894467287023011, 0.16694698777449568, 0.7887184654426034, 0, 0.0020099811229909743, 0.6435864709636248, 0.854059051963262, 0.8340886056779394, 0.4987240180486722, 0.6972859140984741, 0.7247714359876561, 0.7239895662462689, 0.8703667841512065, 0.827850325579418, 0.2042517091671241, 0.5455470737913486, 0.7937845667632342, 0.2315769852118802, 0.029577083852170817, 0.7463197601315408, 0.7750104435257343, 0.561096106975825]\n"
     ]
    },
    {
     "name": "stderr",
     "output_type": "stream",
     "text": [
      "\r",
      "101it [17:32,  6.46s/it]"
     ]
    },
    {
     "name": "stdout",
     "output_type": "stream",
     "text": [
      "[0, 0.6548204440470868, 0.36697748464862406, 0.6933685688330994, 0.7680387588298384, 0.6127588627588627, 0.7252385865359814, 0.0003047597938715576, 0.7408958901698495, 0.6626438168798777, 0.24205674283319775, 0.6371020830735412, 0.7369217717334406, 6.248828344685372e-05, 0.2231300381178529, 0.24178662442316964, 0.6828319113905104, 0.6439461333169729, 0.04739088189906457, 0.46654842485008624, 0.7540482697738963, 0.8339769493596491, 0.1846355827792001, 0.8203670534485892, 0.7047907380932358, 0.7972200349207436, 0.5005495713343592, 0.8391121362349664, 0.7638112463005591, 0.7436311655737531, 0.7655913283337643, 0.013401452618335018, 0.7344119815310597, 0.690811736406507, 0.4259724668214454, 0.001355197181189863, 0.7735618006442281, 0.7415006262097233, 0.823390533570024, 0.9036922057310288, 0, 0.8596660297111306, 0.6924840910393855, 0.43135153598189696, 0.7888557231478747, 0.4825931183667951, 0.6083284404498441, 0.8195015968554231, 0.8574138242490926, 0.809812633363538, 0.7472780469087247, 0.678177274935795, 0.8975682868253191, 0.7067268875654502, 0.6964956830878618, 0.6602183194682865, 0.7568272545817456, 0.7672264770866962, 0.8558214246150437, 0.7741527241527242, 0.7665639867575804, 0.690652114967462, 0.8130305913348946, 0.7776855635001703, 0.8412445914991092, 0.8104241281809613, 0, 0.44630179424293276, 0.8917618364166278, 0.48821918533119896, 0.7428073979172826, 0.7980395412222084, 0.6095419096926404, 0, 0, 0, 0.7513156247144545, 0.7386588770090308, 0.812949360405339, 0.05832297820700079, 0.6477563891991328, 0.7370564516129032, 0.8667888624721628, 0.8293078393166706, 0, 0.7336764617870609, 0.777878451843237, 0.5894467287023011, 0.16694698777449568, 0.7887184654426034, 0, 0.0020099811229909743, 0.6435864709636248, 0.854059051963262, 0.8340886056779394, 0.4987240180486722, 0.6972859140984741, 0.7247714359876561, 0.7239895662462689, 0.8703667841512065, 0.827850325579418, 0.2042517091671241, 0.5455470737913486, 0.7937845667632342, 0.2315769852118802, 0.029577083852170817, 0.7463197601315408, 0.7750104435257343, 0.561096106975825, 0.03084171532893496]\n"
     ]
    },
    {
     "name": "stderr",
     "output_type": "stream",
     "text": [
      "\r",
      "102it [17:35,  5.55s/it]"
     ]
    },
    {
     "name": "stdout",
     "output_type": "stream",
     "text": [
      "[0, 0.6548204440470868, 0.36697748464862406, 0.6933685688330994, 0.7680387588298384, 0.6127588627588627, 0.7252385865359814, 0.0003047597938715576, 0.7408958901698495, 0.6626438168798777, 0.24205674283319775, 0.6371020830735412, 0.7369217717334406, 6.248828344685372e-05, 0.2231300381178529, 0.24178662442316964, 0.6828319113905104, 0.6439461333169729, 0.04739088189906457, 0.46654842485008624, 0.7540482697738963, 0.8339769493596491, 0.1846355827792001, 0.8203670534485892, 0.7047907380932358, 0.7972200349207436, 0.5005495713343592, 0.8391121362349664, 0.7638112463005591, 0.7436311655737531, 0.7655913283337643, 0.013401452618335018, 0.7344119815310597, 0.690811736406507, 0.4259724668214454, 0.001355197181189863, 0.7735618006442281, 0.7415006262097233, 0.823390533570024, 0.9036922057310288, 0, 0.8596660297111306, 0.6924840910393855, 0.43135153598189696, 0.7888557231478747, 0.4825931183667951, 0.6083284404498441, 0.8195015968554231, 0.8574138242490926, 0.809812633363538, 0.7472780469087247, 0.678177274935795, 0.8975682868253191, 0.7067268875654502, 0.6964956830878618, 0.6602183194682865, 0.7568272545817456, 0.7672264770866962, 0.8558214246150437, 0.7741527241527242, 0.7665639867575804, 0.690652114967462, 0.8130305913348946, 0.7776855635001703, 0.8412445914991092, 0.8104241281809613, 0, 0.44630179424293276, 0.8917618364166278, 0.48821918533119896, 0.7428073979172826, 0.7980395412222084, 0.6095419096926404, 0, 0, 0, 0.7513156247144545, 0.7386588770090308, 0.812949360405339, 0.05832297820700079, 0.6477563891991328, 0.7370564516129032, 0.8667888624721628, 0.8293078393166706, 0, 0.7336764617870609, 0.777878451843237, 0.5894467287023011, 0.16694698777449568, 0.7887184654426034, 0, 0.0020099811229909743, 0.6435864709636248, 0.854059051963262, 0.8340886056779394, 0.4987240180486722, 0.6972859140984741, 0.7247714359876561, 0.7239895662462689, 0.8703667841512065, 0.827850325579418, 0.2042517091671241, 0.5455470737913486, 0.7937845667632342, 0.2315769852118802, 0.029577083852170817, 0.7463197601315408, 0.7750104435257343, 0.561096106975825, 0.03084171532893496, 0.7890997248171772]\n"
     ]
    },
    {
     "name": "stderr",
     "output_type": "stream",
     "text": [
      "\r",
      "103it [17:55,  9.69s/it]"
     ]
    },
    {
     "name": "stdout",
     "output_type": "stream",
     "text": [
      "[0, 0.6548204440470868, 0.36697748464862406, 0.6933685688330994, 0.7680387588298384, 0.6127588627588627, 0.7252385865359814, 0.0003047597938715576, 0.7408958901698495, 0.6626438168798777, 0.24205674283319775, 0.6371020830735412, 0.7369217717334406, 6.248828344685372e-05, 0.2231300381178529, 0.24178662442316964, 0.6828319113905104, 0.6439461333169729, 0.04739088189906457, 0.46654842485008624, 0.7540482697738963, 0.8339769493596491, 0.1846355827792001, 0.8203670534485892, 0.7047907380932358, 0.7972200349207436, 0.5005495713343592, 0.8391121362349664, 0.7638112463005591, 0.7436311655737531, 0.7655913283337643, 0.013401452618335018, 0.7344119815310597, 0.690811736406507, 0.4259724668214454, 0.001355197181189863, 0.7735618006442281, 0.7415006262097233, 0.823390533570024, 0.9036922057310288, 0, 0.8596660297111306, 0.6924840910393855, 0.43135153598189696, 0.7888557231478747, 0.4825931183667951, 0.6083284404498441, 0.8195015968554231, 0.8574138242490926, 0.809812633363538, 0.7472780469087247, 0.678177274935795, 0.8975682868253191, 0.7067268875654502, 0.6964956830878618, 0.6602183194682865, 0.7568272545817456, 0.7672264770866962, 0.8558214246150437, 0.7741527241527242, 0.7665639867575804, 0.690652114967462, 0.8130305913348946, 0.7776855635001703, 0.8412445914991092, 0.8104241281809613, 0, 0.44630179424293276, 0.8917618364166278, 0.48821918533119896, 0.7428073979172826, 0.7980395412222084, 0.6095419096926404, 0, 0, 0, 0.7513156247144545, 0.7386588770090308, 0.812949360405339, 0.05832297820700079, 0.6477563891991328, 0.7370564516129032, 0.8667888624721628, 0.8293078393166706, 0, 0.7336764617870609, 0.777878451843237, 0.5894467287023011, 0.16694698777449568, 0.7887184654426034, 0, 0.0020099811229909743, 0.6435864709636248, 0.854059051963262, 0.8340886056779394, 0.4987240180486722, 0.6972859140984741, 0.7247714359876561, 0.7239895662462689, 0.8703667841512065, 0.827850325579418, 0.2042517091671241, 0.5455470737913486, 0.7937845667632342, 0.2315769852118802, 0.029577083852170817, 0.7463197601315408, 0.7750104435257343, 0.561096106975825, 0.03084171532893496, 0.7890997248171772, 0.8941890565027225]\n"
     ]
    },
    {
     "name": "stderr",
     "output_type": "stream",
     "text": [
      "\r",
      "104it [18:06, 10.16s/it]"
     ]
    },
    {
     "name": "stdout",
     "output_type": "stream",
     "text": [
      "[0, 0.6548204440470868, 0.36697748464862406, 0.6933685688330994, 0.7680387588298384, 0.6127588627588627, 0.7252385865359814, 0.0003047597938715576, 0.7408958901698495, 0.6626438168798777, 0.24205674283319775, 0.6371020830735412, 0.7369217717334406, 6.248828344685372e-05, 0.2231300381178529, 0.24178662442316964, 0.6828319113905104, 0.6439461333169729, 0.04739088189906457, 0.46654842485008624, 0.7540482697738963, 0.8339769493596491, 0.1846355827792001, 0.8203670534485892, 0.7047907380932358, 0.7972200349207436, 0.5005495713343592, 0.8391121362349664, 0.7638112463005591, 0.7436311655737531, 0.7655913283337643, 0.013401452618335018, 0.7344119815310597, 0.690811736406507, 0.4259724668214454, 0.001355197181189863, 0.7735618006442281, 0.7415006262097233, 0.823390533570024, 0.9036922057310288, 0, 0.8596660297111306, 0.6924840910393855, 0.43135153598189696, 0.7888557231478747, 0.4825931183667951, 0.6083284404498441, 0.8195015968554231, 0.8574138242490926, 0.809812633363538, 0.7472780469087247, 0.678177274935795, 0.8975682868253191, 0.7067268875654502, 0.6964956830878618, 0.6602183194682865, 0.7568272545817456, 0.7672264770866962, 0.8558214246150437, 0.7741527241527242, 0.7665639867575804, 0.690652114967462, 0.8130305913348946, 0.7776855635001703, 0.8412445914991092, 0.8104241281809613, 0, 0.44630179424293276, 0.8917618364166278, 0.48821918533119896, 0.7428073979172826, 0.7980395412222084, 0.6095419096926404, 0, 0, 0, 0.7513156247144545, 0.7386588770090308, 0.812949360405339, 0.05832297820700079, 0.6477563891991328, 0.7370564516129032, 0.8667888624721628, 0.8293078393166706, 0, 0.7336764617870609, 0.777878451843237, 0.5894467287023011, 0.16694698777449568, 0.7887184654426034, 0, 0.0020099811229909743, 0.6435864709636248, 0.854059051963262, 0.8340886056779394, 0.4987240180486722, 0.6972859140984741, 0.7247714359876561, 0.7239895662462689, 0.8703667841512065, 0.827850325579418, 0.2042517091671241, 0.5455470737913486, 0.7937845667632342, 0.2315769852118802, 0.029577083852170817, 0.7463197601315408, 0.7750104435257343, 0.561096106975825, 0.03084171532893496, 0.7890997248171772, 0.8941890565027225, 0]\n"
     ]
    },
    {
     "name": "stderr",
     "output_type": "stream",
     "text": [
      "\r",
      "105it [18:08,  7.82s/it]"
     ]
    },
    {
     "name": "stdout",
     "output_type": "stream",
     "text": [
      "[0, 0.6548204440470868, 0.36697748464862406, 0.6933685688330994, 0.7680387588298384, 0.6127588627588627, 0.7252385865359814, 0.0003047597938715576, 0.7408958901698495, 0.6626438168798777, 0.24205674283319775, 0.6371020830735412, 0.7369217717334406, 6.248828344685372e-05, 0.2231300381178529, 0.24178662442316964, 0.6828319113905104, 0.6439461333169729, 0.04739088189906457, 0.46654842485008624, 0.7540482697738963, 0.8339769493596491, 0.1846355827792001, 0.8203670534485892, 0.7047907380932358, 0.7972200349207436, 0.5005495713343592, 0.8391121362349664, 0.7638112463005591, 0.7436311655737531, 0.7655913283337643, 0.013401452618335018, 0.7344119815310597, 0.690811736406507, 0.4259724668214454, 0.001355197181189863, 0.7735618006442281, 0.7415006262097233, 0.823390533570024, 0.9036922057310288, 0, 0.8596660297111306, 0.6924840910393855, 0.43135153598189696, 0.7888557231478747, 0.4825931183667951, 0.6083284404498441, 0.8195015968554231, 0.8574138242490926, 0.809812633363538, 0.7472780469087247, 0.678177274935795, 0.8975682868253191, 0.7067268875654502, 0.6964956830878618, 0.6602183194682865, 0.7568272545817456, 0.7672264770866962, 0.8558214246150437, 0.7741527241527242, 0.7665639867575804, 0.690652114967462, 0.8130305913348946, 0.7776855635001703, 0.8412445914991092, 0.8104241281809613, 0, 0.44630179424293276, 0.8917618364166278, 0.48821918533119896, 0.7428073979172826, 0.7980395412222084, 0.6095419096926404, 0, 0, 0, 0.7513156247144545, 0.7386588770090308, 0.812949360405339, 0.05832297820700079, 0.6477563891991328, 0.7370564516129032, 0.8667888624721628, 0.8293078393166706, 0, 0.7336764617870609, 0.777878451843237, 0.5894467287023011, 0.16694698777449568, 0.7887184654426034, 0, 0.0020099811229909743, 0.6435864709636248, 0.854059051963262, 0.8340886056779394, 0.4987240180486722, 0.6972859140984741, 0.7247714359876561, 0.7239895662462689, 0.8703667841512065, 0.827850325579418, 0.2042517091671241, 0.5455470737913486, 0.7937845667632342, 0.2315769852118802, 0.029577083852170817, 0.7463197601315408, 0.7750104435257343, 0.561096106975825, 0.03084171532893496, 0.7890997248171772, 0.8941890565027225, 0, 0.5171962367977279]\n"
     ]
    },
    {
     "name": "stderr",
     "output_type": "stream",
     "text": [
      "\r",
      "106it [18:16,  7.67s/it]"
     ]
    },
    {
     "name": "stdout",
     "output_type": "stream",
     "text": [
      "[0, 0.6548204440470868, 0.36697748464862406, 0.6933685688330994, 0.7680387588298384, 0.6127588627588627, 0.7252385865359814, 0.0003047597938715576, 0.7408958901698495, 0.6626438168798777, 0.24205674283319775, 0.6371020830735412, 0.7369217717334406, 6.248828344685372e-05, 0.2231300381178529, 0.24178662442316964, 0.6828319113905104, 0.6439461333169729, 0.04739088189906457, 0.46654842485008624, 0.7540482697738963, 0.8339769493596491, 0.1846355827792001, 0.8203670534485892, 0.7047907380932358, 0.7972200349207436, 0.5005495713343592, 0.8391121362349664, 0.7638112463005591, 0.7436311655737531, 0.7655913283337643, 0.013401452618335018, 0.7344119815310597, 0.690811736406507, 0.4259724668214454, 0.001355197181189863, 0.7735618006442281, 0.7415006262097233, 0.823390533570024, 0.9036922057310288, 0, 0.8596660297111306, 0.6924840910393855, 0.43135153598189696, 0.7888557231478747, 0.4825931183667951, 0.6083284404498441, 0.8195015968554231, 0.8574138242490926, 0.809812633363538, 0.7472780469087247, 0.678177274935795, 0.8975682868253191, 0.7067268875654502, 0.6964956830878618, 0.6602183194682865, 0.7568272545817456, 0.7672264770866962, 0.8558214246150437, 0.7741527241527242, 0.7665639867575804, 0.690652114967462, 0.8130305913348946, 0.7776855635001703, 0.8412445914991092, 0.8104241281809613, 0, 0.44630179424293276, 0.8917618364166278, 0.48821918533119896, 0.7428073979172826, 0.7980395412222084, 0.6095419096926404, 0, 0, 0, 0.7513156247144545, 0.7386588770090308, 0.812949360405339, 0.05832297820700079, 0.6477563891991328, 0.7370564516129032, 0.8667888624721628, 0.8293078393166706, 0, 0.7336764617870609, 0.777878451843237, 0.5894467287023011, 0.16694698777449568, 0.7887184654426034, 0, 0.0020099811229909743, 0.6435864709636248, 0.854059051963262, 0.8340886056779394, 0.4987240180486722, 0.6972859140984741, 0.7247714359876561, 0.7239895662462689, 0.8703667841512065, 0.827850325579418, 0.2042517091671241, 0.5455470737913486, 0.7937845667632342, 0.2315769852118802, 0.029577083852170817, 0.7463197601315408, 0.7750104435257343, 0.561096106975825, 0.03084171532893496, 0.7890997248171772, 0.8941890565027225, 0, 0.5171962367977279, 0.7196384764364105]\n"
     ]
    },
    {
     "name": "stderr",
     "output_type": "stream",
     "text": [
      "107it [18:18, 10.27s/it]"
     ]
    },
    {
     "name": "stdout",
     "output_type": "stream",
     "text": [
      "[0, 0.6548204440470868, 0.36697748464862406, 0.6933685688330994, 0.7680387588298384, 0.6127588627588627, 0.7252385865359814, 0.0003047597938715576, 0.7408958901698495, 0.6626438168798777, 0.24205674283319775, 0.6371020830735412, 0.7369217717334406, 6.248828344685372e-05, 0.2231300381178529, 0.24178662442316964, 0.6828319113905104, 0.6439461333169729, 0.04739088189906457, 0.46654842485008624, 0.7540482697738963, 0.8339769493596491, 0.1846355827792001, 0.8203670534485892, 0.7047907380932358, 0.7972200349207436, 0.5005495713343592, 0.8391121362349664, 0.7638112463005591, 0.7436311655737531, 0.7655913283337643, 0.013401452618335018, 0.7344119815310597, 0.690811736406507, 0.4259724668214454, 0.001355197181189863, 0.7735618006442281, 0.7415006262097233, 0.823390533570024, 0.9036922057310288, 0, 0.8596660297111306, 0.6924840910393855, 0.43135153598189696, 0.7888557231478747, 0.4825931183667951, 0.6083284404498441, 0.8195015968554231, 0.8574138242490926, 0.809812633363538, 0.7472780469087247, 0.678177274935795, 0.8975682868253191, 0.7067268875654502, 0.6964956830878618, 0.6602183194682865, 0.7568272545817456, 0.7672264770866962, 0.8558214246150437, 0.7741527241527242, 0.7665639867575804, 0.690652114967462, 0.8130305913348946, 0.7776855635001703, 0.8412445914991092, 0.8104241281809613, 0, 0.44630179424293276, 0.8917618364166278, 0.48821918533119896, 0.7428073979172826, 0.7980395412222084, 0.6095419096926404, 0, 0, 0, 0.7513156247144545, 0.7386588770090308, 0.812949360405339, 0.05832297820700079, 0.6477563891991328, 0.7370564516129032, 0.8667888624721628, 0.8293078393166706, 0, 0.7336764617870609, 0.777878451843237, 0.5894467287023011, 0.16694698777449568, 0.7887184654426034, 0, 0.0020099811229909743, 0.6435864709636248, 0.854059051963262, 0.8340886056779394, 0.4987240180486722, 0.6972859140984741, 0.7247714359876561, 0.7239895662462689, 0.8703667841512065, 0.827850325579418, 0.2042517091671241, 0.5455470737913486, 0.7937845667632342, 0.2315769852118802, 0.029577083852170817, 0.7463197601315408, 0.7750104435257343, 0.561096106975825, 0.03084171532893496, 0.7890997248171772, 0.8941890565027225, 0, 0.5171962367977279, 0.7196384764364105, 0.7293444688287409]\n"
     ]
    },
    {
     "name": "stderr",
     "output_type": "stream",
     "text": [
      "\n"
     ]
    }
   ],
   "source": [
    "groundtruth_path = r'../dataset/processed/groundtruth'\n",
    "segmentation_output_dir = r\"../dataset/output/segmentation\"\n",
    "cropped_raw_dir = r\"../dataset/processed/cropped_raw/\"\n",
    "features_dir = r\"../dataset/output/features\"\n",
    "\n",
    "if not os.path.isdir(features_dir):\n",
    "    os.makedirs(features_dir)\n",
    "    print(f\"New directory created '{features_dir}'\")\n",
    "\n",
    "\n",
    "with open(os.path.join(features_dir, csv_filename), 'w', newline='') as csvfile:\n",
    "    writer = csv.writer(csvfile)\n",
    "    \n",
    "    # let everything be inside this scope to be able to access the csv later\n",
    "    IOU_dataset_vector = []\n",
    "    # loop over all of the gt masks\n",
    "    for idx, file_name in tqdm(enumerate(os.listdir(groundtruth_path))):\n",
    "        # print(file_name)\n",
    "\n",
    "        # getting the ground truth image\n",
    "        ground_truth = cv2.imread(\n",
    "            os.path.join(groundtruth_path, file_name)\n",
    "            , cv2.IMREAD_UNCHANGED)\n",
    "\n",
    "        # upsample\n",
    "        ground_truth = upsample(ground_truth)\n",
    "\n",
    "        # binarize\n",
    "        ground_truth = binarize(ground_truth)\n",
    "\n",
    "        # find contours\n",
    "        contours_gt, _ = cv2.findContours(ground_truth, cv2.RETR_EXTERNAL, cv2.CHAIN_APPROX_SIMPLE)\n",
    "        # print(len(contours_gt), file_name)\n",
    "\n",
    "        # getting the cropped raw image\n",
    "        cropped_raw = cv2.imread(\n",
    "            os.path.join(cropped_raw_dir, file_name)\n",
    "            , cv2.IMREAD_UNCHANGED)\n",
    "\n",
    "        cropped_raw = convert_to_8bit(cropped_raw)\n",
    "\n",
    "        # print(cropped_raw.shape, cropped_raw.dtype)\n",
    "        # print(ground_truth.shape, ground_truth.dtype)\n",
    "\n",
    "        # show_image(\"cropped_raw\", cropped_raw)\n",
    "        # show_image(\"ground_truth\", ground_truth)\n",
    "\n",
    "        IOU_image_vector = []\n",
    "        # iterate over all gt contours then over all the scales then on every contours for a single scale segmentation image\n",
    "        for i, contour_gt in enumerate(contours_gt):\n",
    "\n",
    "            gt_candidate = np.zeros_like(ground_truth)\n",
    "            cv2.drawContours(gt_candidate, [contour_gt], 0, (255, 255, 255), cv2.FILLED)\n",
    "\n",
    "            #show_image(\"gt_candidate\", gt_candidate)\n",
    "\n",
    "            max_iou = 0\n",
    "\n",
    "            # loop over all of the segmentation masks\n",
    "            # image names has an extra number at the end indicating the scale number\n",
    "            for index in range(10):\n",
    "\n",
    "                segmentation_mask_file_dir = os.path.join(segmentation_output_dir, file_name.split('.tif')[0] + '_' + str(index) + '.tif')\n",
    "                # print(file_dir)\n",
    "\n",
    "                segmentation_mask = cv2.imread(segmentation_mask_file_dir, cv2.IMREAD_UNCHANGED)\n",
    "                segmentation_mask = upsample(segmentation_mask)\n",
    "\n",
    "                # print(segmentation_mask.shape, segmentation_mask.dtype)\n",
    "                # show_image(f\"{index}\", segmentation_mask)\n",
    "\n",
    "                # binarize\n",
    "                segmentation_mask = binarize(segmentation_mask)\n",
    "\n",
    "\n",
    "                # find contours\n",
    "                contours_segmentation, _ = cv2.findContours(segmentation_mask, cv2.RETR_EXTERNAL, cv2.CHAIN_APPROX_SIMPLE)\n",
    "                # print(\"contours_segmentation: \", len(contours_segmentation))\n",
    "\n",
    "                # iterate over segmentation contours\n",
    "                for j, contour_segmentation in enumerate(contours_segmentation):\n",
    "                    mask_candidate = np.zeros_like(segmentation_mask)\n",
    "                    cv2.drawContours(mask_candidate, [contour_segmentation], 0, (255, 255, 255), cv2.FILLED)                \n",
    "\n",
    "                    #### IOU Calculation code starts ####\n",
    "                    # Compute the intersection and union images\n",
    "                    intersection = cv2.bitwise_and(mask_candidate, gt_candidate)\n",
    "                    union = cv2.bitwise_or(mask_candidate, gt_candidate)\n",
    "\n",
    "                    # Compute the number of white pixels in the intersection and union images\n",
    "                    intersection_pixels = cv2.countNonZero(intersection)\n",
    "                    union_pixels = cv2.countNonZero(union)\n",
    "\n",
    "                    # Compute the IoU\n",
    "                    iou = intersection_pixels / union_pixels\n",
    "\n",
    "                    if iou > max_iou:\n",
    "                        max_iou = iou\n",
    "                        # print(\"max_iou: \", max_iou)\n",
    "\n",
    "                        # Get the bounding rectangle of the contour\n",
    "                        # let the size be as the contours_segmentation not contours_gt so that the bb is surrounding the full seg mass\n",
    "                        # x, y, w, h = cv2.boundingRect(contour_segmentation) \n",
    "\n",
    "                        # Draw the bounding box with a random color\n",
    "                        # cv2.rectangle(output_image, (x, y), (x + w, y + h), (255, 255, 255), 3)\n",
    "\n",
    "                    # show the image region with its iou as a file name\n",
    "                    # show_image(f\"mask_candidate, IOU:{iou}\", mask_candidate)\n",
    "\n",
    "                    #### Bitwise to get exact region from cropped raw ####\n",
    "                    # print(cropped_raw.dtype, mask_candidate.dtype)\n",
    "\n",
    "                    # For glcm features, we extract them from the bounding rectange of the contour\n",
    "                    output_image = mask_candidate\n",
    "\n",
    "                    # Get the bounding rectangle of the contour\n",
    "                    x, y, w, h = cv2.boundingRect(contour_segmentation) \n",
    "\n",
    "                    # Draw the bounding box with a random color (just for display)\n",
    "                    # cv2.rectangle(output_image, (x, y), (x + w, y + h), (255, 255, 255), 3)\n",
    "                    # show_image(f\"segmented_region_raw, IOU:{iou}\", output_image)\n",
    "\n",
    "                    cropped_raw_box = cropped_raw[y:y+h, x:x+w]\n",
    "                    # show_image(f\"cropped_raw_box, IOU:{iou}\", cropped_raw_box)\n",
    "\n",
    "                    ### Extracting texture features using glcm\n",
    "                    texture_features = fe.extract_texture_features(cropped_raw_box)\n",
    "                    # print(texture_features)\n",
    "\n",
    "                    ### Extracting shape features\n",
    "                    shape_features = fe.extract_shape_features(image=cropped_raw, labels=mask_candidate)\n",
    "                    # print(shape_features)\n",
    "\n",
    "                    ### Extracting intensity features\n",
    "                    intensity_features = fe.extract_intensity_features(image=cropped_raw, labels=mask_candidate)\n",
    "                    # print(intensity_features)\n",
    "\n",
    "                    ### Concatinate all features with labels\n",
    "                    combined_features = np.concatenate([texture_features, shape_features, intensity_features])\n",
    "                    # print(combined_features.ndim)\n",
    "                    \n",
    "                    # Reshape to a 2D array\n",
    "                    combined_features = combined_features.reshape(-1, 2)\n",
    "                    # print(combined_features.ndim)\n",
    "\n",
    "                    # Calculate the minimum and maximum values of combined_features\n",
    "                    # Note -> Norm every col separately\n",
    "                    min_value = np.min(combined_features, axis=0)\n",
    "                    max_value = np.max(combined_features, axis=0)\n",
    "\n",
    "                    # Perform min-max scaling\n",
    "                    normalized_features = (combined_features - min_value) / (max_value - min_value)\n",
    "                    normalized_features = normalized_features.reshape(-1, 1)\n",
    "                    # print(normalized_features)\n",
    "\n",
    "                    # Append the label to the feature vector\n",
    "                    candidate_label = 1 if iou > 0.5 else 0\n",
    "                    normalized_features = np.append(normalized_features, candidate_label)\n",
    "                    # print(normalized_features.ndim)\n",
    "\n",
    "                    # Write all of the features with the labels in a single file\n",
    "                    writer.writerow(normalized_features)\n",
    "\n",
    "\n",
    "\n",
    "                    # segmented_region_raw = cv2.bitwise_and(cropped_raw, mask_candidate)\n",
    "                    # show_image(f\"segmented_region_raw, IOU:{iou}\", segmented_region_raw)\n",
    "\n",
    "                    #### feature extraction ####\n",
    "                    # extract features from every scale\n",
    "                    # features_tp = [\n",
    "                    #     [features_scale_1]\n",
    "                    # ]\n",
    "\n",
    "                    # Note that we iterate twice, and calculate iou for each gt mass. Should we push outside this loop into the feature vector? No since IOU could increase on the second loop of gt\n",
    "                    # print(segmented_region_raw.shape, segmented_region_raw.dtype)\n",
    "                    # feature_region = fe.extract_texture_features(segmented_region_raw)\n",
    "                    # print(j, feature_region)\n",
    "\n",
    "                    # break\n",
    "\n",
    "                # break\n",
    "\n",
    "\n",
    "\n",
    "                    # Optionally, display the index of each bounding box\n",
    "                    # cv2.putText(output_image, \"IOU: \" + str(max_iou), (x, y - 5), cv2.FONT_HERSHEY_SIMPLEX, 1, (255, 255, 255), 4)\n",
    "                # cv2.putText(output_image, \"Number of masses: \" + str(len(contours_segmentation)), (50, output_image.shape[0] - 50), cv2.FONT_HERSHEY_SIMPLEX, 1, (255, 255, 255), 4)\n",
    "                # show_image(\"output_image\", output_image)\n",
    "\n",
    "            IOU_image_vector.append(max_iou)\n",
    "            # break\n",
    "\n",
    "\n",
    "        print(IOU_dataset_vector)\n",
    "        IOU_dataset_vector += IOU_image_vector\n",
    "        # break\n",
    "\n",
    "\n"
   ]
  },
  {
   "cell_type": "markdown",
   "id": "7b586bfe",
   "metadata": {},
   "source": [
    "Extracting features from negative images"
   ]
  },
  {
   "cell_type": "code",
   "execution_count": 18,
   "id": "1bf8825a",
   "metadata": {},
   "outputs": [
    {
     "name": "stderr",
     "output_type": "stream",
     "text": [
      "303it [35:59,  7.13s/it]\n"
     ]
    }
   ],
   "source": [
    "groundtruth_path = r'../dataset/processed/groundtruth'\n",
    "segmentation_output_dir = r\"../dataset/output/segmentation_negatives\"\n",
    "cropped_raw_dir = r\"../dataset/processed/cropped_raw/\"\n",
    "features_dir = r\"../dataset/output/features\"\n",
    "negative_images_dir = r\"../dataset/negative_images\"\n",
    "\n",
    "if not os.path.isdir(features_dir):\n",
    "    os.makedirs(features_dir)\n",
    "    print(f\"New directory created '{features_dir}'\")\n",
    "\n",
    "with open(os.path.join(features_dir, csv_filename), 'a', newline='') as csvfile:\n",
    "    writer = csv.writer(csvfile)\n",
    "    \n",
    "    # let everything be inside this scope to be able to access the csv later\n",
    "    # IOU_dataset_vector = []\n",
    "    # loop over all of the gt masks\n",
    "    for idx, file_name in tqdm(enumerate(os.listdir(negative_images_dir))):\n",
    "        # print(file_name)\n",
    "        \n",
    "\n",
    "        # getting the ground truth image\n",
    "#         ground_truth = cv2.imread(\n",
    "#             os.path.join(groundtruth_path, file_name)\n",
    "#             , cv2.IMREAD_UNCHANGED)\n",
    "\n",
    "        # upsample\n",
    "#         ground_truth = upsample(ground_truth)\n",
    "\n",
    "        # binarize\n",
    "#         ground_truth = binarize(ground_truth)\n",
    "\n",
    "        # find contours\n",
    "#         contours_gt, _ = cv2.findContours(ground_truth, cv2.RETR_EXTERNAL, cv2.CHAIN_APPROX_SIMPLE)\n",
    "        # print(len(contours_gt), file_name)\n",
    "\n",
    "        # getting the cropped raw image\n",
    "        cropped_raw = cv2.imread(\n",
    "            os.path.join(cropped_raw_dir, file_name)\n",
    "            , cv2.IMREAD_UNCHANGED)\n",
    "\n",
    "        # print(cropped_raw.shape, cropped_raw.dtype)\n",
    "\n",
    "        cropped_raw = convert_to_8bit(cropped_raw)\n",
    "\n",
    "        # print(cropped_raw.shape, cropped_raw.dtype)\n",
    "#         print(ground_truth.shape, ground_truth.dtype)\n",
    "\n",
    "        # show_image(\"cropped_raw\", cropped_raw)\n",
    "        # show_image(\"ground_truth\", ground_truth)\n",
    "\n",
    "        # IOU_image_vector = []\n",
    "        # iterate over all gt contours then over all the scales then on every contours for a single scale segmentation image\n",
    "        # # for i, contour_gt in enumerate(contours_gt):\n",
    "\n",
    "            # gt_candidate = np.zeros_like(ground_truth)\n",
    "            # cv2.drawContours(gt_candidate, [contour_gt], 0, (255, 255, 255), cv2.FILLED)\n",
    "\n",
    "            #show_image(\"gt_candidate\", gt_candidate)\n",
    "\n",
    "            # max_iou = 0\n",
    "\n",
    "            # loop over all of the segmentation masks\n",
    "            # image names has an extra number at the end indicating the scale number\n",
    "        for index in range(10):\n",
    "\n",
    "            segmentation_mask_file_dir = os.path.join(segmentation_output_dir, file_name.split('.tif')[0] + '_' + str(index) + '.tif')\n",
    "            # print(file_dir)\n",
    "\n",
    "            segmentation_mask = cv2.imread(segmentation_mask_file_dir, cv2.IMREAD_UNCHANGED)\n",
    "            segmentation_mask = upsample(segmentation_mask)\n",
    "\n",
    "            # print(segmentation_mask.shape, segmentation_mask.dtype)\n",
    "            # show_image(f\"{index}\", segmentation_mask)\n",
    "\n",
    "            # binarize\n",
    "            segmentation_mask = binarize(segmentation_mask)\n",
    "            \n",
    "            \n",
    "            # find contours\n",
    "            contours_segmentation, _ = cv2.findContours(segmentation_mask, cv2.RETR_EXTERNAL, cv2.CHAIN_APPROX_SIMPLE)\n",
    "            # print(\"contours_segmentation: \", len(contours_segmentation))\n",
    "\n",
    "            # iterate over segmentation contours\n",
    "            for j, contour_segmentation in enumerate(contours_segmentation):\n",
    "                mask_candidate = np.zeros_like(segmentation_mask)\n",
    "                cv2.drawContours(mask_candidate, [contour_segmentation], 0, (255, 255, 255), cv2.FILLED)                \n",
    "\n",
    "                #### IOU Calculation code starts ####\n",
    "                # Compute the intersection and union images\n",
    "                # intersection = cv2.bitwise_and(mask_candidate, gt_candidate)\n",
    "                # union = cv2.bitwise_or(mask_candidate, gt_candidate)\n",
    "\n",
    "                # Compute the number of white pixels in the intersection and union images\n",
    "                # intersection_pixels = cv2.countNonZero(intersection)\n",
    "                # union_pixels = cv2.countNonZero(union)\n",
    "\n",
    "                # Compute the IoU\n",
    "                # iou = intersection_pixels / union_pixels\n",
    "\n",
    "#                 if iou > max_iou:\n",
    "#                     max_iou = iou\n",
    "                    # print(\"max_iou: \", max_iou)\n",
    "\n",
    "                    # Get the bounding rectangle of the contour\n",
    "                    # let the size be as the contours_segmentation not contours_gt so that the bb is surrounding the full seg mass\n",
    "                    # x, y, w, h = cv2.boundingRect(contour_segmentation) \n",
    "\n",
    "                    # Draw the bounding box with a random color\n",
    "                    # cv2.rectangle(output_image, (x, y), (x + w, y + h), (255, 255, 255), 3)\n",
    "\n",
    "                # show the image region with its iou as a file name\n",
    "                # show_image(f\"mask_candidate, IOU:{iou}\", mask_candidate)\n",
    "\n",
    "                #### Bitwise to get exact region from cropped raw ####\n",
    "                # print(cropped_raw.dtype, mask_candidate.dtype)\n",
    "\n",
    "                # For glcm features, we extract them from the bounding rectange of the contour\n",
    "                output_image = mask_candidate\n",
    "\n",
    "                # Get the bounding rectangle of the contour\n",
    "                x, y, w, h = cv2.boundingRect(contour_segmentation) \n",
    "\n",
    "                # Draw the bounding box with a random color (just for display)\n",
    "                # cv2.rectangle(output_image, (x, y), (x + w, y + h), (255, 255, 255), 3)\n",
    "                # how_image(f\"segmented_region_raw, IOU:{0}\", output_image)\n",
    "\n",
    "                cropped_raw_box = cropped_raw[y:y+h, x:x+w]\n",
    "                # show_image(f\"cropped_raw_box, IOU:{iou}\", cropped_raw_box)\n",
    "\n",
    "                ### Extracting texture features using glcm\n",
    "                texture_features = fe.extract_texture_features(cropped_raw_box)\n",
    "                # print(texture_features)\n",
    "\n",
    "                ### Extracting shape features\n",
    "                shape_features = fe.extract_shape_features(image=cropped_raw, labels=mask_candidate)\n",
    "                # print(shape_features)\n",
    "\n",
    "                ### Extracting intensity features\n",
    "                intensity_features = fe.extract_intensity_features(image=cropped_raw, labels=mask_candidate)\n",
    "                # print(intensity_features)\n",
    "\n",
    "                ### Concatinate all features with labels\n",
    "                combined_features = np.concatenate([texture_features, shape_features, intensity_features])\n",
    "                # print(combined_features.ndim)\n",
    "\n",
    "                # Reshape to a 2D array\n",
    "                combined_features = combined_features.reshape(-1, 2)\n",
    "                # print(combined_features.ndim)\n",
    "\n",
    "                # Calculate the minimum and maximum values of combined_features\n",
    "                # Note -> Norm every col separately\n",
    "                min_value = np.min(combined_features, axis=0)\n",
    "                max_value = np.max(combined_features, axis=0)\n",
    "\n",
    "                # Perform min-max scaling\n",
    "                normalized_features = (combined_features - min_value) / (max_value - min_value)\n",
    "                normalized_features = normalized_features.reshape(-1, 1)\n",
    "                # print(normalized_features)\n",
    "\n",
    "                # Append the label to the feature vector\n",
    "                candidate_label = 0\n",
    "                normalized_features = np.append(normalized_features, candidate_label)\n",
    "                # print(normalized_features)\n",
    "\n",
    "                # Write all of the features with the labels in a single file\n",
    "                writer.writerow(normalized_features)\n",
    "\n",
    "\n",
    "\n",
    "                # segmented_region_raw = cv2.bitwise_and(cropped_raw, mask_candidate)\n",
    "                # show_image(f\"segmented_region_raw, IOU:{iou}\", segmented_region_raw)\n",
    "\n",
    "                #### feature extraction ####\n",
    "                # extract features from every scale\n",
    "                # features_tp = [\n",
    "                #     [features_scale_1]\n",
    "                # ]\n",
    "\n",
    "                # Note that we iterate twice, and calculate iou for each gt mass. Should we push outside this loop into the feature vector? No since IOU could increase on the second loop of gt\n",
    "                # print(segmented_region_raw.shape, segmented_region_raw.dtype)\n",
    "                # feature_region = fe.extract_texture_features(segmented_region_raw)\n",
    "                # print(j, feature_region)\n",
    "\n",
    "                # break\n",
    "\n",
    "            # break\n",
    "\n",
    "\n",
    "\n",
    "                # Optionally, display the index of each bounding box\n",
    "                # cv2.putText(output_image, \"IOU: \" + str(max_iou), (x, y - 5), cv2.FONT_HERSHEY_SIMPLEX, 1, (255, 255, 255), 4)\n",
    "            # cv2.putText(output_image, \"Number of masses: \" + str(len(contours_segmentation)), (50, output_image.shape[0] - 50), cv2.FONT_HERSHEY_SIMPLEX, 1, (255, 255, 255), 4)\n",
    "            # show_image(\"output_image\", output_image)\n",
    "\n",
    "        # IOU_image_vector.append(max_iou)\n",
    "        # break\n",
    "\n",
    "\n",
    "        # print(IOU_dataset_vector)\n",
    "        # IOU_dataset_vector += IOU_image_vector\n",
    "        # break\n",
    "\n",
    "\n"
   ]
  },
  {
   "cell_type": "code",
   "execution_count": 19,
   "id": "add6c3ce",
   "metadata": {
    "scrolled": true
   },
   "outputs": [
    {
     "data": {
      "text/plain": [
       "[0,\n",
       " 0.6548204440470868,\n",
       " 0.36697748464862406,\n",
       " 0.6933685688330994,\n",
       " 0.7680387588298384,\n",
       " 0.6127588627588627,\n",
       " 0.7252385865359814,\n",
       " 0.0003047597938715576,\n",
       " 0.7408958901698495,\n",
       " 0.6626438168798777,\n",
       " 0.24205674283319775,\n",
       " 0.6371020830735412,\n",
       " 0.7369217717334406,\n",
       " 6.248828344685372e-05,\n",
       " 0.2231300381178529,\n",
       " 0.24178662442316964,\n",
       " 0.6828319113905104,\n",
       " 0.6439461333169729,\n",
       " 0.04739088189906457,\n",
       " 0.46654842485008624,\n",
       " 0.7540482697738963,\n",
       " 0.8339769493596491,\n",
       " 0.1846355827792001,\n",
       " 0.8203670534485892,\n",
       " 0.7047907380932358,\n",
       " 0.7972200349207436,\n",
       " 0.5005495713343592,\n",
       " 0.8391121362349664,\n",
       " 0.7638112463005591,\n",
       " 0.7436311655737531,\n",
       " 0.7655913283337643,\n",
       " 0.013401452618335018,\n",
       " 0.7344119815310597,\n",
       " 0.690811736406507,\n",
       " 0.4259724668214454,\n",
       " 0.001355197181189863,\n",
       " 0.7735618006442281,\n",
       " 0.7415006262097233,\n",
       " 0.823390533570024,\n",
       " 0.9036922057310288,\n",
       " 0,\n",
       " 0.8596660297111306,\n",
       " 0.6924840910393855,\n",
       " 0.43135153598189696,\n",
       " 0.7888557231478747,\n",
       " 0.4825931183667951,\n",
       " 0.6083284404498441,\n",
       " 0.8195015968554231,\n",
       " 0.8574138242490926,\n",
       " 0.809812633363538,\n",
       " 0.7472780469087247,\n",
       " 0.678177274935795,\n",
       " 0.8975682868253191,\n",
       " 0.7067268875654502,\n",
       " 0.6964956830878618,\n",
       " 0.6602183194682865,\n",
       " 0.7568272545817456,\n",
       " 0.7672264770866962,\n",
       " 0.8558214246150437,\n",
       " 0.7741527241527242,\n",
       " 0.7665639867575804,\n",
       " 0.690652114967462,\n",
       " 0.8130305913348946,\n",
       " 0.7776855635001703,\n",
       " 0.8412445914991092,\n",
       " 0.8104241281809613,\n",
       " 0,\n",
       " 0.44630179424293276,\n",
       " 0.8917618364166278,\n",
       " 0.48821918533119896,\n",
       " 0.7428073979172826,\n",
       " 0.7980395412222084,\n",
       " 0.6095419096926404,\n",
       " 0,\n",
       " 0,\n",
       " 0,\n",
       " 0.7513156247144545,\n",
       " 0.7386588770090308,\n",
       " 0.812949360405339,\n",
       " 0.05832297820700079,\n",
       " 0.6477563891991328,\n",
       " 0.7370564516129032,\n",
       " 0.8667888624721628,\n",
       " 0.8293078393166706,\n",
       " 0,\n",
       " 0.7336764617870609,\n",
       " 0.777878451843237,\n",
       " 0.5894467287023011,\n",
       " 0.16694698777449568,\n",
       " 0.7887184654426034,\n",
       " 0,\n",
       " 0.0020099811229909743,\n",
       " 0.6435864709636248,\n",
       " 0.854059051963262,\n",
       " 0.8340886056779394,\n",
       " 0.4987240180486722,\n",
       " 0.6972859140984741,\n",
       " 0.7247714359876561,\n",
       " 0.7239895662462689,\n",
       " 0.8703667841512065,\n",
       " 0.827850325579418,\n",
       " 0.2042517091671241,\n",
       " 0.5455470737913486,\n",
       " 0.7937845667632342,\n",
       " 0.2315769852118802,\n",
       " 0.029577083852170817,\n",
       " 0.7463197601315408,\n",
       " 0.7750104435257343,\n",
       " 0.561096106975825,\n",
       " 0.03084171532893496,\n",
       " 0.7890997248171772,\n",
       " 0.8941890565027225,\n",
       " 0,\n",
       " 0.5171962367977279,\n",
       " 0.7196384764364105,\n",
       " 0.7293444688287409,\n",
       " 0.6997651078368567]"
      ]
     },
     "execution_count": 19,
     "metadata": {},
     "output_type": "execute_result"
    }
   ],
   "source": [
    "IOU_dataset_vector"
   ]
  },
  {
   "cell_type": "code",
   "execution_count": 20,
   "id": "56d13818",
   "metadata": {},
   "outputs": [
    {
     "name": "stdout",
     "output_type": "stream",
     "text": [
      "0.717948717948718\n"
     ]
    }
   ],
   "source": [
    "tp = 0\n",
    "fn = 0\n",
    "# print(IOU_vector_supervector)\n",
    "for _, value  in enumerate(IOU_dataset_vector):\n",
    "    if value > 0.5:\n",
    "        tp = tp+1\n",
    "    else:\n",
    "        fn = fn+1\n",
    "sensitivity = tp / (tp + fn)\n",
    "\n",
    "print(sensitivity)"
   ]
  },
  {
   "cell_type": "markdown",
   "id": "e6dd0371",
   "metadata": {},
   "source": [
    "Separate the single CSV created to two files, positves"
   ]
  },
  {
   "cell_type": "code",
   "execution_count": 21,
   "id": "69859c56",
   "metadata": {},
   "outputs": [
    {
     "name": "stdout",
     "output_type": "stream",
     "text": [
      "CSV files created successfully.\n"
     ]
    }
   ],
   "source": [
    "## Update the file name everytime this block is excuted\n",
    "file_name = 'output-748343c6-bedf-41c0-9696-0ab3a3085ba3.csv'\n",
    "file_dir = '../dataset/output/features/final/'\n",
    "\n",
    "# Define the file paths\n",
    "full_file = os.path.join(file_dir, file_name)\n",
    "positives_file = os.path.join(file_dir, 'positives.csv')\n",
    "negatives_file = os.path.join(file_dir, 'negatives.csv')\n",
    "\n",
    "# Create two CSV files: positives.csv and negatives.csv\n",
    "with open(positives_file, 'w', newline='') as pfile, open(negatives_file, 'w', newline='') as nfile:\n",
    "    positive_writer = csv.writer(pfile)\n",
    "    negative_writer = csv.writer(nfile)\n",
    "\n",
    "    # Read the original file\n",
    "    with open(full_file, 'r') as file:\n",
    "        reader = csv.reader(file)\n",
    "\n",
    "        # Iterate over each row in the original file\n",
    "        for row in reader:\n",
    "            # Check the value of the last column\n",
    "            if row[-1] == '1.0':\n",
    "                # Write the row to positives.csv\n",
    "                positive_writer.writerow(row[:-1])\n",
    "            elif row[-1] == '0.0':\n",
    "                # Write the row to negatives.csv\n",
    "                negative_writer.writerow(row[:-1])\n",
    "\n",
    "# Print a success message\n",
    "print(\"CSV files created successfully.\")"
   ]
  },
  {
   "cell_type": "code",
   "execution_count": 13,
   "id": "42670ebd",
   "metadata": {},
   "outputs": [],
   "source": [
    "# positive_images_dir = r\"../dataset/processed/positive_images\"\n",
    "# groundtruth_path = r'../dataset/processed/groundtruth'\n",
    "\n",
    "# for idx, file_name in tqdm(enumerate(os.listdir(positive_images_dir))):\n",
    "    \n",
    "#     # Read the input image\n",
    "#     input_image = cv2.imread(\n",
    "#         os.path.join(\n",
    "#             positive_images_dir, \n",
    "#             file_name\n",
    "#         ), cv2.IMREAD_UNCHANGED)\n",
    "    \n",
    "#     # segment the scales with masses \n",
    "#     _, _, _, masses = seg.pipeline(input_image)\n",
    "    \n",
    "#     # read the ground truth\n",
    "#     gt = cv2.imread(os.path.join(groundtruth_path, file_name), cv2.IMREAD_UNCHANGED)\n",
    "    \n",
    "#     # get all contours from all the scales and store in a list, this list is to be reset on every image iteration\n",
    "#     # this is done by iterating over all of the masses, upsampling them, binarize, and find contours\n",
    "#     scales_contours_vector = []\n",
    "#     for index, mass_image in enumerate(masses):\n",
    "#         # upsample\n",
    "#         mass_image = upsample(mass_image)\n",
    "        \n",
    "#         # binarize\n",
    "#         mass_image = binarize(mass_image)\n",
    "\n",
    "#         # finding contours\n",
    "#         contours, _ = cv2.findContours(mass_image, cv2.RETR_EXTERNAL, cv2.CHAIN_APPROX_NONE)    \n",
    "#         scales_contours_vector.append(contours)\n",
    "        \n",
    "#         print(mass_image.shape, len(contours))\n",
    "        \n",
    "        \n",
    "        \n",
    "#     # now upsample and binarize the gt, and get the contours \n",
    "#     gt = upsample(gt)\n",
    "    \n",
    "#     # binarize just in case\n",
    "#     gt = binarize(gt)\n",
    "    \n",
    "#     # calculate both vector_gt_mask, contours_gt\n",
    "#     gt_contours, _ = cv2.findContours(gt, cv2.RETR_EXTERNAL, cv2.CHAIN_APPROX_NONE)\n",
    "#     print(\"len: \" ,len(gt_contours))\n",
    "    \n",
    "#     # Now we can iterate as first block on every contour in gt_contours, and compute the IOU and sensitivity...\n",
    "#     # We need to integrate feature extraction and mass segmentation from raw image here to generate feature vector...\n",
    "    \n",
    "#     # code goes here for calculating the iou for each contour in gt for each contour in segmented\n",
    "#     # inside: code to extract segmented regions from raw images, save them as 16-bit images to prepare for FE\n",
    "#     # can also save images with masses ids and iou printed\n",
    "    \n",
    "    \n",
    "#     # print(len(masses))\n",
    "    \n",
    "#     break\n",
    "\n",
    "\n"
   ]
  },
  {
   "cell_type": "code",
   "execution_count": null,
   "id": "c9c71dcc",
   "metadata": {},
   "outputs": [],
   "source": []
  }
 ],
 "metadata": {
  "kernelspec": {
   "display_name": "Python 3 (ipykernel)",
   "language": "python",
   "name": "python3"
  },
  "language_info": {
   "codemirror_mode": {
    "name": "ipython",
    "version": 3
   },
   "file_extension": ".py",
   "mimetype": "text/x-python",
   "name": "python",
   "nbconvert_exporter": "python",
   "pygments_lexer": "ipython3",
   "version": "3.10.4"
  }
 },
 "nbformat": 4,
 "nbformat_minor": 5
}
